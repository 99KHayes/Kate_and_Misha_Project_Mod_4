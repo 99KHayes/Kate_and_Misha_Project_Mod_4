{
 "cells": [
  {
   "cell_type": "markdown",
   "metadata": {},
   "source": [
    "### Load Libraries & Datasets"
   ]
  },
  {
   "cell_type": "markdown",
   "metadata": {},
   "source": [
    "#### Libraries"
   ]
  },
  {
   "cell_type": "code",
   "execution_count": 13,
   "metadata": {},
   "outputs": [
    {
     "name": "stdout",
     "output_type": "stream",
     "text": [
      "The autoreload extension is already loaded. To reload it, use:\n",
      "  %reload_ext autoreload\n"
     ]
    }
   ],
   "source": [
    "import matplotlib.pyplot as plt\n",
    "import pandas as pd\n",
    "import numpy as np\n",
    "import os\n",
    "import seaborn as sns\n",
    "import sklearn.preprocessing as preprocessing\n",
    "import statsmodels.api as sm\n",
    "import sys\n",
    "\n",
    "from imblearn.over_sampling import SMOTE, ADASYN\n",
    "from sklearn.linear_model import LogisticRegression\n",
    "from sklearn.metrics import precision_score, recall_score, accuracy_score, f1_score\n",
    "from sklearn.metrics import roc_curve, auc\n",
    "from sklearn.model_selection import train_test_split\n",
    "from sklearn.preprocessing import StandardScaler\n",
    "from imblearn.over_sampling import SMOTE, ADASYN\n",
    "\n",
    "\n",
    "src_dir = os.path.join(os.getcwd(), '..', '..', 'src')\n",
    "sys.path.append(src_dir)\n",
    "\n",
    "# helper functions \n",
    "from d03_processing.feature_engineering import process_data_for_model_building\n",
    "from d04_modelling.modelling import get_model_pvalue\n",
    "\n",
    "# Load the \"autoreload\" extension\n",
    "%load_ext autoreload\n",
    "\n",
    "# reload modules so that as you change code in src, it gets loaded\n",
    "%autoreload\n",
    "\n",
    "%matplotlib inline"
   ]
  },
  {
   "cell_type": "markdown",
   "metadata": {},
   "source": [
    "#### Datasets"
   ]
  },
  {
   "cell_type": "code",
   "execution_count": 14,
   "metadata": {},
   "outputs": [],
   "source": [
    "gasoline_proc = pd.read_csv('../../data/03_processed/gasoline_processed.csv')\n",
    "astm = pd.read_csv('../../data/01_raw/ASTM_fuel.csv')\n",
    "astm.columns = ['Date', 'TN_retailers_seasons', 'TN_distributor_seasons',\n",
    "       'vapor_liquid_minC_retail', 'distillation_50_minC _retail',\n",
    "       'distillation_50_maxC_retail', 'vapor_pressure_maxC_retail',\n",
    "       'vapor_liquid_minC_dist', 'distillation_50_minC_dist',\n",
    "       'distillation_50_maxC_dist', 'vapor_pressure_maxC_dist']"
   ]
  },
  {
   "cell_type": "markdown",
   "metadata": {},
   "source": [
    "#### Process Datasets\n",
    "\n",
    "The helper functions for cleaning/ processing the dataset can be found in the src/d03_processing folder"
   ]
  },
  {
   "cell_type": "code",
   "execution_count": 15,
   "metadata": {},
   "outputs": [],
   "source": [
    "gasoline = process_data_for_model_building(gasoline_proc, astm)"
   ]
  },
  {
   "cell_type": "code",
   "execution_count": 16,
   "metadata": {},
   "outputs": [
    {
     "data": {
      "text/plain": [
       "Index(['Sample', 'prod', 'datesampled', 'grade', 'supplier', 'facilityname',\n",
       "       'siteaddress', 'units_dist_50', 'units_vap_pressure',\n",
       "       'units_vap_liq_pressure', 'method_dist_50', 'method_vap_pressure',\n",
       "       'method_vap_liq_pressure', 'result_dist_50', 'result_vap_pressure',\n",
       "       'result_vap_liq_pressure', 'minresults_dist_50',\n",
       "       'minresults_vap_pressure', 'minresults_vap_liq_pressure',\n",
       "       'maxresults_dist_50', 'maxresults_vap_pressure',\n",
       "       'maxresults_vap_liq_pressure', 'compliance_dist_50',\n",
       "       'compliance_vap_pressure', 'compliance_vap_liq_pressure',\n",
       "       'siteaddress_city', 'datesampled_month', 'datesampled_day', 'Date',\n",
       "       'TN_retailers_seasons', 'TN_distributor_seasons',\n",
       "       'vapor_liquid_minC_retail', 'distillation_50_minC _retail',\n",
       "       'distillation_50_maxC_retail', 'vapor_pressure_maxC_retail',\n",
       "       'vapor_liquid_minC_dist', 'distillation_50_minC_dist',\n",
       "       'distillation_50_maxC_dist', 'vapor_pressure_maxC_dist'],\n",
       "      dtype='object')"
      ]
     },
     "execution_count": 16,
     "metadata": {},
     "output_type": "execute_result"
    }
   ],
   "source": [
    "gasoline.columns"
   ]
  },
  {
   "cell_type": "markdown",
   "metadata": {},
   "source": [
    "### Build Model"
   ]
  },
  {
   "cell_type": "markdown",
   "metadata": {},
   "source": [
    "#### StatsModel (for pvalues) "
   ]
  },
  {
   "cell_type": "code",
   "execution_count": 17,
   "metadata": {},
   "outputs": [],
   "source": [
    "# construct features \n",
    "x_feats = ['TN_retailers_seasons', 'grade']\n",
    "X = pd.get_dummies(gasoline[x_feats], dtype=float)\n",
    "X = sm.tools.add_constant(X)\n",
    "# convert target using get_dummies\n",
    "y = pd.get_dummies(gasoline[\"compliance_vap_liq_pressure\"], dtype=float)"
   ]
  },
  {
   "cell_type": "code",
   "execution_count": 18,
   "metadata": {},
   "outputs": [],
   "source": [
    "X_train, X_test, y_train, y_test = train_test_split(X, y.iloc[:,0], test_size=0.3, random_state=0)"
   ]
  },
  {
   "cell_type": "code",
   "execution_count": 19,
   "metadata": {},
   "outputs": [],
   "source": [
    "smote = SMOTE()\n",
    "\n",
    "# simple resampling from your previously split data\n",
    "X_train_resampled, y_train_resampled = smote.fit_sample(X_train, y_train.ravel())"
   ]
  },
  {
   "cell_type": "markdown",
   "metadata": {},
   "source": [
    "def get_model_pvalue(y_train, X_train):\n",
    "    logit_model = sm.Logit(y_train_resampled, X_train_resampled)\n",
    "    result = logit_model.fit()\n",
    "    return print('\\n PValues for model parameters: \\n', result.pvalues)"
   ]
  },
  {
   "cell_type": "code",
   "execution_count": 20,
   "metadata": {},
   "outputs": [
    {
     "name": "stdout",
     "output_type": "stream",
     "text": [
      "Warning: Maximum number of iterations has been exceeded.\n",
      "         Current function value: 0.422578\n",
      "         Iterations: 35\n",
      "\n",
      " PValues for model parameters: \n",
      " [0.99998995 0.97766845 0.99889617 0.97510694 0.97323902 0.99910215\n",
      " 0.97375732 0.9988923  0.99880831 0.99999982 0.99999938 0.99998775\n",
      " 0.9999986 ]\n"
     ]
    },
    {
     "name": "stderr",
     "output_type": "stream",
     "text": [
      "/anaconda3/lib/python3.7/site-packages/statsmodels/base/model.py:508: ConvergenceWarning: Maximum Likelihood optimization failed to converge. Check mle_retvals\n",
      "  \"Check mle_retvals\", ConvergenceWarning)\n"
     ]
    }
   ],
   "source": [
    "get_model_pvalue(y_train_resampled, X_train_resampled)"
   ]
  },
  {
   "cell_type": "markdown",
   "metadata": {},
   "source": [
    "### Test Model"
   ]
  },
  {
   "cell_type": "code",
   "execution_count": null,
   "metadata": {},
   "outputs": [],
   "source": []
  },
  {
   "cell_type": "code",
   "execution_count": null,
   "metadata": {},
   "outputs": [],
   "source": []
  },
  {
   "cell_type": "code",
   "execution_count": null,
   "metadata": {},
   "outputs": [],
   "source": []
  },
  {
   "cell_type": "code",
   "execution_count": null,
   "metadata": {},
   "outputs": [],
   "source": []
  },
  {
   "cell_type": "code",
   "execution_count": null,
   "metadata": {},
   "outputs": [],
   "source": []
  }
 ],
 "metadata": {
  "kernelspec": {
   "display_name": "Python 3",
   "language": "python",
   "name": "python3"
  },
  "language_info": {
   "codemirror_mode": {
    "name": "ipython",
    "version": 3
   },
   "file_extension": ".py",
   "mimetype": "text/x-python",
   "name": "python",
   "nbconvert_exporter": "python",
   "pygments_lexer": "ipython3",
   "version": "3.7.1"
  },
  "toc": {
   "base_numbering": 1,
   "nav_menu": {},
   "number_sections": true,
   "sideBar": true,
   "skip_h1_title": false,
   "title_cell": "Table of Contents",
   "title_sidebar": "Contents",
   "toc_cell": false,
   "toc_position": {},
   "toc_section_display": true,
   "toc_window_display": false
  }
 },
 "nbformat": 4,
 "nbformat_minor": 2
}
