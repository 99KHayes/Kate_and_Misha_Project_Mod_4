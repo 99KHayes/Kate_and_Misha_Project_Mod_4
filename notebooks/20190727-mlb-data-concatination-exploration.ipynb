{
 "cells": [
  {
   "cell_type": "markdown",
   "metadata": {},
   "source": [
    "### Data Concatination"
   ]
  },
  {
   "cell_type": "markdown",
   "metadata": {},
   "source": [
    "##### In this notebook I combine all documents result & compliant documents into two datasets"
   ]
  },
  {
   "cell_type": "code",
   "execution_count": 44,
   "metadata": {},
   "outputs": [],
   "source": [
    "# Import Libraries\n",
    "import glob\n",
    "import pandas as pd\n",
    "import numpy as np"
   ]
  },
  {
   "cell_type": "markdown",
   "metadata": {},
   "source": [
    "##### Read in all data files (5 per data file type) and concatenated"
   ]
  },
  {
   "cell_type": "code",
   "execution_count": 45,
   "metadata": {
    "scrolled": false
   },
   "outputs": [
    {
     "name": "stderr",
     "output_type": "stream",
     "text": [
      "/anaconda3/lib/python3.7/site-packages/IPython/core/interactiveshell.py:3185: DtypeWarning: Columns (0,4,7) have mixed types. Specify dtype option on import or set low_memory=False.\n",
      "  if (yield from self.run_code(code, result)):\n",
      "/anaconda3/lib/python3.7/site-packages/IPython/core/interactiveshell.py:3185: DtypeWarning: Columns (7) have mixed types. Specify dtype option on import or set low_memory=False.\n",
      "  if (yield from self.run_code(code, result)):\n",
      "/anaconda3/lib/python3.7/site-packages/IPython/core/interactiveshell.py:3185: DtypeWarning: Columns (4,7) have mixed types. Specify dtype option on import or set low_memory=False.\n",
      "  if (yield from self.run_code(code, result)):\n"
     ]
    }
   ],
   "source": [
    "complaint = pd.concat([pd.read_csv(f, skiprows = 2) for f in glob.glob('../data/01_raw/fy_*_complaint.csv')])\n",
    "routine = pd.concat([pd.read_csv(f, skiprows = 2) for f in glob.glob('../data/01_raw/fy_*_routine.csv')])"
   ]
  },
  {
   "cell_type": "code",
   "execution_count": 81,
   "metadata": {},
   "outputs": [],
   "source": [
    "not_compliant = routine.loc[routine['Compliance'] == 'N']"
   ]
  },
  {
   "cell_type": "code",
   "execution_count": 82,
   "metadata": {},
   "outputs": [],
   "source": [
    "compliant = routine.loc[routine['Compliance'] == 'Y']"
   ]
  },
  {
   "cell_type": "code",
   "execution_count": 85,
   "metadata": {},
   "outputs": [
    {
     "data": {
      "text/plain": [
       "array(['Antiknock Index', 'API Gravity', 'DIPE', 'Distillation 10%',\n",
       "       'Distillation 20%', 'Distillation 30%', 'Distillation 40%',\n",
       "       'Distillation 5%', 'Distillation 50%', 'Distillation 60%',\n",
       "       'Distillation 70%', 'Distillation 80%', 'Distillation 90%',\n",
       "       'Distillation 95%', 'Distillation E.P.', 'Distillation IBP',\n",
       "       'Distillation Loss', 'Distillation Recovery',\n",
       "       'Distillation Residue', 'Driveability Index', 'ETBE', 'Ethanol',\n",
       "       'iso-Butanol', 'Methanol', 'Motor Octane Number', 'MTBE',\n",
       "       'n-Butanol', 'Phase Separation', 'Propanols', 'Relative Density',\n",
       "       'Research Octane Number', 'sec-Butanol', 'TAME', 'tert-Butanol',\n",
       "       'tert-Pentanol', 'Total Oxygen', 'Vapor Pressure',\n",
       "       'Vapor-Liquid Ratio', 'Workmanship', 'Biodiesel Content',\n",
       "       'Cetane Index', 'Cetane No.', 'Cetane Number', 'Cloud Point',\n",
       "       'Flash Point', 'LTFT', 'Lubricity', 'Sulfur', 'Water & Sediment',\n",
       "       'Acid Number', 'Oxidation Stability', 'Acidity', 'Ethanol (5501)',\n",
       "       'Gum Content, Unwashed', 'Gum, solvent washed', 'Inorganic Cl',\n",
       "       'Methanol (5501)', 'pHe', 'Water', nan,\n",
       "       'Enter a Product and Grade', 'Haze Rating', 'KF Titration',\n",
       "       'Particle Count - 14 micron', 'Particle Count - 4 micron',\n",
       "       'Particle Count - 6 micron', 'Particle Count - ISO Code 1',\n",
       "       'Particle Count - ISO Code 2', 'Particle Count - ISO Code 3',\n",
       "       'Water - KF Titration', 'Particle Count - ISO Count 2',\n",
       "       'Saybolt Color'], dtype=object)"
      ]
     },
     "execution_count": 85,
     "metadata": {},
     "output_type": "execute_result"
    }
   ],
   "source": [
    "complaint.Test.unique()"
   ]
  },
  {
   "cell_type": "markdown",
   "metadata": {},
   "source": [
    "##### Save concatenated files to Intermediate folder"
   ]
  },
  {
   "cell_type": "code",
   "execution_count": 37,
   "metadata": {},
   "outputs": [],
   "source": [
    "routine.to_csv('../data/02_intermediate/routine_inter.csv', index=False)\n",
    "complaint.to_csv('../data/02_intermediate/complaint_inter.csv', index=False)"
   ]
  },
  {
   "cell_type": "markdown",
   "metadata": {},
   "source": [
    "##### Turn intermediate file cleaning step into function "
   ]
  },
  {
   "cell_type": "code",
   "execution_count": 42,
   "metadata": {},
   "outputs": [],
   "source": [
    "def concatenate_and_save_intermediate_files(file_name_pattern, new_csv_name):\n",
    "    \n",
    "    \"\"\"\n",
    "    Summary: \n",
    "    Loads multiple datasets from 01_raw folder with matching name pattern and saves concatenated \n",
    "    file to 02_intermediate folder. \n",
    "\n",
    "    Parameters:\n",
    "    \n",
    "    file_name_pattern (str): this is the name pattern of the files being loaded into the dataspace\n",
    "    Ex: For these files in 01_raw folder (data_1.csv, data_2.csv, data_3.csv), the file_name_pattern would \n",
    "    be data_*\n",
    "    \n",
    "    new_csv_name (str): name of new csv document. Ex: df_new\n",
    "\n",
    "    Returns:\n",
    "    CSV - new concatenated CSV is saved to 02_intermediate folder\n",
    "    \n",
    "    \"\"\"\n",
    "    \n",
    "    df = pd.concat([pd.read_csv(f, skiprows = 2) for f in glob.glob('../data/01_raw/{}.csv'.format(file_name_pattern))])\n",
    "    return df.to_csv('../data/02_intermediate/{}.csv'.format(new_csv_name), index=False)"
   ]
  }
 ],
 "metadata": {
  "kernelspec": {
   "display_name": "Python 3",
   "language": "python",
   "name": "python3"
  },
  "language_info": {
   "codemirror_mode": {
    "name": "ipython",
    "version": 3
   },
   "file_extension": ".py",
   "mimetype": "text/x-python",
   "name": "python",
   "nbconvert_exporter": "python",
   "pygments_lexer": "ipython3",
   "version": "3.7.1"
  }
 },
 "nbformat": 4,
 "nbformat_minor": 2
}
