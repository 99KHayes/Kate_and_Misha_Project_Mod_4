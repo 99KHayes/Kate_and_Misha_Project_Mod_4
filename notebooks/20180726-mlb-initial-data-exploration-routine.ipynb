{
 "cells": [
  {
   "cell_type": "markdown",
   "metadata": {},
   "source": [
    "### INITIAL DATA EXPLORATION: FY 15 Routine"
   ]
  },
  {
   "cell_type": "code",
   "execution_count": 27,
   "metadata": {},
   "outputs": [],
   "source": [
    "import pandas as pd\n",
    "import numpy as np\n",
    "\n",
    "routine_15 = pd.read_csv('../data/01_raw/fy_15_routine.csv', skiprows=2)"
   ]
  },
  {
   "cell_type": "code",
   "execution_count": 32,
   "metadata": {},
   "outputs": [
    {
     "data": {
      "text/html": [
       "<div>\n",
       "<style scoped>\n",
       "    .dataframe tbody tr th:only-of-type {\n",
       "        vertical-align: middle;\n",
       "    }\n",
       "\n",
       "    .dataframe tbody tr th {\n",
       "        vertical-align: top;\n",
       "    }\n",
       "\n",
       "    .dataframe thead th {\n",
       "        text-align: right;\n",
       "    }\n",
       "</style>\n",
       "<table border=\"1\" class=\"dataframe\">\n",
       "  <thead>\n",
       "    <tr style=\"text-align: right;\">\n",
       "      <th></th>\n",
       "      <th>Sample</th>\n",
       "      <th>Prod</th>\n",
       "      <th>DateSampled</th>\n",
       "      <th>Grade</th>\n",
       "      <th>DateTested</th>\n",
       "      <th>HSID</th>\n",
       "      <th>Supplier</th>\n",
       "      <th>Gallons</th>\n",
       "      <th>FacilityName</th>\n",
       "      <th>SiteAddress</th>\n",
       "      <th>Test</th>\n",
       "      <th>Units</th>\n",
       "      <th>Method</th>\n",
       "      <th>Result</th>\n",
       "      <th>MinResult</th>\n",
       "      <th>MaxResult</th>\n",
       "      <th>Compliance</th>\n",
       "    </tr>\n",
       "  </thead>\n",
       "  <tbody>\n",
       "    <tr>\n",
       "      <th>0</th>\n",
       "      <td>61815318</td>\n",
       "      <td>Gasoline</td>\n",
       "      <td>4/20/2015 12:00:00 AM</td>\n",
       "      <td>Premium Unleaded</td>\n",
       "      <td>NaN</td>\n",
       "      <td>107143</td>\n",
       "      <td>Pilot Corporation</td>\n",
       "      <td>3640.0</td>\n",
       "      <td>Pilot Travel Centers #114</td>\n",
       "      <td>2449 Genesis Rd \\r\\ncrossville, Tn 38571</td>\n",
       "      <td>Antiknock Index</td>\n",
       "      <td></td>\n",
       "      <td>R+M/2</td>\n",
       "      <td>92.7</td>\n",
       "      <td>87</td>\n",
       "      <td></td>\n",
       "      <td>Y</td>\n",
       "    </tr>\n",
       "    <tr>\n",
       "      <th>1</th>\n",
       "      <td>61815318</td>\n",
       "      <td>Gasoline</td>\n",
       "      <td>4/20/2015 12:00:00 AM</td>\n",
       "      <td>Premium Unleaded</td>\n",
       "      <td>NaN</td>\n",
       "      <td>107143</td>\n",
       "      <td>Pilot Corporation</td>\n",
       "      <td>3640.0</td>\n",
       "      <td>Pilot Travel Centers #114</td>\n",
       "      <td>2449 Genesis Rd \\r\\ncrossville, Tn 38571</td>\n",
       "      <td>API Gravity</td>\n",
       "      <td></td>\n",
       "      <td>D4052</td>\n",
       "      <td>56.4</td>\n",
       "      <td></td>\n",
       "      <td></td>\n",
       "      <td></td>\n",
       "    </tr>\n",
       "    <tr>\n",
       "      <th>2</th>\n",
       "      <td>61815318</td>\n",
       "      <td>Gasoline</td>\n",
       "      <td>4/20/2015 12:00:00 AM</td>\n",
       "      <td>Premium Unleaded</td>\n",
       "      <td>NaN</td>\n",
       "      <td>107143</td>\n",
       "      <td>Pilot Corporation</td>\n",
       "      <td>3640.0</td>\n",
       "      <td>Pilot Travel Centers #114</td>\n",
       "      <td>2449 Genesis Rd \\r\\ncrossville, Tn 38571</td>\n",
       "      <td>DIPE</td>\n",
       "      <td>Vol. %</td>\n",
       "      <td>D4815</td>\n",
       "      <td>ND</td>\n",
       "      <td></td>\n",
       "      <td></td>\n",
       "      <td></td>\n",
       "    </tr>\n",
       "    <tr>\n",
       "      <th>3</th>\n",
       "      <td>61815318</td>\n",
       "      <td>Gasoline</td>\n",
       "      <td>4/20/2015 12:00:00 AM</td>\n",
       "      <td>Premium Unleaded</td>\n",
       "      <td>NaN</td>\n",
       "      <td>107143</td>\n",
       "      <td>Pilot Corporation</td>\n",
       "      <td>3640.0</td>\n",
       "      <td>Pilot Travel Centers #114</td>\n",
       "      <td>2449 Genesis Rd \\r\\ncrossville, Tn 38571</td>\n",
       "      <td>Distillation 10%</td>\n",
       "      <td>Deg. C</td>\n",
       "      <td>D86</td>\n",
       "      <td>48.9</td>\n",
       "      <td></td>\n",
       "      <td></td>\n",
       "      <td>Y</td>\n",
       "    </tr>\n",
       "    <tr>\n",
       "      <th>4</th>\n",
       "      <td>61815318</td>\n",
       "      <td>Gasoline</td>\n",
       "      <td>4/20/2015 12:00:00 AM</td>\n",
       "      <td>Premium Unleaded</td>\n",
       "      <td>NaN</td>\n",
       "      <td>107143</td>\n",
       "      <td>Pilot Corporation</td>\n",
       "      <td>3640.0</td>\n",
       "      <td>Pilot Travel Centers #114</td>\n",
       "      <td>2449 Genesis Rd \\r\\ncrossville, Tn 38571</td>\n",
       "      <td>Distillation 20%</td>\n",
       "      <td>Deg. C</td>\n",
       "      <td>D86</td>\n",
       "      <td>54.8</td>\n",
       "      <td></td>\n",
       "      <td></td>\n",
       "      <td></td>\n",
       "    </tr>\n",
       "  </tbody>\n",
       "</table>\n",
       "</div>"
      ],
      "text/plain": [
       "     Sample      Prod            DateSampled             Grade  DateTested  \\\n",
       "0  61815318  Gasoline  4/20/2015 12:00:00 AM  Premium Unleaded         NaN   \n",
       "1  61815318  Gasoline  4/20/2015 12:00:00 AM  Premium Unleaded         NaN   \n",
       "2  61815318  Gasoline  4/20/2015 12:00:00 AM  Premium Unleaded         NaN   \n",
       "3  61815318  Gasoline  4/20/2015 12:00:00 AM  Premium Unleaded         NaN   \n",
       "4  61815318  Gasoline  4/20/2015 12:00:00 AM  Premium Unleaded         NaN   \n",
       "\n",
       "     HSID           Supplier  Gallons               FacilityName  \\\n",
       "0  107143  Pilot Corporation   3640.0  Pilot Travel Centers #114   \n",
       "1  107143  Pilot Corporation   3640.0  Pilot Travel Centers #114   \n",
       "2  107143  Pilot Corporation   3640.0  Pilot Travel Centers #114   \n",
       "3  107143  Pilot Corporation   3640.0  Pilot Travel Centers #114   \n",
       "4  107143  Pilot Corporation   3640.0  Pilot Travel Centers #114   \n",
       "\n",
       "                                SiteAddress              Test   Units Method  \\\n",
       "0  2449 Genesis Rd \\r\\ncrossville, Tn 38571   Antiknock Index          R+M/2   \n",
       "1  2449 Genesis Rd \\r\\ncrossville, Tn 38571       API Gravity          D4052   \n",
       "2  2449 Genesis Rd \\r\\ncrossville, Tn 38571              DIPE  Vol. %  D4815   \n",
       "3  2449 Genesis Rd \\r\\ncrossville, Tn 38571  Distillation 10%  Deg. C    D86   \n",
       "4  2449 Genesis Rd \\r\\ncrossville, Tn 38571  Distillation 20%  Deg. C    D86   \n",
       "\n",
       "  Result MinResult MaxResult Compliance  \n",
       "0   92.7        87                    Y  \n",
       "1   56.4                                 \n",
       "2     ND                                 \n",
       "3   48.9                              Y  \n",
       "4   54.8                                 "
      ]
     },
     "execution_count": 32,
     "metadata": {},
     "output_type": "execute_result"
    }
   ],
   "source": [
    "routine_15.head()"
   ]
  },
  {
   "cell_type": "code",
   "execution_count": 30,
   "metadata": {},
   "outputs": [
    {
     "data": {
      "text/plain": [
       "Index(['Sample', 'Prod', 'DateSampled', 'Grade', 'DateTested', 'HSID',\n",
       "       'Supplier', 'Gallons', 'FacilityName', 'SiteAddress', 'Test', 'Units',\n",
       "       'Method', 'Result', 'MinResult', 'MaxResult', 'Compliance'],\n",
       "      dtype='object')"
      ]
     },
     "execution_count": 30,
     "metadata": {},
     "output_type": "execute_result"
    }
   ],
   "source": [
    "complaint_15.columns"
   ]
  },
  {
   "cell_type": "markdown",
   "metadata": {},
   "source": [
    "#### Initial Issues w. variables:  \n",
    "1. Sample: is int (should be string because it's a unique identifier) \n",
    "1. DateSampled: Object instead of datetime\n",
    "1. DateTested: Float\n",
    "1. Compliance: is an object, but should be boolean "
   ]
  },
  {
   "cell_type": "code",
   "execution_count": 6,
   "metadata": {},
   "outputs": [
    {
     "name": "stdout",
     "output_type": "stream",
     "text": [
      "<class 'pandas.core.frame.DataFrame'>\n",
      "RangeIndex: 219415 entries, 0 to 219414\n",
      "Data columns (total 17 columns):\n",
      "Sample          219415 non-null int64\n",
      "Prod            219415 non-null object\n",
      "DateSampled     219415 non-null object\n",
      "Grade           219415 non-null object\n",
      "DateTested      0 non-null float64\n",
      "HSID            219415 non-null int64\n",
      "Supplier        153265 non-null object\n",
      "Gallons         219415 non-null float64\n",
      "FacilityName    219415 non-null object\n",
      "SiteAddress     219415 non-null object\n",
      "Test            219408 non-null object\n",
      "Units           219408 non-null object\n",
      "Method          219408 non-null object\n",
      "Result          219408 non-null object\n",
      "MinResult       219408 non-null object\n",
      "MaxResult       219408 non-null object\n",
      "Compliance      219408 non-null object\n",
      "dtypes: float64(2), int64(2), object(13)\n",
      "memory usage: 28.5+ MB\n"
     ]
    }
   ],
   "source": [
    "routine_15.info()"
   ]
  },
  {
   "cell_type": "markdown",
   "metadata": {},
   "source": [
    "#### There are 8 sub-catagories for prod (product) variable. Most prevelant type of product is Gasoline and least prevelent is Denat. Fuel EtOH"
   ]
  },
  {
   "cell_type": "code",
   "execution_count": 9,
   "metadata": {},
   "outputs": [
    {
     "data": {
      "text/plain": [
       "Gasoline             161175\n",
       "Diesel                52970\n",
       "Kerosene               3542\n",
       "Biodiesel Blend         756\n",
       "E-85 Fuel Ethanol       514\n",
       "Aviation Gasoline       374\n",
       "Fuel Oils                60\n",
       "Denat. Fuel EtOH         24\n",
       "Name: Prod, dtype: int64"
      ]
     },
     "execution_count": 9,
     "metadata": {},
     "output_type": "execute_result"
    }
   ],
   "source": [
    "routine_15['Prod'].value_counts()"
   ]
  },
  {
   "cell_type": "code",
   "execution_count": 10,
   "metadata": {},
   "outputs": [
    {
     "data": {
      "text/plain": [
       "Regular Unleaded       79431\n",
       "No. 2D S15             52825\n",
       "Premium Unleaded       43407\n",
       "Mid Grade Unleaded     38259\n",
       "No. 1 K                 3542\n",
       "E-85                     514\n",
       "B6-20 S15                493\n",
       "100LL                    374\n",
       "B20 S15                  263\n",
       "No. 2-D S500             145\n",
       "No. 1                     60\n",
       "Regular Blend Stock       39\n",
       "Premium Blend Stock       39\n",
       "E100                      24\n",
       "Name: Grade, dtype: int64"
      ]
     },
     "execution_count": 10,
     "metadata": {},
     "output_type": "execute_result"
    }
   ],
   "source": [
    "routine_15['Grade'].value_counts()"
   ]
  },
  {
   "cell_type": "code",
   "execution_count": 11,
   "metadata": {},
   "outputs": [
    {
     "data": {
      "text/plain": [
       "Relative Density            6246\n",
       "Distillation IBP            6221\n",
       "Distillation 20%            6221\n",
       "Distillation 40%            6221\n",
       "Distillation 70%            6221\n",
       "Distillation 60%            6221\n",
       "Distillation 50%            6221\n",
       "Distillation 5%             6221\n",
       "Distillation 30%            6221\n",
       "Distillation 10%            6221\n",
       "Distillation 90%            6219\n",
       "Distillation 80%            6219\n",
       "Distillation 95%            6219\n",
       "Distillation E.P.           6218\n",
       "Distillation Loss           6218\n",
       "Distillation Residue        6218\n",
       "API Gravity                 6198\n",
       "Distillation Recovery       6194\n",
       "Workmanship                 6040\n",
       "Vapor Pressure              4247\n",
       "Ethanol                     4187\n",
       "tert-Butanol                4187\n",
       "n-Butanol                   4187\n",
       "MTBE                        4187\n",
       "Antiknock Index             4187\n",
       "TAME                        4187\n",
       "ETBE                        4187\n",
       "sec-Butanol                 4187\n",
       "Research Octane Number      4187\n",
       "Propanols                   4187\n",
       "                            ... \n",
       "Driveability Index          4186\n",
       "tert-Pentanol               2104\n",
       "Water & Sediment            2017\n",
       "Sulfur                      2017\n",
       "Flash Point                 2017\n",
       "LTFT                        1853\n",
       "Cetane No.                  1853\n",
       "Cetane Number               1853\n",
       "Cetane Index                1853\n",
       "Biodiesel Content           1853\n",
       "Cloud Point                 1853\n",
       "Lubricity                   1829\n",
       "Saybolt Color                161\n",
       "Acidity                       92\n",
       "Gum, solvent washed           46\n",
       "pHe                           46\n",
       "Gum Content, Unwashed         46\n",
       "Ethanol (5501)                46\n",
       "Inorganic Cl                  46\n",
       "Methanol (5501)               46\n",
       "Water                         46\n",
       "Oxidation Stability           27\n",
       "Acid Number                   25\n",
       "Distillation 10%+50%          17\n",
       "Water Reaction                17\n",
       "Knock Value - Lean MON        17\n",
       "Density - 15° C               17\n",
       "Knock Value - Lean - ALR      17\n",
       "Sulfate                        2\n",
       "Copper                         2\n",
       "Name: Test, Length: 67, dtype: int64"
      ]
     },
     "execution_count": 11,
     "metadata": {},
     "output_type": "execute_result"
    }
   ],
   "source": [
    "routine_15['Test'].value_counts()"
   ]
  },
  {
   "cell_type": "code",
   "execution_count": 12,
   "metadata": {},
   "outputs": [
    {
     "data": {
      "text/plain": [
       "D86                99511\n",
       "D4815              52348\n",
       "D4052              12461\n",
       "Visual              6040\n",
       "D5191               4247\n",
       "D2700               4221\n",
       "D2699               4187\n",
       "D5188               4187\n",
       "R+M/2               4187\n",
       "D4814-Phase Sep     4187\n",
       "DI Calc             4186\n",
       "D5453               2017\n",
       "D2709               2017\n",
       "D93                 1856\n",
       "D7371               1853\n",
       "D6890               1853\n",
       "D613                1853\n",
       "D4539               1853\n",
       "D2500               1853\n",
       "D4737               1853\n",
       "D6079               1829\n",
       "D56                  161\n",
       "D156                 161\n",
       "D381                  92\n",
       "D5501                 92\n",
       "D7319                 48\n",
       "E1064                 46\n",
       "D1613                 46\n",
       "D6423                 46\n",
       "D7795                 46\n",
       "EN15751               27\n",
       "D664                  25\n",
       "D1094                 17\n",
       "D1688                  2\n",
       "Name: Method, dtype: int64"
      ]
     },
     "execution_count": 12,
     "metadata": {},
     "output_type": "execute_result"
    }
   ],
   "source": [
    "routine_15['Method'].value_counts()"
   ]
  },
  {
   "cell_type": "code",
   "execution_count": 26,
   "metadata": {},
   "outputs": [
    {
     "data": {
      "text/plain": [
       "Deg. C       94978\n",
       "Vol. %       70753\n",
       "             34785\n",
       "15.5/15.5     6246\n",
       "Mass %        4325\n",
       "kPa           4247\n",
       "ppm           2067\n",
       "micron        1829\n",
       "mg/100mL        92\n",
       "hours           27\n",
       "mg KOH/g        25\n",
       "kg/m^3          17\n",
       "mL              17\n",
       "Name: Units, dtype: int64"
      ]
     },
     "execution_count": 26,
     "metadata": {},
     "output_type": "execute_result"
    }
   ],
   "source": [
    "routine_15['Units'].value_counts()"
   ]
  },
  {
   "cell_type": "code",
   "execution_count": 19,
   "metadata": {},
   "outputs": [],
   "source": [
    "routine_15['Sample'] = routine_15['Sample'].astype('str')"
   ]
  },
  {
   "cell_type": "code",
   "execution_count": 25,
   "metadata": {},
   "outputs": [
    {
     "data": {
      "text/plain": [
       "6236"
      ]
     },
     "execution_count": 25,
     "metadata": {},
     "output_type": "execute_result"
    }
   ],
   "source": [
    "# Number of unique samples in the dataset\n",
    "len(routine_15['Sample'].unique())"
   ]
  },
  {
   "cell_type": "code",
   "execution_count": null,
   "metadata": {},
   "outputs": [],
   "source": []
  }
 ],
 "metadata": {
  "kernelspec": {
   "display_name": "Python 3",
   "language": "python",
   "name": "python3"
  },
  "language_info": {
   "codemirror_mode": {
    "name": "ipython",
    "version": 3
   },
   "file_extension": ".py",
   "mimetype": "text/x-python",
   "name": "python",
   "nbconvert_exporter": "python",
   "pygments_lexer": "ipython3",
   "version": "3.7.1"
  }
 },
 "nbformat": 4,
 "nbformat_minor": 2
}
