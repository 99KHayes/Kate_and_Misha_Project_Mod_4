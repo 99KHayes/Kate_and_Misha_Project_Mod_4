{
 "cells": [
  {
   "cell_type": "markdown",
   "metadata": {},
   "source": [
    "### Data Exploration: Diesel (Routine Dataset) "
   ]
  },
  {
   "cell_type": "code",
   "execution_count": 21,
   "metadata": {},
   "outputs": [
    {
     "name": "stdout",
     "output_type": "stream",
     "text": [
      "The autoreload extension is already loaded. To reload it, use:\n",
      "  %reload_ext autoreload\n"
     ]
    }
   ],
   "source": [
    "import matplotlib.pyplot as plt\n",
    "import pandas as pd\n",
    "import numpy as np\n",
    "import sys\n",
    "import os\n",
    "\n",
    "src_dir = os.path.join(os.getcwd(), '..', '..', 'src')\n",
    "sys.path.append(src_dir)\n",
    "\n",
    "# OPTIONAL: Load the \"autoreload\" extension so that code can change\n",
    "%load_ext autoreload\n",
    "\n",
    "# OPTIONAL: always reload modules so that as you change code in src, it gets loaded\n",
    "%autoreload 2"
   ]
  },
  {
   "cell_type": "code",
   "execution_count": 22,
   "metadata": {},
   "outputs": [],
   "source": [
    "# import helper functions\n",
    "from d01_data import intermediate_cleaning"
   ]
  },
  {
   "cell_type": "code",
   "execution_count": 23,
   "metadata": {},
   "outputs": [
    {
     "name": "stderr",
     "output_type": "stream",
     "text": [
      "/anaconda3/lib/python3.7/site-packages/IPython/core/interactiveshell.py:3020: DtypeWarning: Columns (0) have mixed types. Specify dtype option on import or set low_memory=False.\n",
      "  interactivity=interactivity, compiler=compiler, result=result)\n"
     ]
    }
   ],
   "source": [
    "routine_clean = pd.read_csv('../../data/02_intermediate/routine_clean.csv')"
   ]
  },
  {
   "cell_type": "code",
   "execution_count": 24,
   "metadata": {},
   "outputs": [
    {
     "name": "stdout",
     "output_type": "stream",
     "text": [
      "<class 'pandas.core.frame.DataFrame'>\n",
      "RangeIndex: 1129178 entries, 0 to 1129177\n",
      "Data columns (total 14 columns):\n",
      "Sample          1129178 non-null object\n",
      "Prod            1129178 non-null object\n",
      "DateSampled     1129178 non-null object\n",
      "Grade           1129178 non-null object\n",
      "Supplier        949928 non-null object\n",
      "FacilityName    1129178 non-null object\n",
      "SiteAddress     1121938 non-null object\n",
      "Test            1124013 non-null object\n",
      "Units           1123779 non-null object\n",
      "Method          1123779 non-null object\n",
      "Result          1068687 non-null object\n",
      "MinResult       994234 non-null object\n",
      "MaxResult       1008914 non-null object\n",
      "Compliance      1129178 non-null object\n",
      "dtypes: object(14)\n",
      "memory usage: 120.6+ MB\n"
     ]
    }
   ],
   "source": [
    "routine_clean.info()"
   ]
  },
  {
   "cell_type": "code",
   "execution_count": 25,
   "metadata": {},
   "outputs": [
    {
     "data": {
      "text/html": [
       "<div>\n",
       "<style scoped>\n",
       "    .dataframe tbody tr th:only-of-type {\n",
       "        vertical-align: middle;\n",
       "    }\n",
       "\n",
       "    .dataframe tbody tr th {\n",
       "        vertical-align: top;\n",
       "    }\n",
       "\n",
       "    .dataframe thead th {\n",
       "        text-align: right;\n",
       "    }\n",
       "</style>\n",
       "<table border=\"1\" class=\"dataframe\">\n",
       "  <thead>\n",
       "    <tr style=\"text-align: right;\">\n",
       "      <th></th>\n",
       "      <th>Sample</th>\n",
       "      <th>Prod</th>\n",
       "      <th>DateSampled</th>\n",
       "      <th>Grade</th>\n",
       "      <th>Supplier</th>\n",
       "      <th>FacilityName</th>\n",
       "      <th>SiteAddress</th>\n",
       "      <th>Test</th>\n",
       "      <th>Units</th>\n",
       "      <th>Method</th>\n",
       "      <th>Result</th>\n",
       "      <th>MinResult</th>\n",
       "      <th>MaxResult</th>\n",
       "      <th>Compliance</th>\n",
       "    </tr>\n",
       "  </thead>\n",
       "  <tbody>\n",
       "    <tr>\n",
       "      <th>0</th>\n",
       "      <td>61916134</td>\n",
       "      <td>Gasoline</td>\n",
       "      <td>2015-11-23</td>\n",
       "      <td>Mid Grade Unleaded</td>\n",
       "      <td>Marathon Petroleum Lp</td>\n",
       "      <td>Circle K #2723609</td>\n",
       "      <td>198 Haywood Ln \\r\\nnashville, Tn 37211</td>\n",
       "      <td>Antiknock Index</td>\n",
       "      <td></td>\n",
       "      <td>R+M/2</td>\n",
       "      <td>89.8</td>\n",
       "      <td>87</td>\n",
       "      <td></td>\n",
       "      <td>Y</td>\n",
       "    </tr>\n",
       "    <tr>\n",
       "      <th>1</th>\n",
       "      <td>61916134</td>\n",
       "      <td>Gasoline</td>\n",
       "      <td>2015-11-23</td>\n",
       "      <td>Mid Grade Unleaded</td>\n",
       "      <td>Marathon Petroleum Lp</td>\n",
       "      <td>Circle K #2723609</td>\n",
       "      <td>198 Haywood Ln \\r\\nnashville, Tn 37211</td>\n",
       "      <td>API Gravity</td>\n",
       "      <td></td>\n",
       "      <td>D4052</td>\n",
       "      <td>60.9</td>\n",
       "      <td></td>\n",
       "      <td></td>\n",
       "      <td>None</td>\n",
       "    </tr>\n",
       "    <tr>\n",
       "      <th>2</th>\n",
       "      <td>61916134</td>\n",
       "      <td>Gasoline</td>\n",
       "      <td>2015-11-23</td>\n",
       "      <td>Mid Grade Unleaded</td>\n",
       "      <td>Marathon Petroleum Lp</td>\n",
       "      <td>Circle K #2723609</td>\n",
       "      <td>198 Haywood Ln \\r\\nnashville, Tn 37211</td>\n",
       "      <td>DIPE</td>\n",
       "      <td>Vol. %</td>\n",
       "      <td>D4815</td>\n",
       "      <td>ND</td>\n",
       "      <td></td>\n",
       "      <td></td>\n",
       "      <td>None</td>\n",
       "    </tr>\n",
       "    <tr>\n",
       "      <th>3</th>\n",
       "      <td>61916134</td>\n",
       "      <td>Gasoline</td>\n",
       "      <td>2015-11-23</td>\n",
       "      <td>Mid Grade Unleaded</td>\n",
       "      <td>Marathon Petroleum Lp</td>\n",
       "      <td>Circle K #2723609</td>\n",
       "      <td>198 Haywood Ln \\r\\nnashville, Tn 37211</td>\n",
       "      <td>Distillation 10%</td>\n",
       "      <td>Deg. C</td>\n",
       "      <td>D86</td>\n",
       "      <td>43.1</td>\n",
       "      <td></td>\n",
       "      <td></td>\n",
       "      <td>Y</td>\n",
       "    </tr>\n",
       "    <tr>\n",
       "      <th>4</th>\n",
       "      <td>61916134</td>\n",
       "      <td>Gasoline</td>\n",
       "      <td>2015-11-23</td>\n",
       "      <td>Mid Grade Unleaded</td>\n",
       "      <td>Marathon Petroleum Lp</td>\n",
       "      <td>Circle K #2723609</td>\n",
       "      <td>198 Haywood Ln \\r\\nnashville, Tn 37211</td>\n",
       "      <td>Distillation 20%</td>\n",
       "      <td>Deg. C</td>\n",
       "      <td>D86</td>\n",
       "      <td>51.0</td>\n",
       "      <td></td>\n",
       "      <td></td>\n",
       "      <td>None</td>\n",
       "    </tr>\n",
       "  </tbody>\n",
       "</table>\n",
       "</div>"
      ],
      "text/plain": [
       "     Sample      Prod DateSampled               Grade               Supplier  \\\n",
       "0  61916134  Gasoline  2015-11-23  Mid Grade Unleaded  Marathon Petroleum Lp   \n",
       "1  61916134  Gasoline  2015-11-23  Mid Grade Unleaded  Marathon Petroleum Lp   \n",
       "2  61916134  Gasoline  2015-11-23  Mid Grade Unleaded  Marathon Petroleum Lp   \n",
       "3  61916134  Gasoline  2015-11-23  Mid Grade Unleaded  Marathon Petroleum Lp   \n",
       "4  61916134  Gasoline  2015-11-23  Mid Grade Unleaded  Marathon Petroleum Lp   \n",
       "\n",
       "        FacilityName                             SiteAddress  \\\n",
       "0  Circle K #2723609  198 Haywood Ln \\r\\nnashville, Tn 37211   \n",
       "1  Circle K #2723609  198 Haywood Ln \\r\\nnashville, Tn 37211   \n",
       "2  Circle K #2723609  198 Haywood Ln \\r\\nnashville, Tn 37211   \n",
       "3  Circle K #2723609  198 Haywood Ln \\r\\nnashville, Tn 37211   \n",
       "4  Circle K #2723609  198 Haywood Ln \\r\\nnashville, Tn 37211   \n",
       "\n",
       "               Test   Units Method Result MinResult MaxResult Compliance  \n",
       "0   Antiknock Index          R+M/2   89.8        87                    Y  \n",
       "1       API Gravity          D4052   60.9                           None  \n",
       "2              DIPE  Vol. %  D4815     ND                           None  \n",
       "3  Distillation 10%  Deg. C    D86   43.1                              Y  \n",
       "4  Distillation 20%  Deg. C    D86   51.0                           None  "
      ]
     },
     "execution_count": 25,
     "metadata": {},
     "output_type": "execute_result"
    }
   ],
   "source": [
    "routine_clean.head()"
   ]
  },
  {
   "cell_type": "code",
   "execution_count": 26,
   "metadata": {},
   "outputs": [],
   "source": [
    "diesel_df = routine_clean.loc[routine_clean['Prod']=='Diesel']"
   ]
  },
  {
   "cell_type": "code",
   "execution_count": 27,
   "metadata": {},
   "outputs": [
    {
     "data": {
      "text/plain": [
       "299775"
      ]
     },
     "execution_count": 27,
     "metadata": {},
     "output_type": "execute_result"
    }
   ],
   "source": [
    "len(diesel_df)"
   ]
  },
  {
   "cell_type": "code",
   "execution_count": 28,
   "metadata": {},
   "outputs": [],
   "source": [
    "gasoline_df = routine_clean.loc[routine_clean['Prod']=='Gasoline']"
   ]
  },
  {
   "cell_type": "code",
   "execution_count": 29,
   "metadata": {},
   "outputs": [
    {
     "data": {
      "text/plain": [
       "798619"
      ]
     },
     "execution_count": 29,
     "metadata": {},
     "output_type": "execute_result"
    }
   ],
   "source": [
    "len(gasoline_df)"
   ]
  },
  {
   "cell_type": "markdown",
   "metadata": {},
   "source": [
    "### Let's explore our diesel dataset"
   ]
  },
  {
   "cell_type": "markdown",
   "metadata": {},
   "source": [
    "According to our expert, Diesel has different specs. Diesel is markedly different from Gasoline. We have decided to focus our efforts on looking at Gasoline "
   ]
  },
  {
   "cell_type": "code",
   "execution_count": 11,
   "metadata": {},
   "outputs": [
    {
     "name": "stderr",
     "output_type": "stream",
     "text": [
      "/anaconda3/lib/python3.7/site-packages/ipykernel_launcher.py:2: SettingWithCopyWarning: \n",
      "A value is trying to be set on a copy of a slice from a DataFrame.\n",
      "Try using .loc[row_indexer,col_indexer] = value instead\n",
      "\n",
      "See the caveats in the documentation: http://pandas.pydata.org/pandas-docs/stable/indexing.html#indexing-view-versus-copy\n",
      "  \n"
     ]
    }
   ],
   "source": [
    "# change to datetime\n",
    "#diesel_df['DateSampled'] = pd.to_datetime(diesel_df['DateSampled'])"
   ]
  },
  {
   "cell_type": "markdown",
   "metadata": {},
   "source": [
    "**Diesel Tests w. Compliance Results**\n",
    "\n",
    "1.\tCetane Index\n",
    "1.\tSulfur\n",
    "1.\tWater & Sediment\n",
    "1.\tDistillation 90%\n",
    "1.\tBiodiesel Content\n",
    "1.\tFlash Point\n",
    "1.\tWorkmanship\n",
    "1.\tLubricity\n",
    "1.\tEnter a Product and Grade\n",
    "1.\tCloud Point\n",
    "1.\tLTFT\n",
    "1.\tAcid Number\n",
    "1.\tOxidation Stability\n",
    "1.\tDistillation 80%\n",
    "1.\tWater - KF Titration\n",
    "1.\tDistillation 70%\n",
    "1.\tDistillation Residue\n",
    "1.\tDistillation 95%\n",
    "1.\tDistillation 60\n",
    "1.\tParticle Count - ISO Code 3\n",
    "1.\tKF Titration\n",
    "1.\tWater\n",
    "1.\tWater, KF Titration\n",
    "1.\tHaze Rating\n",
    "1.\tDistillation 10%\n",
    "1.\tDistillation 50%\n",
    "1.\tDistillation IBP"
   ]
  }
 ],
 "metadata": {
  "kernelspec": {
   "display_name": "Python 3",
   "language": "python",
   "name": "python3"
  },
  "language_info": {
   "codemirror_mode": {
    "name": "ipython",
    "version": 3
   },
   "file_extension": ".py",
   "mimetype": "text/x-python",
   "name": "python",
   "nbconvert_exporter": "python",
   "pygments_lexer": "ipython3",
   "version": "3.7.1"
  },
  "toc": {
   "base_numbering": 1,
   "nav_menu": {},
   "number_sections": true,
   "sideBar": true,
   "skip_h1_title": false,
   "title_cell": "Table of Contents",
   "title_sidebar": "Contents",
   "toc_cell": false,
   "toc_position": {},
   "toc_section_display": true,
   "toc_window_display": false
  }
 },
 "nbformat": 4,
 "nbformat_minor": 2
}
