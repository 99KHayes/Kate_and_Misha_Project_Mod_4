{
 "cells": [
  {
   "cell_type": "markdown",
   "metadata": {},
   "source": [
    "### Data Exploration: Diesel (Routine Dataset) "
   ]
  },
  {
   "cell_type": "code",
   "execution_count": 1,
   "metadata": {},
   "outputs": [],
   "source": [
    "import matplotlib.pyplot as plt\n",
    "import pandas as pd\n",
    "import numpy as np\n",
    "import sys\n",
    "import os\n",
    "\n",
    "src_dir = os.path.join(os.getcwd(), '..', '..', 'src')\n",
    "sys.path.append(src_dir)\n",
    "\n",
    "# OPTIONAL: Load the \"autoreload\" extension so that code can change\n",
    "%load_ext autoreload\n",
    "\n",
    "# OPTIONAL: always reload modules so that as you change code in src, it gets loaded\n",
    "%autoreload 2"
   ]
  },
  {
   "cell_type": "code",
   "execution_count": 2,
   "metadata": {},
   "outputs": [],
   "source": [
    "# import helper functions\n",
    "from d01_data import intermediate_cleaning"
   ]
  },
  {
   "cell_type": "code",
   "execution_count": 3,
   "metadata": {},
   "outputs": [],
   "source": [
    "routine_clean = pd.read_csv('../../data/02_intermediate/routine_clean.csv')"
   ]
  },
  {
   "cell_type": "code",
   "execution_count": 4,
   "metadata": {},
   "outputs": [
    {
     "name": "stdout",
     "output_type": "stream",
     "text": [
      "<class 'pandas.core.frame.DataFrame'>\n",
      "RangeIndex: 72958 entries, 0 to 72957\n",
      "Data columns (total 14 columns):\n",
      "Sample          72958 non-null object\n",
      "Prod            72958 non-null object\n",
      "DateSampled     72958 non-null object\n",
      "Grade           72958 non-null object\n",
      "Supplier        61351 non-null object\n",
      "FacilityName    72958 non-null object\n",
      "SiteAddress     72448 non-null object\n",
      "Test            72958 non-null object\n",
      "Units           72958 non-null object\n",
      "Method          72958 non-null object\n",
      "Result          72800 non-null object\n",
      "MinResult       68678 non-null object\n",
      "MaxResult       68664 non-null object\n",
      "Compliance      72958 non-null object\n",
      "dtypes: object(14)\n",
      "memory usage: 7.8+ MB\n"
     ]
    }
   ],
   "source": [
    "routine_clean.info()"
   ]
  },
  {
   "cell_type": "code",
   "execution_count": 5,
   "metadata": {},
   "outputs": [
    {
     "data": {
      "text/html": [
       "<div>\n",
       "<style scoped>\n",
       "    .dataframe tbody tr th:only-of-type {\n",
       "        vertical-align: middle;\n",
       "    }\n",
       "\n",
       "    .dataframe tbody tr th {\n",
       "        vertical-align: top;\n",
       "    }\n",
       "\n",
       "    .dataframe thead th {\n",
       "        text-align: right;\n",
       "    }\n",
       "</style>\n",
       "<table border=\"1\" class=\"dataframe\">\n",
       "  <thead>\n",
       "    <tr style=\"text-align: right;\">\n",
       "      <th></th>\n",
       "      <th>Sample</th>\n",
       "      <th>Prod</th>\n",
       "      <th>DateSampled</th>\n",
       "      <th>Grade</th>\n",
       "      <th>Supplier</th>\n",
       "      <th>FacilityName</th>\n",
       "      <th>SiteAddress</th>\n",
       "      <th>Test</th>\n",
       "      <th>Units</th>\n",
       "      <th>Method</th>\n",
       "      <th>Result</th>\n",
       "      <th>MinResult</th>\n",
       "      <th>MaxResult</th>\n",
       "      <th>Compliance</th>\n",
       "    </tr>\n",
       "  </thead>\n",
       "  <tbody>\n",
       "    <tr>\n",
       "      <th>0</th>\n",
       "      <td>61916134</td>\n",
       "      <td>Gasoline</td>\n",
       "      <td>2015-11-23</td>\n",
       "      <td>Mid Grade Unleaded</td>\n",
       "      <td>Marathon Petroleum Lp</td>\n",
       "      <td>Circle K #2723609</td>\n",
       "      <td>198 Haywood Ln \\r\\nnashville, Tn 37211</td>\n",
       "      <td>Distillation 50%</td>\n",
       "      <td>Deg. C</td>\n",
       "      <td>D86</td>\n",
       "      <td>73.3</td>\n",
       "      <td></td>\n",
       "      <td></td>\n",
       "      <td>Y</td>\n",
       "    </tr>\n",
       "    <tr>\n",
       "      <th>1</th>\n",
       "      <td>61916134</td>\n",
       "      <td>Gasoline</td>\n",
       "      <td>2015-11-23</td>\n",
       "      <td>Mid Grade Unleaded</td>\n",
       "      <td>Marathon Petroleum Lp</td>\n",
       "      <td>Circle K #2723609</td>\n",
       "      <td>198 Haywood Ln \\r\\nnashville, Tn 37211</td>\n",
       "      <td>Vapor Pressure</td>\n",
       "      <td>kPa</td>\n",
       "      <td>D5191</td>\n",
       "      <td>88.9</td>\n",
       "      <td></td>\n",
       "      <td></td>\n",
       "      <td>Y</td>\n",
       "    </tr>\n",
       "    <tr>\n",
       "      <th>2</th>\n",
       "      <td>61916134</td>\n",
       "      <td>Gasoline</td>\n",
       "      <td>2015-11-23</td>\n",
       "      <td>Mid Grade Unleaded</td>\n",
       "      <td>Marathon Petroleum Lp</td>\n",
       "      <td>Circle K #2723609</td>\n",
       "      <td>198 Haywood Ln \\r\\nnashville, Tn 37211</td>\n",
       "      <td>Vapor-Liquid Ratio</td>\n",
       "      <td>Deg. C</td>\n",
       "      <td>D5188</td>\n",
       "      <td>44.6</td>\n",
       "      <td></td>\n",
       "      <td></td>\n",
       "      <td>Y</td>\n",
       "    </tr>\n",
       "    <tr>\n",
       "      <th>3</th>\n",
       "      <td>61916135</td>\n",
       "      <td>Gasoline</td>\n",
       "      <td>2015-11-24</td>\n",
       "      <td>Regular Unleaded</td>\n",
       "      <td>NaN</td>\n",
       "      <td>Tiger Market #214</td>\n",
       "      <td>2001 8th Ave S \\r\\nnashville, Tn 37204</td>\n",
       "      <td>Distillation 50%</td>\n",
       "      <td>Deg. C</td>\n",
       "      <td>D86</td>\n",
       "      <td>67.4</td>\n",
       "      <td></td>\n",
       "      <td></td>\n",
       "      <td>Y</td>\n",
       "    </tr>\n",
       "    <tr>\n",
       "      <th>4</th>\n",
       "      <td>61916135</td>\n",
       "      <td>Gasoline</td>\n",
       "      <td>2015-11-24</td>\n",
       "      <td>Regular Unleaded</td>\n",
       "      <td>NaN</td>\n",
       "      <td>Tiger Market #214</td>\n",
       "      <td>2001 8th Ave S \\r\\nnashville, Tn 37204</td>\n",
       "      <td>Vapor Pressure</td>\n",
       "      <td>kPa</td>\n",
       "      <td>D5191</td>\n",
       "      <td>92.7</td>\n",
       "      <td></td>\n",
       "      <td></td>\n",
       "      <td>Y</td>\n",
       "    </tr>\n",
       "  </tbody>\n",
       "</table>\n",
       "</div>"
      ],
      "text/plain": [
       "     Sample      Prod DateSampled               Grade               Supplier  \\\n",
       "0  61916134  Gasoline  2015-11-23  Mid Grade Unleaded  Marathon Petroleum Lp   \n",
       "1  61916134  Gasoline  2015-11-23  Mid Grade Unleaded  Marathon Petroleum Lp   \n",
       "2  61916134  Gasoline  2015-11-23  Mid Grade Unleaded  Marathon Petroleum Lp   \n",
       "3  61916135  Gasoline  2015-11-24    Regular Unleaded                    NaN   \n",
       "4  61916135  Gasoline  2015-11-24    Regular Unleaded                    NaN   \n",
       "\n",
       "        FacilityName                             SiteAddress  \\\n",
       "0  Circle K #2723609  198 Haywood Ln \\r\\nnashville, Tn 37211   \n",
       "1  Circle K #2723609  198 Haywood Ln \\r\\nnashville, Tn 37211   \n",
       "2  Circle K #2723609  198 Haywood Ln \\r\\nnashville, Tn 37211   \n",
       "3  Tiger Market #214  2001 8th Ave S \\r\\nnashville, Tn 37204   \n",
       "4  Tiger Market #214  2001 8th Ave S \\r\\nnashville, Tn 37204   \n",
       "\n",
       "                 Test   Units Method Result MinResult MaxResult Compliance  \n",
       "0    Distillation 50%  Deg. C    D86   73.3                              Y  \n",
       "1      Vapor Pressure     kPa  D5191   88.9                              Y  \n",
       "2  Vapor-Liquid Ratio  Deg. C  D5188   44.6                              Y  \n",
       "3    Distillation 50%  Deg. C    D86   67.4                              Y  \n",
       "4      Vapor Pressure     kPa  D5191   92.7                              Y  "
      ]
     },
     "execution_count": 5,
     "metadata": {},
     "output_type": "execute_result"
    }
   ],
   "source": [
    "routine_clean.head()"
   ]
  },
  {
   "cell_type": "code",
   "execution_count": 6,
   "metadata": {},
   "outputs": [],
   "source": [
    "diesel_df = routine_clean.loc[routine_clean['Prod']=='Diesel']"
   ]
  },
  {
   "cell_type": "code",
   "execution_count": 7,
   "metadata": {},
   "outputs": [
    {
     "data": {
      "text/plain": [
       "9135"
      ]
     },
     "execution_count": 7,
     "metadata": {},
     "output_type": "execute_result"
    }
   ],
   "source": [
    "len(diesel_df)"
   ]
  },
  {
   "cell_type": "code",
   "execution_count": 8,
   "metadata": {},
   "outputs": [],
   "source": [
    "gasoline_df = routine_clean.loc[routine_clean['Prod']=='Gasoline']"
   ]
  },
  {
   "cell_type": "code",
   "execution_count": 9,
   "metadata": {},
   "outputs": [
    {
     "data": {
      "text/plain": [
       "62256"
      ]
     },
     "execution_count": 9,
     "metadata": {},
     "output_type": "execute_result"
    }
   ],
   "source": [
    "len(gasoline_df)"
   ]
  },
  {
   "cell_type": "markdown",
   "metadata": {},
   "source": [
    "### Let's explore our diesel dataset"
   ]
  },
  {
   "cell_type": "code",
   "execution_count": 10,
   "metadata": {},
   "outputs": [
    {
     "data": {
      "text/html": [
       "<div>\n",
       "<style scoped>\n",
       "    .dataframe tbody tr th:only-of-type {\n",
       "        vertical-align: middle;\n",
       "    }\n",
       "\n",
       "    .dataframe tbody tr th {\n",
       "        vertical-align: top;\n",
       "    }\n",
       "\n",
       "    .dataframe thead th {\n",
       "        text-align: right;\n",
       "    }\n",
       "</style>\n",
       "<table border=\"1\" class=\"dataframe\">\n",
       "  <thead>\n",
       "    <tr style=\"text-align: right;\">\n",
       "      <th></th>\n",
       "      <th>Sample</th>\n",
       "      <th>Prod</th>\n",
       "      <th>DateSampled</th>\n",
       "      <th>Grade</th>\n",
       "      <th>Supplier</th>\n",
       "      <th>FacilityName</th>\n",
       "      <th>SiteAddress</th>\n",
       "      <th>Test</th>\n",
       "      <th>Units</th>\n",
       "      <th>Method</th>\n",
       "      <th>Result</th>\n",
       "      <th>MinResult</th>\n",
       "      <th>MaxResult</th>\n",
       "      <th>Compliance</th>\n",
       "    </tr>\n",
       "  </thead>\n",
       "  <tbody>\n",
       "    <tr>\n",
       "      <th>9</th>\n",
       "      <td>61916137</td>\n",
       "      <td>Diesel</td>\n",
       "      <td>2015-11-24</td>\n",
       "      <td>No. 2D S15</td>\n",
       "      <td>Tri-star Energy</td>\n",
       "      <td>Twice Daily  #8085</td>\n",
       "      <td>648 Thompson Ln \\r\\nnashville, Tn 37204</td>\n",
       "      <td>Distillation 50%</td>\n",
       "      <td>Deg. C</td>\n",
       "      <td>D86</td>\n",
       "      <td>268.6</td>\n",
       "      <td></td>\n",
       "      <td></td>\n",
       "      <td>None</td>\n",
       "    </tr>\n",
       "    <tr>\n",
       "      <th>19</th>\n",
       "      <td>61916141</td>\n",
       "      <td>Diesel</td>\n",
       "      <td>2015-12-02</td>\n",
       "      <td>No. 2D S15</td>\n",
       "      <td>Mapco Express, Inc.</td>\n",
       "      <td>Mapco Express    #1030</td>\n",
       "      <td>2616 Franklin Road  Nashville, Tn  37204</td>\n",
       "      <td>Distillation 50%</td>\n",
       "      <td>Deg. C</td>\n",
       "      <td>D86</td>\n",
       "      <td>263.4</td>\n",
       "      <td></td>\n",
       "      <td></td>\n",
       "      <td>None</td>\n",
       "    </tr>\n",
       "    <tr>\n",
       "      <th>45</th>\n",
       "      <td>61916164</td>\n",
       "      <td>Diesel</td>\n",
       "      <td>2016-01-05</td>\n",
       "      <td>No. 2D S15</td>\n",
       "      <td>Mapco Express, Inc.</td>\n",
       "      <td>Mapco Express    #3327</td>\n",
       "      <td>7725 Hwy 70 South  Bellevue, Tn  37221</td>\n",
       "      <td>Distillation 50%</td>\n",
       "      <td>Deg. C</td>\n",
       "      <td>D86</td>\n",
       "      <td>258.8</td>\n",
       "      <td></td>\n",
       "      <td></td>\n",
       "      <td>None</td>\n",
       "    </tr>\n",
       "    <tr>\n",
       "      <th>49</th>\n",
       "      <td>61916202</td>\n",
       "      <td>Diesel</td>\n",
       "      <td>2016-03-07</td>\n",
       "      <td>No. 2D S15</td>\n",
       "      <td>Mapco Express, Inc.</td>\n",
       "      <td>Mapco Express #3411</td>\n",
       "      <td>7101 Highway 70 South \\r\\nnashville, Tn 37221</td>\n",
       "      <td>Distillation 50%</td>\n",
       "      <td>Deg. C</td>\n",
       "      <td>D86</td>\n",
       "      <td>261.1</td>\n",
       "      <td></td>\n",
       "      <td></td>\n",
       "      <td>None</td>\n",
       "    </tr>\n",
       "    <tr>\n",
       "      <th>56</th>\n",
       "      <td>61916205</td>\n",
       "      <td>Diesel</td>\n",
       "      <td>2016-03-08</td>\n",
       "      <td>No. 2D S15</td>\n",
       "      <td>Magellan Terminals Holdings, Lp</td>\n",
       "      <td>Kroger #527</td>\n",
       "      <td>7087 Highway 70 S \\r\\nnashville, Tn 37221</td>\n",
       "      <td>Distillation 50%</td>\n",
       "      <td>Deg. C</td>\n",
       "      <td>D86</td>\n",
       "      <td>263.4</td>\n",
       "      <td></td>\n",
       "      <td></td>\n",
       "      <td>None</td>\n",
       "    </tr>\n",
       "  </tbody>\n",
       "</table>\n",
       "</div>"
      ],
      "text/plain": [
       "      Sample    Prod DateSampled       Grade                         Supplier  \\\n",
       "9   61916137  Diesel  2015-11-24  No. 2D S15                  Tri-star Energy   \n",
       "19  61916141  Diesel  2015-12-02  No. 2D S15              Mapco Express, Inc.   \n",
       "45  61916164  Diesel  2016-01-05  No. 2D S15              Mapco Express, Inc.   \n",
       "49  61916202  Diesel  2016-03-07  No. 2D S15              Mapco Express, Inc.   \n",
       "56  61916205  Diesel  2016-03-08  No. 2D S15  Magellan Terminals Holdings, Lp   \n",
       "\n",
       "              FacilityName                                    SiteAddress  \\\n",
       "9       Twice Daily  #8085        648 Thompson Ln \\r\\nnashville, Tn 37204   \n",
       "19  Mapco Express    #1030       2616 Franklin Road  Nashville, Tn  37204   \n",
       "45  Mapco Express    #3327         7725 Hwy 70 South  Bellevue, Tn  37221   \n",
       "49     Mapco Express #3411  7101 Highway 70 South \\r\\nnashville, Tn 37221   \n",
       "56             Kroger #527      7087 Highway 70 S \\r\\nnashville, Tn 37221   \n",
       "\n",
       "                Test   Units Method Result MinResult MaxResult Compliance  \n",
       "9   Distillation 50%  Deg. C    D86  268.6                           None  \n",
       "19  Distillation 50%  Deg. C    D86  263.4                           None  \n",
       "45  Distillation 50%  Deg. C    D86  258.8                           None  \n",
       "49  Distillation 50%  Deg. C    D86  261.1                           None  \n",
       "56  Distillation 50%  Deg. C    D86  263.4                           None  "
      ]
     },
     "execution_count": 10,
     "metadata": {},
     "output_type": "execute_result"
    }
   ],
   "source": [
    "diesel_df.head()"
   ]
  },
  {
   "cell_type": "code",
   "execution_count": 11,
   "metadata": {},
   "outputs": [
    {
     "name": "stderr",
     "output_type": "stream",
     "text": [
      "/anaconda3/lib/python3.7/site-packages/ipykernel_launcher.py:2: SettingWithCopyWarning: \n",
      "A value is trying to be set on a copy of a slice from a DataFrame.\n",
      "Try using .loc[row_indexer,col_indexer] = value instead\n",
      "\n",
      "See the caveats in the documentation: http://pandas.pydata.org/pandas-docs/stable/indexing.html#indexing-view-versus-copy\n",
      "  \n"
     ]
    }
   ],
   "source": [
    "# change to datetime\n",
    "diesel_df['DateSampled'] = pd.to_datetime(diesel_df['DateSampled'])"
   ]
  },
  {
   "cell_type": "code",
   "execution_count": 15,
   "metadata": {},
   "outputs": [
    {
     "name": "stdout",
     "output_type": "stream",
     "text": [
      "<class 'pandas.core.frame.DataFrame'>\n",
      "Int64Index: 9135 entries, 9 to 72951\n",
      "Data columns (total 14 columns):\n",
      "Sample          9135 non-null object\n",
      "Prod            9135 non-null object\n",
      "DateSampled     9135 non-null datetime64[ns]\n",
      "Grade           9135 non-null object\n",
      "Supplier        7512 non-null object\n",
      "FacilityName    9135 non-null object\n",
      "SiteAddress     9096 non-null object\n",
      "Test            9135 non-null object\n",
      "Units           9135 non-null object\n",
      "Method          9135 non-null object\n",
      "Result          9114 non-null object\n",
      "MinResult       9087 non-null object\n",
      "MaxResult       9106 non-null object\n",
      "Compliance      9135 non-null object\n",
      "dtypes: datetime64[ns](1), object(13)\n",
      "memory usage: 1.0+ MB\n"
     ]
    }
   ],
   "source": [
    "diesel_df.info()"
   ]
  },
  {
   "cell_type": "code",
   "execution_count": null,
   "metadata": {},
   "outputs": [],
   "source": []
  }
 ],
 "metadata": {
  "kernelspec": {
   "display_name": "Python 3",
   "language": "python",
   "name": "python3"
  },
  "language_info": {
   "codemirror_mode": {
    "name": "ipython",
    "version": 3
   },
   "file_extension": ".py",
   "mimetype": "text/x-python",
   "name": "python",
   "nbconvert_exporter": "python",
   "pygments_lexer": "ipython3",
   "version": "3.7.1"
  },
  "toc": {
   "base_numbering": 1,
   "nav_menu": {},
   "number_sections": true,
   "sideBar": true,
   "skip_h1_title": false,
   "title_cell": "Table of Contents",
   "title_sidebar": "Contents",
   "toc_cell": false,
   "toc_position": {},
   "toc_section_display": true,
   "toc_window_display": false
  }
 },
 "nbformat": 4,
 "nbformat_minor": 2
}
