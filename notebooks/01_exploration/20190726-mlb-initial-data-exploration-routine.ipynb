{
 "cells": [
  {
   "cell_type": "markdown",
   "metadata": {},
   "source": [
    "# INITIAL DATA EXPLORATION: Routine (intermediate concatenated data) "
   ]
  },
  {
   "cell_type": "code",
   "execution_count": 1,
   "metadata": {
    "scrolled": true
   },
   "outputs": [],
   "source": [
    "import pandas as pd\n",
    "import numpy as np\n",
    "import sys\n",
    "import os\n",
    "\n",
    "src_dir = os.path.join(os.getcwd(), '..', '..', 'src')\n",
    "sys.path.append(src_dir)\n",
    "\n",
    "# OPTIONAL: Load the \"autoreload\" extension so that code can change\n",
    "%load_ext autoreload\n",
    "\n",
    "# OPTIONAL: always reload modules so that as you change code in src, it gets loaded\n",
    "%autoreload 2"
   ]
  },
  {
   "cell_type": "code",
   "execution_count": 2,
   "metadata": {},
   "outputs": [],
   "source": [
    "from d01_data import intermediate_cleaning"
   ]
  },
  {
   "cell_type": "markdown",
   "metadata": {},
   "source": [
    "### This notebook includes summary stats for the complete contatenated (2015 - 2019) routine datasets"
   ]
  },
  {
   "cell_type": "code",
   "execution_count": 3,
   "metadata": {},
   "outputs": [
    {
     "name": "stderr",
     "output_type": "stream",
     "text": [
      "/Users/Kate/anaconda3/lib/python3.7/site-packages/IPython/core/interactiveshell.py:3296: DtypeWarning: Columns (0,4,7) have mixed types. Specify dtype option on import or set low_memory=False.\n",
      "  exec(code_obj, self.user_global_ns, self.user_ns)\n",
      "/Users/Kate/anaconda3/lib/python3.7/site-packages/IPython/core/interactiveshell.py:3296: DtypeWarning: Columns (7) have mixed types. Specify dtype option on import or set low_memory=False.\n",
      "  exec(code_obj, self.user_global_ns, self.user_ns)\n",
      "/Users/Kate/anaconda3/lib/python3.7/site-packages/IPython/core/interactiveshell.py:3296: DtypeWarning: Columns (4,7) have mixed types. Specify dtype option on import or set low_memory=False.\n",
      "  exec(code_obj, self.user_global_ns, self.user_ns)\n"
     ]
    }
   ],
   "source": [
    "intermediate_cleaning.concatenate_and_save_intermediate_files('fy_*_routine', 'routine_inter')"
   ]
  },
  {
   "cell_type": "code",
   "execution_count": 4,
   "metadata": {},
   "outputs": [
    {
     "name": "stderr",
     "output_type": "stream",
     "text": [
      "/Users/Kate/anaconda3/lib/python3.7/site-packages/IPython/core/interactiveshell.py:3049: DtypeWarning: Columns (0,4,7) have mixed types. Specify dtype option on import or set low_memory=False.\n",
      "  interactivity=interactivity, compiler=compiler, result=result)\n"
     ]
    }
   ],
   "source": [
    "routine_inter = pd.read_csv('../../data/02_intermediate/routine_inter.csv')"
   ]
  },
  {
   "cell_type": "code",
   "execution_count": 22,
   "metadata": {
    "scrolled": false
   },
   "outputs": [
    {
     "data": {
      "text/html": [
       "<div>\n",
       "<style scoped>\n",
       "    .dataframe tbody tr th:only-of-type {\n",
       "        vertical-align: middle;\n",
       "    }\n",
       "\n",
       "    .dataframe tbody tr th {\n",
       "        vertical-align: top;\n",
       "    }\n",
       "\n",
       "    .dataframe thead th {\n",
       "        text-align: right;\n",
       "    }\n",
       "</style>\n",
       "<table border=\"1\" class=\"dataframe\">\n",
       "  <thead>\n",
       "    <tr style=\"text-align: right;\">\n",
       "      <th></th>\n",
       "      <th>Sample</th>\n",
       "      <th>Prod</th>\n",
       "      <th>DateSampled</th>\n",
       "      <th>Grade</th>\n",
       "      <th>DateTested</th>\n",
       "      <th>HSID</th>\n",
       "      <th>Supplier</th>\n",
       "      <th>Gallons</th>\n",
       "      <th>FacilityName</th>\n",
       "      <th>SiteAddress</th>\n",
       "      <th>Test</th>\n",
       "      <th>Units</th>\n",
       "      <th>Method</th>\n",
       "      <th>Result</th>\n",
       "      <th>MinResult</th>\n",
       "      <th>MaxResult</th>\n",
       "      <th>Compliance</th>\n",
       "    </tr>\n",
       "  </thead>\n",
       "  <tbody>\n",
       "    <tr>\n",
       "      <th>0</th>\n",
       "      <td>61916134</td>\n",
       "      <td>Gasoline</td>\n",
       "      <td>11/23/2015 12:00:00 AM</td>\n",
       "      <td>Mid Grade Unleaded</td>\n",
       "      <td>NaN</td>\n",
       "      <td>15752.0</td>\n",
       "      <td>Marathon Petroleum Lp</td>\n",
       "      <td>2498.6</td>\n",
       "      <td>Circle K #2723609</td>\n",
       "      <td>198 Haywood Ln \\r\\nnashville, Tn 37211</td>\n",
       "      <td>Antiknock Index</td>\n",
       "      <td></td>\n",
       "      <td>R+M/2</td>\n",
       "      <td>89.8</td>\n",
       "      <td>87</td>\n",
       "      <td></td>\n",
       "      <td>Y</td>\n",
       "    </tr>\n",
       "    <tr>\n",
       "      <th>1</th>\n",
       "      <td>61916134</td>\n",
       "      <td>Gasoline</td>\n",
       "      <td>11/23/2015 12:00:00 AM</td>\n",
       "      <td>Mid Grade Unleaded</td>\n",
       "      <td>NaN</td>\n",
       "      <td>15752.0</td>\n",
       "      <td>Marathon Petroleum Lp</td>\n",
       "      <td>2498.6</td>\n",
       "      <td>Circle K #2723609</td>\n",
       "      <td>198 Haywood Ln \\r\\nnashville, Tn 37211</td>\n",
       "      <td>API Gravity</td>\n",
       "      <td></td>\n",
       "      <td>D4052</td>\n",
       "      <td>60.9</td>\n",
       "      <td></td>\n",
       "      <td></td>\n",
       "      <td>?</td>\n",
       "    </tr>\n",
       "    <tr>\n",
       "      <th>2</th>\n",
       "      <td>61916134</td>\n",
       "      <td>Gasoline</td>\n",
       "      <td>11/23/2015 12:00:00 AM</td>\n",
       "      <td>Mid Grade Unleaded</td>\n",
       "      <td>NaN</td>\n",
       "      <td>15752.0</td>\n",
       "      <td>Marathon Petroleum Lp</td>\n",
       "      <td>2498.6</td>\n",
       "      <td>Circle K #2723609</td>\n",
       "      <td>198 Haywood Ln \\r\\nnashville, Tn 37211</td>\n",
       "      <td>DIPE</td>\n",
       "      <td>Vol. %</td>\n",
       "      <td>D4815</td>\n",
       "      <td>ND</td>\n",
       "      <td></td>\n",
       "      <td></td>\n",
       "      <td>?</td>\n",
       "    </tr>\n",
       "  </tbody>\n",
       "</table>\n",
       "</div>"
      ],
      "text/plain": [
       "     Sample      Prod             DateSampled               Grade DateTested  \\\n",
       "0  61916134  Gasoline  11/23/2015 12:00:00 AM  Mid Grade Unleaded        NaN   \n",
       "1  61916134  Gasoline  11/23/2015 12:00:00 AM  Mid Grade Unleaded        NaN   \n",
       "2  61916134  Gasoline  11/23/2015 12:00:00 AM  Mid Grade Unleaded        NaN   \n",
       "\n",
       "      HSID               Supplier Gallons       FacilityName  \\\n",
       "0  15752.0  Marathon Petroleum Lp  2498.6  Circle K #2723609   \n",
       "1  15752.0  Marathon Petroleum Lp  2498.6  Circle K #2723609   \n",
       "2  15752.0  Marathon Petroleum Lp  2498.6  Circle K #2723609   \n",
       "\n",
       "                              SiteAddress             Test   Units Method  \\\n",
       "0  198 Haywood Ln \\r\\nnashville, Tn 37211  Antiknock Index          R+M/2   \n",
       "1  198 Haywood Ln \\r\\nnashville, Tn 37211      API Gravity          D4052   \n",
       "2  198 Haywood Ln \\r\\nnashville, Tn 37211             DIPE  Vol. %  D4815   \n",
       "\n",
       "  Result MinResult MaxResult Compliance  \n",
       "0   89.8        87                    Y  \n",
       "1   60.9                              ?  \n",
       "2     ND                              ?  "
      ]
     },
     "execution_count": 22,
     "metadata": {},
     "output_type": "execute_result"
    }
   ],
   "source": [
    "routine_inter.head(3)"
   ]
  },
  {
   "cell_type": "markdown",
   "metadata": {},
   "source": [
    "#### Initial Issues /Questions re variables:  \n",
    "1. Sample: is int (should be string because it's a unique identifier)\n",
    "1. DateSampled: Object instead of datetime\n",
    "1. DateTested: Float\n",
    "1. Compliance: is an object, but should be boolean \n",
    "1. Vast majority of date tested catagory is empty (this is a holdover from the old system. Don't use this one) \n",
    "1. Compliance: there are 5 unique values that appear in the compliance column: Y, N, ' ' (changed to '?' in the below \n",
    "    dataset), nan and select\n",
    "        a) what is the difference between the ? and nan rows? \n",
    "        b) what does select mean? \n",
    "1. What tests should we focus on for the question that you're interested in? \n"
   ]
  },
  {
   "cell_type": "code",
   "execution_count": 6,
   "metadata": {},
   "outputs": [
    {
     "name": "stdout",
     "output_type": "stream",
     "text": [
      "<class 'pandas.core.frame.DataFrame'>\n",
      "RangeIndex: 1129219 entries, 0 to 1129218\n",
      "Data columns (total 17 columns):\n",
      "Sample          1129219 non-null object\n",
      "Prod            1129217 non-null object\n",
      "DateSampled     1129219 non-null object\n",
      "Grade           1129217 non-null object\n",
      "DateTested      27379 non-null object\n",
      "HSID            391122 non-null float64\n",
      "Supplier        949928 non-null object\n",
      "Gallons         1122723 non-null object\n",
      "FacilityName    1129180 non-null object\n",
      "SiteAddress     1121979 non-null object\n",
      "Test            1124054 non-null object\n",
      "Units           1123818 non-null object\n",
      "Method          1123818 non-null object\n",
      "Result          1068726 non-null object\n",
      "MinResult       994273 non-null object\n",
      "MaxResult       1008953 non-null object\n",
      "Compliance      1126891 non-null object\n",
      "dtypes: float64(1), object(16)\n",
      "memory usage: 146.5+ MB\n"
     ]
    }
   ],
   "source": [
    "routine_inter.info()"
   ]
  },
  {
   "cell_type": "code",
   "execution_count": 7,
   "metadata": {},
   "outputs": [
    {
     "name": "stdout",
     "output_type": "stream",
     "text": [
      "Total Number of Products:  11\n"
     ]
    },
    {
     "data": {
      "text/plain": [
       "Gasoline                798658\n",
       "Diesel                  299775\n",
       "Kerosene                 23672\n",
       "Biodiesel Blend           2294\n",
       "Ethanol Flex Fuel         1589\n",
       "E-85 Fuel Ethanol         1489\n",
       "Aviation Gasoline         1270\n",
       "Gasoline Blend Stock       273\n",
       "Fuel Oils                   80\n",
       "Denat. Fuel EtOH            72\n",
       "Jet Fuel                    45\n",
       "Name: Prod, dtype: int64"
      ]
     },
     "execution_count": 7,
     "metadata": {},
     "output_type": "execute_result"
    }
   ],
   "source": [
    "print('Total Number of Products: ', len(routine_inter['Prod'].value_counts()))\n",
    "routine_inter['Prod'].value_counts()"
   ]
  },
  {
   "cell_type": "code",
   "execution_count": 8,
   "metadata": {},
   "outputs": [
    {
     "name": "stdout",
     "output_type": "stream",
     "text": [
      "Total Number of Fuel Grades:  24\n"
     ]
    },
    {
     "data": {
      "text/plain": [
       "Regular Unleaded                418174\n",
       "Premium Unleaded                207284\n",
       "Mid Grade Unleaded              169495\n",
       "No. 2D S15                      159288\n",
       "No. 2D S15, Biodiesel <6%       137087\n",
       "No. 1 K                          23672\n",
       "Regular Blend Stock               2340\n",
       "B6-20 S15                         1711\n",
       "Premium Blend Stock               1638\n",
       "No. 2D S15, Biodiesel 6-20%       1620\n",
       "E51-83                            1551\n",
       "E-85                              1489\n",
       "100LL                             1270\n",
       "No. 2-D S500                       725\n",
       "No. 2D S500, Biodiesel <6%         587\n",
       "B20 S15                            583\n",
       "No. 2D S15, Biodiesel 20%          396\n",
       "No. 2D S500, Biodiesel 6-20%        72\n",
       "E100                                72\n",
       "No. 1                               60\n",
       "E15                                 38\n",
       "JA                                  24\n",
       "Jet A                               21\n",
       "No. 1 FO                            20\n",
       "Name: Grade, dtype: int64"
      ]
     },
     "execution_count": 8,
     "metadata": {},
     "output_type": "execute_result"
    }
   ],
   "source": [
    "print('Total Number of Fuel Grades: ', len(routine_inter['Grade'].value_counts()))\n",
    "routine_inter['Grade'].value_counts()"
   ]
  },
  {
   "cell_type": "code",
   "execution_count": 9,
   "metadata": {},
   "outputs": [
    {
     "name": "stdout",
     "output_type": "stream",
     "text": [
      "Total Number of Tests:  91\n"
     ]
    },
    {
     "data": {
      "text/plain": [
       "Relative Density    31326\n",
       "Distillation 50%    31111\n",
       "Distillation 30%    31111\n",
       "Distillation IBP    31111\n",
       "Distillation 5%     31111\n",
       "Name: Test, dtype: int64"
      ]
     },
     "execution_count": 9,
     "metadata": {},
     "output_type": "execute_result"
    }
   ],
   "source": [
    "print('Total Number of Tests: ', len(routine_inter['Test'].value_counts()))\n",
    "routine_inter['Test'].value_counts().head()"
   ]
  },
  {
   "cell_type": "code",
   "execution_count": 10,
   "metadata": {},
   "outputs": [
    {
     "name": "stdout",
     "output_type": "stream",
     "text": [
      "Total Number of Test Methods:  40\n"
     ]
    },
    {
     "data": {
      "text/plain": [
       "D86       497568\n",
       "D4815     258911\n",
       "D4052      62432\n",
       "Visual     29972\n",
       "D7619      22686\n",
       "Name: Method, dtype: int64"
      ]
     },
     "execution_count": 10,
     "metadata": {},
     "output_type": "execute_result"
    }
   ],
   "source": [
    "print('Total Number of Test Methods: ', len(routine_inter['Method'].value_counts()))\n",
    "routine_inter['Method'].value_counts().head()"
   ]
  },
  {
   "cell_type": "code",
   "execution_count": 11,
   "metadata": {},
   "outputs": [
    {
     "name": "stdout",
     "output_type": "stream",
     "text": [
      "Total Number of Different Units:  16\n"
     ]
    },
    {
     "data": {
      "text/plain": [
       "Deg. C       474731\n",
       "Vol. %       351284\n",
       "             188106\n",
       "15.5/15.5     31326\n",
       "Mass %        25381\n",
       "kPa           21088\n",
       "counts/mL     11364\n",
       "ppm           10584\n",
       "micron         8967\n",
       "mg/100mL        594\n",
       "hours           139\n",
       "mg KOH/g        137\n",
       "kg/m^3           58\n",
       "mL               56\n",
       "mm Hg             2\n",
       "mg/kg             1\n",
       "Name: Units, dtype: int64"
      ]
     },
     "execution_count": 11,
     "metadata": {},
     "output_type": "execute_result"
    }
   ],
   "source": [
    "print('Total Number of Different Units: ', len(routine_inter['Units'].value_counts()))\n",
    "routine_inter['Units'].value_counts()"
   ]
  },
  {
   "cell_type": "markdown",
   "metadata": {},
   "source": [
    "#### Number of unique samples in the dataset"
   ]
  },
  {
   "cell_type": "code",
   "execution_count": 12,
   "metadata": {},
   "outputs": [
    {
     "name": "stdout",
     "output_type": "stream",
     "text": [
      "Number of unique samples in the dataset:  31487\n"
     ]
    }
   ],
   "source": [
    "print('Number of unique samples in the dataset: ', len(routine_inter['Sample'].astype('str').unique()))"
   ]
  },
  {
   "cell_type": "markdown",
   "metadata": {},
   "source": [
    "### According to the info call, the \"Compliance\" catagory has no null-values. Upon further visual inspection it seems that the majority of the 'Compliance' rows are empty. let's take a closer look and figure out why. "
   ]
  },
  {
   "cell_type": "code",
   "execution_count": 13,
   "metadata": {},
   "outputs": [
    {
     "data": {
      "text/plain": [
       "array(['Y', ' ', 'N', nan, 'Select'], dtype=object)"
      ]
     },
     "execution_count": 13,
     "metadata": {},
     "output_type": "execute_result"
    }
   ],
   "source": [
    "routine_inter['Compliance'].unique()"
   ]
  },
  {
   "cell_type": "code",
   "execution_count": 14,
   "metadata": {},
   "outputs": [],
   "source": [
    "routine_inter['Compliance'] = routine_inter['Compliance'].replace(' ', '?')"
   ]
  },
  {
   "cell_type": "code",
   "execution_count": 15,
   "metadata": {},
   "outputs": [
    {
     "data": {
      "text/plain": [
       "array(['Y', '?', 'N', nan, 'Select'], dtype=object)"
      ]
     },
     "execution_count": 15,
     "metadata": {},
     "output_type": "execute_result"
    }
   ],
   "source": [
    "routine_inter['Compliance'].unique()"
   ]
  },
  {
   "cell_type": "markdown",
   "metadata": {},
   "source": [
    "##### Value Count in each catagory in the Compliance column "
   ]
  },
  {
   "cell_type": "code",
   "execution_count": 16,
   "metadata": {},
   "outputs": [
    {
     "data": {
      "text/plain": [
       "?         799803\n",
       "Y         325956\n",
       "N           1104\n",
       "Select        28\n",
       "Name: Compliance, dtype: int64"
      ]
     },
     "execution_count": 16,
     "metadata": {},
     "output_type": "execute_result"
    }
   ],
   "source": [
    "routine_inter['Compliance'].value_counts()"
   ]
  },
  {
   "cell_type": "code",
   "execution_count": 17,
   "metadata": {},
   "outputs": [
    {
     "data": {
      "text/plain": [
       "2328"
      ]
     },
     "execution_count": 17,
     "metadata": {},
     "output_type": "execute_result"
    }
   ],
   "source": [
    "routine_inter['Compliance'].isna().sum()"
   ]
  },
  {
   "cell_type": "markdown",
   "metadata": {},
   "source": [
    "##### John noted that many of the tests included in the dataset are for research purposes only (i.e., they do not correspond to specific tests that need to be passed). I would like to understand which of the 91 tests listed in the dataset are being tested for compliance purposes. "
   ]
  },
  {
   "cell_type": "code",
   "execution_count": 18,
   "metadata": {},
   "outputs": [
    {
     "name": "stdout",
     "output_type": "stream",
     "text": [
      "Number of Unique Samples:  31425\n"
     ]
    }
   ],
   "source": [
    "routine_compliance_information = routine_inter.loc[(\n",
    "    routine_inter['Compliance'] == 'Y') | (routine_inter['Compliance'] == 'N')]\n",
    "\n",
    "print('Number of Unique Samples: ', len(routine_compliance_information['Sample'].astype('str').unique()))"
   ]
  },
  {
   "cell_type": "code",
   "execution_count": 19,
   "metadata": {},
   "outputs": [],
   "source": [
    "# create dataframe with Test info that have Y/N Compliance values \n",
    "comp_info_test_counts = routine_compliance_information['Test'].value_counts().to_frame()\n",
    "comp_info_test_counts.reset_index(inplace=True)\n",
    "comp_info_test_counts.rename(columns={'index': 'test', 'Test': 'count'}, inplace=True)\n",
    "\n",
    "# Ceate Dataframe that lists all tests \n",
    "all_test_counts = routine_inter['Test'].value_counts().to_frame()\n",
    "all_test_counts.reset_index(inplace=True)\n",
    "all_test_counts.rename(columns={'index': 'test', 'Test': 'count'}, inplace=True)\n",
    "\n",
    "# Perform merge to find the tests without Y or N Compliance info \n",
    "merged_test_count = all_test_counts.merge(comp_info_test_counts, \n",
    "                     how='outer', \n",
    "                     on='test', \n",
    "                     indicator=True)"
   ]
  },
  {
   "cell_type": "code",
   "execution_count": 20,
   "metadata": {},
   "outputs": [
    {
     "name": "stdout",
     "output_type": "stream",
     "text": [
      "Number of tests for information Gathering:  21\n"
     ]
    },
    {
     "data": {
      "text/html": [
       "<div>\n",
       "<style scoped>\n",
       "    .dataframe tbody tr th:only-of-type {\n",
       "        vertical-align: middle;\n",
       "    }\n",
       "\n",
       "    .dataframe tbody tr th {\n",
       "        vertical-align: top;\n",
       "    }\n",
       "\n",
       "    .dataframe thead th {\n",
       "        text-align: right;\n",
       "    }\n",
       "</style>\n",
       "<table border=\"1\" class=\"dataframe\">\n",
       "  <thead>\n",
       "    <tr style=\"text-align: right;\">\n",
       "      <th></th>\n",
       "      <th>test</th>\n",
       "      <th>count_x</th>\n",
       "      <th>count_y</th>\n",
       "      <th>_merge</th>\n",
       "    </tr>\n",
       "  </thead>\n",
       "  <tbody>\n",
       "    <tr>\n",
       "      <th>2</th>\n",
       "      <td>Distillation 30%</td>\n",
       "      <td>31111</td>\n",
       "      <td>NaN</td>\n",
       "      <td>left_only</td>\n",
       "    </tr>\n",
       "    <tr>\n",
       "      <th>20</th>\n",
       "      <td>ETBE</td>\n",
       "      <td>20762</td>\n",
       "      <td>NaN</td>\n",
       "      <td>left_only</td>\n",
       "    </tr>\n",
       "    <tr>\n",
       "      <th>21</th>\n",
       "      <td>n-Butanol</td>\n",
       "      <td>20762</td>\n",
       "      <td>NaN</td>\n",
       "      <td>left_only</td>\n",
       "    </tr>\n",
       "    <tr>\n",
       "      <th>22</th>\n",
       "      <td>TAME</td>\n",
       "      <td>20762</td>\n",
       "      <td>NaN</td>\n",
       "      <td>left_only</td>\n",
       "    </tr>\n",
       "    <tr>\n",
       "      <th>26</th>\n",
       "      <td>MTBE</td>\n",
       "      <td>20762</td>\n",
       "      <td>NaN</td>\n",
       "      <td>left_only</td>\n",
       "    </tr>\n",
       "    <tr>\n",
       "      <th>27</th>\n",
       "      <td>Propanols</td>\n",
       "      <td>20762</td>\n",
       "      <td>NaN</td>\n",
       "      <td>left_only</td>\n",
       "    </tr>\n",
       "    <tr>\n",
       "      <th>28</th>\n",
       "      <td>tert-Butanol</td>\n",
       "      <td>20762</td>\n",
       "      <td>NaN</td>\n",
       "      <td>left_only</td>\n",
       "    </tr>\n",
       "    <tr>\n",
       "      <th>29</th>\n",
       "      <td>sec-Butanol</td>\n",
       "      <td>20762</td>\n",
       "      <td>NaN</td>\n",
       "      <td>left_only</td>\n",
       "    </tr>\n",
       "    <tr>\n",
       "      <th>30</th>\n",
       "      <td>DIPE</td>\n",
       "      <td>20762</td>\n",
       "      <td>NaN</td>\n",
       "      <td>left_only</td>\n",
       "    </tr>\n",
       "    <tr>\n",
       "      <th>32</th>\n",
       "      <td>iso-Butanol</td>\n",
       "      <td>20762</td>\n",
       "      <td>NaN</td>\n",
       "      <td>left_only</td>\n",
       "    </tr>\n",
       "    <tr>\n",
       "      <th>41</th>\n",
       "      <td>tert-Pentanol</td>\n",
       "      <td>9768</td>\n",
       "      <td>NaN</td>\n",
       "      <td>left_only</td>\n",
       "    </tr>\n",
       "    <tr>\n",
       "      <th>43</th>\n",
       "      <td>Cetane Number</td>\n",
       "      <td>9211</td>\n",
       "      <td>NaN</td>\n",
       "      <td>left_only</td>\n",
       "    </tr>\n",
       "    <tr>\n",
       "      <th>45</th>\n",
       "      <td>Cetane No.</td>\n",
       "      <td>9211</td>\n",
       "      <td>NaN</td>\n",
       "      <td>left_only</td>\n",
       "    </tr>\n",
       "    <tr>\n",
       "      <th>49</th>\n",
       "      <td>Particle Count - 4 micron</td>\n",
       "      <td>3788</td>\n",
       "      <td>NaN</td>\n",
       "      <td>left_only</td>\n",
       "    </tr>\n",
       "    <tr>\n",
       "      <th>50</th>\n",
       "      <td>Particle Count - 14 micron</td>\n",
       "      <td>3788</td>\n",
       "      <td>NaN</td>\n",
       "      <td>left_only</td>\n",
       "    </tr>\n",
       "    <tr>\n",
       "      <th>51</th>\n",
       "      <td>Particle Count - 6 micron</td>\n",
       "      <td>3788</td>\n",
       "      <td>NaN</td>\n",
       "      <td>left_only</td>\n",
       "    </tr>\n",
       "    <tr>\n",
       "      <th>52</th>\n",
       "      <td>Particle Count - ISO Code 1</td>\n",
       "      <td>3774</td>\n",
       "      <td>NaN</td>\n",
       "      <td>left_only</td>\n",
       "    </tr>\n",
       "    <tr>\n",
       "      <th>55</th>\n",
       "      <td>Particle Count - ISO Code 2</td>\n",
       "      <td>3615</td>\n",
       "      <td>NaN</td>\n",
       "      <td>left_only</td>\n",
       "    </tr>\n",
       "    <tr>\n",
       "      <th>66</th>\n",
       "      <td>Particle Count - ISO Count 2</td>\n",
       "      <td>159</td>\n",
       "      <td>NaN</td>\n",
       "      <td>left_only</td>\n",
       "    </tr>\n",
       "    <tr>\n",
       "      <th>79</th>\n",
       "      <td>Potential Gum</td>\n",
       "      <td>19</td>\n",
       "      <td>NaN</td>\n",
       "      <td>left_only</td>\n",
       "    </tr>\n",
       "    <tr>\n",
       "      <th>80</th>\n",
       "      <td>Lead Precipitate</td>\n",
       "      <td>19</td>\n",
       "      <td>NaN</td>\n",
       "      <td>left_only</td>\n",
       "    </tr>\n",
       "  </tbody>\n",
       "</table>\n",
       "</div>"
      ],
      "text/plain": [
       "                            test  count_x  count_y     _merge\n",
       "2               Distillation 30%    31111      NaN  left_only\n",
       "20                          ETBE    20762      NaN  left_only\n",
       "21                     n-Butanol    20762      NaN  left_only\n",
       "22                          TAME    20762      NaN  left_only\n",
       "26                          MTBE    20762      NaN  left_only\n",
       "27                     Propanols    20762      NaN  left_only\n",
       "28                  tert-Butanol    20762      NaN  left_only\n",
       "29                   sec-Butanol    20762      NaN  left_only\n",
       "30                          DIPE    20762      NaN  left_only\n",
       "32                   iso-Butanol    20762      NaN  left_only\n",
       "41                 tert-Pentanol     9768      NaN  left_only\n",
       "43                 Cetane Number     9211      NaN  left_only\n",
       "45                    Cetane No.     9211      NaN  left_only\n",
       "49     Particle Count - 4 micron     3788      NaN  left_only\n",
       "50    Particle Count - 14 micron     3788      NaN  left_only\n",
       "51     Particle Count - 6 micron     3788      NaN  left_only\n",
       "52   Particle Count - ISO Code 1     3774      NaN  left_only\n",
       "55   Particle Count - ISO Code 2     3615      NaN  left_only\n",
       "66  Particle Count - ISO Count 2      159      NaN  left_only\n",
       "79                 Potential Gum       19      NaN  left_only\n",
       "80              Lead Precipitate       19      NaN  left_only"
      ]
     },
     "execution_count": 20,
     "metadata": {},
     "output_type": "execute_result"
    }
   ],
   "source": [
    "print('Number of tests for information Gathering: ', len(merged_test_count.loc[merged_test_count['_merge']=='left_only']))\n",
    "merged_test_count.loc[merged_test_count['_merge']=='left_only']"
   ]
  },
  {
   "cell_type": "code",
   "execution_count": null,
   "metadata": {},
   "outputs": [],
   "source": []
  },
  {
   "cell_type": "code",
   "execution_count": null,
   "metadata": {},
   "outputs": [],
   "source": []
  }
 ],
 "metadata": {
  "kernelspec": {
   "display_name": "Python 3",
   "language": "python",
   "name": "python3"
  },
  "language_info": {
   "codemirror_mode": {
    "name": "ipython",
    "version": 3
   },
   "file_extension": ".py",
   "mimetype": "text/x-python",
   "name": "python",
   "nbconvert_exporter": "python",
   "pygments_lexer": "ipython3",
   "version": "3.7.3"
  },
  "toc": {
   "base_numbering": 1,
   "nav_menu": {},
   "number_sections": true,
   "sideBar": true,
   "skip_h1_title": false,
   "title_cell": "Table of Contents",
   "title_sidebar": "Contents",
   "toc_cell": false,
   "toc_position": {},
   "toc_section_display": true,
   "toc_window_display": false
  }
 },
 "nbformat": 4,
 "nbformat_minor": 2
}
