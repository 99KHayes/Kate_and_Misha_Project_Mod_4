{
 "cells": [
  {
   "cell_type": "code",
   "execution_count": 1,
   "metadata": {},
   "outputs": [],
   "source": [
    "import pandas as pd\n",
    "import numpy as np\n",
    "import matplotlib.pyplot as plt\n",
    "import seaborn as sns\n",
    "import statsmodels as stats\n",
    "%matplotlib inline"
   ]
  },
  {
   "cell_type": "code",
   "execution_count": 2,
   "metadata": {},
   "outputs": [],
   "source": [
    "volatility_df = pd.read_csv('../../data/03_processed/volatility_gas_ASTM.csv')"
   ]
  },
  {
   "cell_type": "code",
   "execution_count": 3,
   "metadata": {},
   "outputs": [
    {
     "name": "stdout",
     "output_type": "stream",
     "text": [
      "<class 'datetime.date'>\n"
     ]
    },
    {
     "data": {
      "text/html": [
       "<div>\n",
       "<style scoped>\n",
       "    .dataframe tbody tr th:only-of-type {\n",
       "        vertical-align: middle;\n",
       "    }\n",
       "\n",
       "    .dataframe tbody tr th {\n",
       "        vertical-align: top;\n",
       "    }\n",
       "\n",
       "    .dataframe thead th {\n",
       "        text-align: right;\n",
       "    }\n",
       "</style>\n",
       "<table border=\"1\" class=\"dataframe\">\n",
       "  <thead>\n",
       "    <tr style=\"text-align: right;\">\n",
       "      <th></th>\n",
       "      <th>Unnamed: 0</th>\n",
       "      <th>Sample</th>\n",
       "      <th>Prod</th>\n",
       "      <th>DateSampled</th>\n",
       "      <th>Grade</th>\n",
       "      <th>Supplier</th>\n",
       "      <th>FacilityName</th>\n",
       "      <th>SiteAddress</th>\n",
       "      <th>Test</th>\n",
       "      <th>Units</th>\n",
       "      <th>...</th>\n",
       "      <th>TN_retailers_seasons</th>\n",
       "      <th>TN_distributor_seasons</th>\n",
       "      <th>vapor_liquid_minC_retail</th>\n",
       "      <th>distillation_50_minC _retail</th>\n",
       "      <th>distillation_50_maxC_retail</th>\n",
       "      <th>vapor_pressure_maxC_retail</th>\n",
       "      <th>vapor_liquid_minC_dist</th>\n",
       "      <th>distillation_50_minC_dist</th>\n",
       "      <th>distillation_50_maxC_dist</th>\n",
       "      <th>vapor_pressure_maxC_dist</th>\n",
       "    </tr>\n",
       "    <tr>\n",
       "      <th>DateSampled</th>\n",
       "      <th></th>\n",
       "      <th></th>\n",
       "      <th></th>\n",
       "      <th></th>\n",
       "      <th></th>\n",
       "      <th></th>\n",
       "      <th></th>\n",
       "      <th></th>\n",
       "      <th></th>\n",
       "      <th></th>\n",
       "      <th></th>\n",
       "      <th></th>\n",
       "      <th></th>\n",
       "      <th></th>\n",
       "      <th></th>\n",
       "      <th></th>\n",
       "      <th></th>\n",
       "      <th></th>\n",
       "      <th></th>\n",
       "      <th></th>\n",
       "      <th></th>\n",
       "    </tr>\n",
       "  </thead>\n",
       "  <tbody>\n",
       "    <tr>\n",
       "      <th>2015-11-23</th>\n",
       "      <td>0</td>\n",
       "      <td>61916134</td>\n",
       "      <td>Gasoline</td>\n",
       "      <td>2015-11-23</td>\n",
       "      <td>Mid Grade Unleaded</td>\n",
       "      <td>Marathon Petroleum Lp</td>\n",
       "      <td>Circle K #2723609</td>\n",
       "      <td>198 Haywood Ln \\r\\nnashville, Tn 37211</td>\n",
       "      <td>Distillation 50%</td>\n",
       "      <td>Deg. C</td>\n",
       "      <td>...</td>\n",
       "      <td>C-3/D-4</td>\n",
       "      <td>C-3/D-4</td>\n",
       "      <td>42.0</td>\n",
       "      <td>77.0</td>\n",
       "      <td>116.0</td>\n",
       "      <td>93.0</td>\n",
       "      <td>42.0</td>\n",
       "      <td>77.0</td>\n",
       "      <td>116.0</td>\n",
       "      <td>93.0</td>\n",
       "    </tr>\n",
       "    <tr>\n",
       "      <th>2015-11-23</th>\n",
       "      <td>1</td>\n",
       "      <td>61916134</td>\n",
       "      <td>Gasoline</td>\n",
       "      <td>2015-11-23</td>\n",
       "      <td>Mid Grade Unleaded</td>\n",
       "      <td>Marathon Petroleum Lp</td>\n",
       "      <td>Circle K #2723609</td>\n",
       "      <td>198 Haywood Ln \\r\\nnashville, Tn 37211</td>\n",
       "      <td>Vapor Pressure</td>\n",
       "      <td>kPa</td>\n",
       "      <td>...</td>\n",
       "      <td>C-3/D-4</td>\n",
       "      <td>C-3/D-4</td>\n",
       "      <td>42.0</td>\n",
       "      <td>77.0</td>\n",
       "      <td>116.0</td>\n",
       "      <td>93.0</td>\n",
       "      <td>42.0</td>\n",
       "      <td>77.0</td>\n",
       "      <td>116.0</td>\n",
       "      <td>93.0</td>\n",
       "    </tr>\n",
       "    <tr>\n",
       "      <th>2015-11-23</th>\n",
       "      <td>2</td>\n",
       "      <td>61916134</td>\n",
       "      <td>Gasoline</td>\n",
       "      <td>2015-11-23</td>\n",
       "      <td>Mid Grade Unleaded</td>\n",
       "      <td>Marathon Petroleum Lp</td>\n",
       "      <td>Circle K #2723609</td>\n",
       "      <td>198 Haywood Ln \\r\\nnashville, Tn 37211</td>\n",
       "      <td>Vapor-Liquid Ratio</td>\n",
       "      <td>Deg. C</td>\n",
       "      <td>...</td>\n",
       "      <td>C-3/D-4</td>\n",
       "      <td>C-3/D-4</td>\n",
       "      <td>42.0</td>\n",
       "      <td>77.0</td>\n",
       "      <td>116.0</td>\n",
       "      <td>93.0</td>\n",
       "      <td>42.0</td>\n",
       "      <td>77.0</td>\n",
       "      <td>116.0</td>\n",
       "      <td>93.0</td>\n",
       "    </tr>\n",
       "    <tr>\n",
       "      <th>2015-11-24</th>\n",
       "      <td>3</td>\n",
       "      <td>61916135</td>\n",
       "      <td>Gasoline</td>\n",
       "      <td>2015-11-24</td>\n",
       "      <td>Regular Unleaded</td>\n",
       "      <td>NaN</td>\n",
       "      <td>Tiger Market #214</td>\n",
       "      <td>2001 8th Ave S \\r\\nnashville, Tn 37204</td>\n",
       "      <td>Distillation 50%</td>\n",
       "      <td>Deg. C</td>\n",
       "      <td>...</td>\n",
       "      <td>C-3/D-4</td>\n",
       "      <td>C-3/D-4</td>\n",
       "      <td>42.0</td>\n",
       "      <td>77.0</td>\n",
       "      <td>116.0</td>\n",
       "      <td>93.0</td>\n",
       "      <td>42.0</td>\n",
       "      <td>77.0</td>\n",
       "      <td>116.0</td>\n",
       "      <td>93.0</td>\n",
       "    </tr>\n",
       "    <tr>\n",
       "      <th>2015-11-24</th>\n",
       "      <td>4</td>\n",
       "      <td>61916135</td>\n",
       "      <td>Gasoline</td>\n",
       "      <td>2015-11-24</td>\n",
       "      <td>Regular Unleaded</td>\n",
       "      <td>NaN</td>\n",
       "      <td>Tiger Market #214</td>\n",
       "      <td>2001 8th Ave S \\r\\nnashville, Tn 37204</td>\n",
       "      <td>Vapor Pressure</td>\n",
       "      <td>kPa</td>\n",
       "      <td>...</td>\n",
       "      <td>C-3/D-4</td>\n",
       "      <td>C-3/D-4</td>\n",
       "      <td>42.0</td>\n",
       "      <td>77.0</td>\n",
       "      <td>116.0</td>\n",
       "      <td>93.0</td>\n",
       "      <td>42.0</td>\n",
       "      <td>77.0</td>\n",
       "      <td>116.0</td>\n",
       "      <td>93.0</td>\n",
       "    </tr>\n",
       "  </tbody>\n",
       "</table>\n",
       "<p>5 rows × 28 columns</p>\n",
       "</div>"
      ],
      "text/plain": [
       "             Unnamed: 0    Sample      Prod DateSampled               Grade  \\\n",
       "DateSampled                                                                   \n",
       "2015-11-23            0  61916134  Gasoline  2015-11-23  Mid Grade Unleaded   \n",
       "2015-11-23            1  61916134  Gasoline  2015-11-23  Mid Grade Unleaded   \n",
       "2015-11-23            2  61916134  Gasoline  2015-11-23  Mid Grade Unleaded   \n",
       "2015-11-24            3  61916135  Gasoline  2015-11-24    Regular Unleaded   \n",
       "2015-11-24            4  61916135  Gasoline  2015-11-24    Regular Unleaded   \n",
       "\n",
       "                          Supplier       FacilityName  \\\n",
       "DateSampled                                             \n",
       "2015-11-23   Marathon Petroleum Lp  Circle K #2723609   \n",
       "2015-11-23   Marathon Petroleum Lp  Circle K #2723609   \n",
       "2015-11-23   Marathon Petroleum Lp  Circle K #2723609   \n",
       "2015-11-24                     NaN  Tiger Market #214   \n",
       "2015-11-24                     NaN  Tiger Market #214   \n",
       "\n",
       "                                        SiteAddress                Test  \\\n",
       "DateSampled                                                               \n",
       "2015-11-23   198 Haywood Ln \\r\\nnashville, Tn 37211    Distillation 50%   \n",
       "2015-11-23   198 Haywood Ln \\r\\nnashville, Tn 37211      Vapor Pressure   \n",
       "2015-11-23   198 Haywood Ln \\r\\nnashville, Tn 37211  Vapor-Liquid Ratio   \n",
       "2015-11-24   2001 8th Ave S \\r\\nnashville, Tn 37204    Distillation 50%   \n",
       "2015-11-24   2001 8th Ave S \\r\\nnashville, Tn 37204      Vapor Pressure   \n",
       "\n",
       "              Units  ... TN_retailers_seasons TN_distributor_seasons  \\\n",
       "DateSampled          ...                                               \n",
       "2015-11-23   Deg. C  ...              C-3/D-4                C-3/D-4   \n",
       "2015-11-23      kPa  ...              C-3/D-4                C-3/D-4   \n",
       "2015-11-23   Deg. C  ...              C-3/D-4                C-3/D-4   \n",
       "2015-11-24   Deg. C  ...              C-3/D-4                C-3/D-4   \n",
       "2015-11-24      kPa  ...              C-3/D-4                C-3/D-4   \n",
       "\n",
       "            vapor_liquid_minC_retail distillation_50_minC _retail  \\\n",
       "DateSampled                                                         \n",
       "2015-11-23                      42.0                         77.0   \n",
       "2015-11-23                      42.0                         77.0   \n",
       "2015-11-23                      42.0                         77.0   \n",
       "2015-11-24                      42.0                         77.0   \n",
       "2015-11-24                      42.0                         77.0   \n",
       "\n",
       "            distillation_50_maxC_retail  vapor_pressure_maxC_retail  \\\n",
       "DateSampled                                                           \n",
       "2015-11-23                        116.0                        93.0   \n",
       "2015-11-23                        116.0                        93.0   \n",
       "2015-11-23                        116.0                        93.0   \n",
       "2015-11-24                        116.0                        93.0   \n",
       "2015-11-24                        116.0                        93.0   \n",
       "\n",
       "             vapor_liquid_minC_dist distillation_50_minC_dist  \\\n",
       "DateSampled                                                     \n",
       "2015-11-23                     42.0                      77.0   \n",
       "2015-11-23                     42.0                      77.0   \n",
       "2015-11-23                     42.0                      77.0   \n",
       "2015-11-24                     42.0                      77.0   \n",
       "2015-11-24                     42.0                      77.0   \n",
       "\n",
       "            distillation_50_maxC_dist vapor_pressure_maxC_dist  \n",
       "DateSampled                                                     \n",
       "2015-11-23                      116.0                     93.0  \n",
       "2015-11-23                      116.0                     93.0  \n",
       "2015-11-23                      116.0                     93.0  \n",
       "2015-11-24                      116.0                     93.0  \n",
       "2015-11-24                      116.0                     93.0  \n",
       "\n",
       "[5 rows x 28 columns]"
      ]
     },
     "execution_count": 3,
     "metadata": {},
     "output_type": "execute_result"
    }
   ],
   "source": [
    "volatility_df['DateSampled'] = pd.to_datetime(volatility_df.DateSampled).apply(lambda x: x.date())\n",
    "volatility_df = volatility_df.set_index(volatility_df.DateSampled)\n",
    "print(type(volatility_df.index[0]))\n",
    "volatility_df.head()"
   ]
  },
  {
   "cell_type": "code",
   "execution_count": 4,
   "metadata": {},
   "outputs": [
    {
     "data": {
      "text/plain": [
       "Index(['Unnamed: 0', 'Sample', 'Prod', 'DateSampled', 'Grade', 'Supplier',\n",
       "       'FacilityName', 'SiteAddress', 'Test', 'Units', 'Method', 'Result',\n",
       "       'MinResult', 'MaxResult', 'Compliance', 'datesampled_month',\n",
       "       'datesampled_day', 'Date', 'TN_retailers_seasons',\n",
       "       'TN_distributor_seasons', 'vapor_liquid_minC_retail',\n",
       "       'distillation_50_minC _retail', 'distillation_50_maxC_retail',\n",
       "       'vapor_pressure_maxC_retail', 'vapor_liquid_minC_dist',\n",
       "       'distillation_50_minC_dist', 'distillation_50_maxC_dist',\n",
       "       'vapor_pressure_maxC_dist'],\n",
       "      dtype='object')"
      ]
     },
     "execution_count": 4,
     "metadata": {},
     "output_type": "execute_result"
    }
   ],
   "source": [
    "volatility_df.columns"
   ]
  },
  {
   "cell_type": "code",
   "execution_count": 17,
   "metadata": {},
   "outputs": [
    {
     "data": {
      "text/html": [
       "<div>\n",
       "<style scoped>\n",
       "    .dataframe tbody tr th:only-of-type {\n",
       "        vertical-align: middle;\n",
       "    }\n",
       "\n",
       "    .dataframe tbody tr th {\n",
       "        vertical-align: top;\n",
       "    }\n",
       "\n",
       "    .dataframe thead th {\n",
       "        text-align: right;\n",
       "    }\n",
       "</style>\n",
       "<table border=\"1\" class=\"dataframe\">\n",
       "  <thead>\n",
       "    <tr style=\"text-align: right;\">\n",
       "      <th></th>\n",
       "      <th>Test</th>\n",
       "      <th>Result</th>\n",
       "    </tr>\n",
       "    <tr>\n",
       "      <th>DateSampled</th>\n",
       "      <th></th>\n",
       "      <th></th>\n",
       "    </tr>\n",
       "  </thead>\n",
       "  <tbody>\n",
       "    <tr>\n",
       "      <th>2015-11-23</th>\n",
       "      <td>Distillation 50%</td>\n",
       "      <td>73.3</td>\n",
       "    </tr>\n",
       "    <tr>\n",
       "      <th>2015-11-23</th>\n",
       "      <td>Vapor Pressure</td>\n",
       "      <td>88.9</td>\n",
       "    </tr>\n",
       "    <tr>\n",
       "      <th>2015-11-23</th>\n",
       "      <td>Vapor-Liquid Ratio</td>\n",
       "      <td>44.6</td>\n",
       "    </tr>\n",
       "    <tr>\n",
       "      <th>2015-11-24</th>\n",
       "      <td>Distillation 50%</td>\n",
       "      <td>67.4</td>\n",
       "    </tr>\n",
       "    <tr>\n",
       "      <th>2015-11-24</th>\n",
       "      <td>Vapor Pressure</td>\n",
       "      <td>92.7</td>\n",
       "    </tr>\n",
       "  </tbody>\n",
       "</table>\n",
       "</div>"
      ],
      "text/plain": [
       "                           Test Result\n",
       "DateSampled                           \n",
       "2015-11-23     Distillation 50%   73.3\n",
       "2015-11-23       Vapor Pressure   88.9\n",
       "2015-11-23   Vapor-Liquid Ratio   44.6\n",
       "2015-11-24     Distillation 50%   67.4\n",
       "2015-11-24       Vapor Pressure   92.7"
      ]
     },
     "execution_count": 17,
     "metadata": {},
     "output_type": "execute_result"
    }
   ],
   "source": [
    "volatility_results_df = volatility_df[['Test','Result']]\n",
    "volatility_results_df.head()"
   ]
  },
  {
   "cell_type": "code",
   "execution_count": 33,
   "metadata": {},
   "outputs": [
    {
     "name": "stderr",
     "output_type": "stream",
     "text": [
      "/Users/Kate/anaconda3/lib/python3.7/site-packages/ipykernel_launcher.py:1: SettingWithCopyWarning: \n",
      "A value is trying to be set on a copy of a slice from a DataFrame.\n",
      "Try using .loc[row_indexer,col_indexer] = value instead\n",
      "\n",
      "See the caveats in the documentation: http://pandas.pydata.org/pandas-docs/stable/indexing.html#indexing-view-versus-copy\n",
      "  \"\"\"Entry point for launching an IPython kernel.\n"
     ]
    }
   ],
   "source": [
    "volatility_results_df['Result'] = volatility_results_df.Result.replace('  ', np.nan)"
   ]
  },
  {
   "cell_type": "code",
   "execution_count": 51,
   "metadata": {},
   "outputs": [
    {
     "name": "stderr",
     "output_type": "stream",
     "text": [
      "/Users/Kate/anaconda3/lib/python3.7/site-packages/ipykernel_launcher.py:1: SettingWithCopyWarning: \n",
      "A value is trying to be set on a copy of a slice from a DataFrame.\n",
      "Try using .loc[row_indexer,col_indexer] = value instead\n",
      "\n",
      "See the caveats in the documentation: http://pandas.pydata.org/pandas-docs/stable/indexing.html#indexing-view-versus-copy\n",
      "  \"\"\"Entry point for launching an IPython kernel.\n"
     ]
    }
   ],
   "source": [
    "volatility_results_df['temp'] = volatility_results_df.Result.astype('float')"
   ]
  },
  {
   "cell_type": "code",
   "execution_count": 56,
   "metadata": {
    "scrolled": true
   },
   "outputs": [
    {
     "name": "stdout",
     "output_type": "stream",
     "text": [
      "<class 'pandas.core.frame.DataFrame'>\n",
      "Index: 62256 entries, 2015-11-23 to 2018-06-20\n",
      "Data columns (total 2 columns):\n",
      "Test    62256 non-null object\n",
      "temp    62111 non-null float64\n",
      "dtypes: float64(1), object(1)\n",
      "memory usage: 2.7+ MB\n"
     ]
    },
    {
     "name": "stderr",
     "output_type": "stream",
     "text": [
      "/Users/Kate/anaconda3/lib/python3.7/site-packages/pandas/core/frame.py:3940: SettingWithCopyWarning: \n",
      "A value is trying to be set on a copy of a slice from a DataFrame\n",
      "\n",
      "See the caveats in the documentation: http://pandas.pydata.org/pandas-docs/stable/indexing.html#indexing-view-versus-copy\n",
      "  errors=errors)\n"
     ]
    }
   ],
   "source": [
    "volatility_results_df.drop('Result', axis=1, inplace=True)\n",
    "volatility_results_df.info()"
   ]
  },
  {
   "cell_type": "code",
   "execution_count": 59,
   "metadata": {},
   "outputs": [
    {
     "data": {
      "text/html": [
       "<div>\n",
       "<style scoped>\n",
       "    .dataframe tbody tr th:only-of-type {\n",
       "        vertical-align: middle;\n",
       "    }\n",
       "\n",
       "    .dataframe tbody tr th {\n",
       "        vertical-align: top;\n",
       "    }\n",
       "\n",
       "    .dataframe thead th {\n",
       "        text-align: right;\n",
       "    }\n",
       "</style>\n",
       "<table border=\"1\" class=\"dataframe\">\n",
       "  <thead>\n",
       "    <tr style=\"text-align: right;\">\n",
       "      <th></th>\n",
       "      <th>Test</th>\n",
       "      <th>temp</th>\n",
       "    </tr>\n",
       "    <tr>\n",
       "      <th>DateSampled</th>\n",
       "      <th></th>\n",
       "      <th></th>\n",
       "    </tr>\n",
       "  </thead>\n",
       "  <tbody>\n",
       "    <tr>\n",
       "      <th>2015-11-23</th>\n",
       "      <td>Distillation 50%</td>\n",
       "      <td>73.3</td>\n",
       "    </tr>\n",
       "    <tr>\n",
       "      <th>2015-11-23</th>\n",
       "      <td>Vapor Pressure</td>\n",
       "      <td>88.9</td>\n",
       "    </tr>\n",
       "    <tr>\n",
       "      <th>2015-11-23</th>\n",
       "      <td>Vapor-Liquid Ratio</td>\n",
       "      <td>44.6</td>\n",
       "    </tr>\n",
       "    <tr>\n",
       "      <th>2015-11-24</th>\n",
       "      <td>Distillation 50%</td>\n",
       "      <td>67.4</td>\n",
       "    </tr>\n",
       "    <tr>\n",
       "      <th>2015-11-24</th>\n",
       "      <td>Vapor Pressure</td>\n",
       "      <td>92.7</td>\n",
       "    </tr>\n",
       "  </tbody>\n",
       "</table>\n",
       "</div>"
      ],
      "text/plain": [
       "                           Test  temp\n",
       "DateSampled                          \n",
       "2015-11-23     Distillation 50%  73.3\n",
       "2015-11-23       Vapor Pressure  88.9\n",
       "2015-11-23   Vapor-Liquid Ratio  44.6\n",
       "2015-11-24     Distillation 50%  67.4\n",
       "2015-11-24       Vapor Pressure  92.7"
      ]
     },
     "execution_count": 59,
     "metadata": {},
     "output_type": "execute_result"
    }
   ],
   "source": [
    "volatility_results_floats_df = volatility_results_df.dropna()\n",
    "volatility_results_floats_df.head()"
   ]
  },
  {
   "cell_type": "code",
   "execution_count": 60,
   "metadata": {},
   "outputs": [
    {
     "name": "stderr",
     "output_type": "stream",
     "text": [
      "/Users/Kate/anaconda3/lib/python3.7/site-packages/pandas/core/frame.py:4025: SettingWithCopyWarning: \n",
      "A value is trying to be set on a copy of a slice from a DataFrame\n",
      "\n",
      "See the caveats in the documentation: http://pandas.pydata.org/pandas-docs/stable/indexing.html#indexing-view-versus-copy\n",
      "  return super(DataFrame, self).rename(**kwargs)\n"
     ]
    }
   ],
   "source": [
    "# Make data frames for each test to compare seasonality with temperature results of test\n",
    "distillation_50_df = volatility_results_floats_df[volatility_results_floats_df.Test == 'Distillation 50%']\n",
    "distillation_50_df.rename(columns={\"temp\": \"Result_deg_C\"}, inplace =True)\n",
    "Distillation_50 = distillation_50_df.drop(columns=['Test'])\n",
    "\n",
    "vapor_liquid_df = volatility_results_floats_df[volatility_results_floats_df.Test == 'Vapor-Liquid Ratio']\n",
    "vapor_liquid_df.rename(columns={\"temp\": \"Result_deg_C\"}, inplace =True)\n",
    "Vapor_Liquid = vapor_liquid_df.drop(columns=['Test'])\n",
    "\n",
    "vapor_pressure_df = volatility_results_floats_df[volatility_results_floats_df.Test == 'Vapor Pressure']\n",
    "vapor_pressure_df.rename(columns={\"temp\": \"Result_deg_C\"}, inplace =True)\n",
    "Vapor_Pressure = vapor_pressure_df.drop(columns=['Test'])"
   ]
  },
  {
   "cell_type": "code",
   "execution_count": 69,
   "metadata": {},
   "outputs": [
    {
     "ename": "TypeError",
     "evalue": "sort_values() missing 1 required positional argument: 'by'",
     "output_type": "error",
     "traceback": [
      "\u001b[0;31m---------------------------------------------------------------------------\u001b[0m",
      "\u001b[0;31mTypeError\u001b[0m                                 Traceback (most recent call last)",
      "\u001b[0;32m<ipython-input-69-09c338a3fc02>\u001b[0m in \u001b[0;36m<module>\u001b[0;34m\u001b[0m\n\u001b[0;32m----> 1\u001b[0;31m \u001b[0mDistillation_50\u001b[0m\u001b[0;34m.\u001b[0m\u001b[0msort_values\u001b[0m\u001b[0;34m(\u001b[0m \u001b[0maxis\u001b[0m \u001b[0;34m=\u001b[0m \u001b[0;36m1\u001b[0m\u001b[0;34m)\u001b[0m\u001b[0;34m\u001b[0m\u001b[0;34m\u001b[0m\u001b[0m\n\u001b[0m\u001b[1;32m      2\u001b[0m \u001b[0mDistillation_50\u001b[0m\u001b[0;34m.\u001b[0m\u001b[0mhead\u001b[0m\u001b[0;34m(\u001b[0m\u001b[0;36m20\u001b[0m\u001b[0;34m)\u001b[0m\u001b[0;34m\u001b[0m\u001b[0;34m\u001b[0m\u001b[0m\n",
      "\u001b[0;31mTypeError\u001b[0m: sort_values() missing 1 required positional argument: 'by'"
     ]
    }
   ],
   "source": [
    "Distillation_50.sort_values(by,  axis = 1)\n",
    "Distillation_50.head(20)"
   ]
  },
  {
   "cell_type": "code",
   "execution_count": 61,
   "metadata": {},
   "outputs": [
    {
     "data": {
      "text/html": [
       "<div>\n",
       "<style scoped>\n",
       "    .dataframe tbody tr th:only-of-type {\n",
       "        vertical-align: middle;\n",
       "    }\n",
       "\n",
       "    .dataframe tbody tr th {\n",
       "        vertical-align: top;\n",
       "    }\n",
       "\n",
       "    .dataframe thead th {\n",
       "        text-align: right;\n",
       "    }\n",
       "</style>\n",
       "<table border=\"1\" class=\"dataframe\">\n",
       "  <thead>\n",
       "    <tr style=\"text-align: right;\">\n",
       "      <th></th>\n",
       "      <th>Result_deg_C</th>\n",
       "    </tr>\n",
       "    <tr>\n",
       "      <th>DateSampled</th>\n",
       "      <th></th>\n",
       "    </tr>\n",
       "  </thead>\n",
       "  <tbody>\n",
       "    <tr>\n",
       "      <th>2015-11-23</th>\n",
       "      <td>44.6</td>\n",
       "    </tr>\n",
       "    <tr>\n",
       "      <th>2015-11-24</th>\n",
       "      <td>43.0</td>\n",
       "    </tr>\n",
       "    <tr>\n",
       "      <th>2015-11-24</th>\n",
       "      <td>42.2</td>\n",
       "    </tr>\n",
       "    <tr>\n",
       "      <th>2015-11-24</th>\n",
       "      <td>51.1</td>\n",
       "    </tr>\n",
       "    <tr>\n",
       "      <th>2015-12-02</th>\n",
       "      <td>43.5</td>\n",
       "    </tr>\n",
       "  </tbody>\n",
       "</table>\n",
       "</div>"
      ],
      "text/plain": [
       "             Result_deg_C\n",
       "DateSampled              \n",
       "2015-11-23           44.6\n",
       "2015-11-24           43.0\n",
       "2015-11-24           42.2\n",
       "2015-11-24           51.1\n",
       "2015-12-02           43.5"
      ]
     },
     "execution_count": 61,
     "metadata": {},
     "output_type": "execute_result"
    }
   ],
   "source": [
    "Vapor_Liquid.head()"
   ]
  },
  {
   "cell_type": "code",
   "execution_count": 62,
   "metadata": {},
   "outputs": [
    {
     "data": {
      "text/html": [
       "<div>\n",
       "<style scoped>\n",
       "    .dataframe tbody tr th:only-of-type {\n",
       "        vertical-align: middle;\n",
       "    }\n",
       "\n",
       "    .dataframe tbody tr th {\n",
       "        vertical-align: top;\n",
       "    }\n",
       "\n",
       "    .dataframe thead th {\n",
       "        text-align: right;\n",
       "    }\n",
       "</style>\n",
       "<table border=\"1\" class=\"dataframe\">\n",
       "  <thead>\n",
       "    <tr style=\"text-align: right;\">\n",
       "      <th></th>\n",
       "      <th>Result_deg_C</th>\n",
       "    </tr>\n",
       "    <tr>\n",
       "      <th>DateSampled</th>\n",
       "      <th></th>\n",
       "    </tr>\n",
       "  </thead>\n",
       "  <tbody>\n",
       "    <tr>\n",
       "      <th>2015-11-23</th>\n",
       "      <td>88.9</td>\n",
       "    </tr>\n",
       "    <tr>\n",
       "      <th>2015-11-24</th>\n",
       "      <td>92.7</td>\n",
       "    </tr>\n",
       "    <tr>\n",
       "      <th>2015-11-24</th>\n",
       "      <td>94.3</td>\n",
       "    </tr>\n",
       "    <tr>\n",
       "      <th>2015-11-24</th>\n",
       "      <td>91.4</td>\n",
       "    </tr>\n",
       "    <tr>\n",
       "      <th>2015-12-02</th>\n",
       "      <td>93.0</td>\n",
       "    </tr>\n",
       "  </tbody>\n",
       "</table>\n",
       "</div>"
      ],
      "text/plain": [
       "             Result_deg_C\n",
       "DateSampled              \n",
       "2015-11-23           88.9\n",
       "2015-11-24           92.7\n",
       "2015-11-24           94.3\n",
       "2015-11-24           91.4\n",
       "2015-12-02           93.0"
      ]
     },
     "execution_count": 62,
     "metadata": {},
     "output_type": "execute_result"
    }
   ],
   "source": [
    "Vapor_Pressure.head()"
   ]
  },
  {
   "cell_type": "markdown",
   "metadata": {},
   "source": [
    "## do the stationary time check"
   ]
  },
  {
   "cell_type": "code",
   "execution_count": 63,
   "metadata": {},
   "outputs": [
    {
     "name": "stderr",
     "output_type": "stream",
     "text": [
      "/Users/Kate/anaconda3/lib/python3.7/site-packages/pandas/plotting/_converter.py:129: FutureWarning: Using an implicitly registered datetime converter for a matplotlib plotting method. The converter was registered by pandas on import. Future versions of pandas will require you to explicitly register matplotlib converters.\n",
      "\n",
      "To register the converters:\n",
      "\t>>> from pandas.plotting import register_matplotlib_converters\n",
      "\t>>> register_matplotlib_converters()\n",
      "  warnings.warn(msg, FutureWarning)\n"
     ]
    },
    {
     "data": {
      "image/png": "[encoded data removed]",
      "text/plain": [
       "<Figure size 864x432 with 1 Axes>"
      ]
     },
     "metadata": {
      "needs_background": "light"
     },
     "output_type": "display_data"
    },
    {
     "name": "stdout",
     "output_type": "stream",
     "text": [
      "Results of Dickey-Fuller Test:\n",
      "Test Statistic                -1.564083e+01\n",
      "p-value                        1.641089e-28\n",
      "#Lags Used                     2.500000e+01\n",
      "Number of Observations Used    2.067700e+04\n",
      "Critical Value (1%)           -3.430666e+00\n",
      "Critical Value (5%)           -2.861680e+00\n",
      "Critical Value (10%)          -2.566844e+00\n",
      "dtype: float64\n"
     ]
    }
   ],
   "source": [
    "import pandas as pd\n",
    "from pandas import Series\n",
    "import numpy as np\n",
    "\n",
    "import matplotlib.pylab as plt\n",
    "%matplotlib inline\n",
    "\n",
    "# Import the check_stationarity function from previous lab\n",
    "def stationarity_check(TS):\n",
    "    \n",
    "    # Import adfuller\n",
    "    from statsmodels.tsa.stattools import adfuller\n",
    "    \n",
    "    # Calculate rolling statistics\n",
    "    rolmean = TS.rolling(window = 8, center = False).mean()\n",
    "    rolstd = TS.rolling(window = 8, center = False).std()\n",
    "    \n",
    "    # Perform the Dickey Fuller Test\n",
    "    dftest = adfuller(TS['Result_deg_C']) # change the passengers column as required \n",
    "    \n",
    "    #Plot rolling statistics:\n",
    "    fig = plt.figure(figsize=(12,6))\n",
    "    orig = plt.plot(TS, color='blue',label='Original')\n",
    "    mean = plt.plot(rolmean, color='red', label='Rolling Mean')\n",
    "    std = plt.plot(rolstd, color='black', label = 'Rolling Std')\n",
    "    plt.legend(loc='best')\n",
    "    plt.title('Rolling Mean & Standard Deviation')\n",
    "    plt.show(block=False)\n",
    "    \n",
    "    # Print Dickey-Fuller test results\n",
    "    print ('Results of Dickey-Fuller Test:')\n",
    "\n",
    "    dfoutput = pd.Series(dftest[0:4], index=['Test Statistic','p-value','#Lags Used','Number of Observations Used'])\n",
    "    for key,value in dftest[4].items():\n",
    "        dfoutput['Critical Value (%s)'%key] = value\n",
    "    print (dfoutput)\n",
    "    \n",
    "    return None\n",
    "\n",
    "# Import passengers.csv and set it as a time-series object. Plot the TS\n",
    "#Distillation_50.plot(figsize=(10,4), color=\"blue\");\n",
    "stationarity_check(Distillation_50)"
   ]
  },
  {
   "cell_type": "code",
   "execution_count": 64,
   "metadata": {},
   "outputs": [
    {
     "data": {
      "image/png": "[encoded data removed]",
      "text/plain": [
       "<Figure size 432x288 with 1 Axes>"
      ]
     },
     "metadata": {
      "needs_background": "light"
     },
     "output_type": "display_data"
    }
   ],
   "source": [
    "ax = Distillation_50.plot.kde()\n",
    "plt.show()"
   ]
  },
  {
   "cell_type": "code",
   "execution_count": 22,
   "metadata": {},
   "outputs": [
    {
     "ename": "TypeError",
     "evalue": "ufunc 'isfinite' not supported for the input types, and the inputs could not be safely coerced to any supported types according to the casting rule ''safe''",
     "output_type": "error",
     "traceback": [
      "\u001b[0;31m---------------------------------------------------------------------------\u001b[0m",
      "\u001b[0;31mTypeError\u001b[0m                                 Traceback (most recent call last)",
      "\u001b[0;32m<ipython-input-22-643bd0b1de1f>\u001b[0m in \u001b[0;36m<module>\u001b[0;34m\u001b[0m\n\u001b[1;32m      1\u001b[0m \u001b[0;31m# import seasonal_decompose\u001b[0m\u001b[0;34m\u001b[0m\u001b[0;34m\u001b[0m\u001b[0;34m\u001b[0m\u001b[0m\n\u001b[1;32m      2\u001b[0m \u001b[0;32mfrom\u001b[0m \u001b[0mstatsmodels\u001b[0m\u001b[0;34m.\u001b[0m\u001b[0mtsa\u001b[0m\u001b[0;34m.\u001b[0m\u001b[0mseasonal\u001b[0m \u001b[0;32mimport\u001b[0m \u001b[0mseasonal_decompose\u001b[0m\u001b[0;34m\u001b[0m\u001b[0;34m\u001b[0m\u001b[0m\n\u001b[0;32m----> 3\u001b[0;31m \u001b[0mdecomposition\u001b[0m \u001b[0;34m=\u001b[0m \u001b[0mseasonal_decompose\u001b[0m\u001b[0;34m(\u001b[0m\u001b[0mdistillation_50_df\u001b[0m\u001b[0;34m.\u001b[0m\u001b[0mResult_deg_C\u001b[0m\u001b[0;34m)\u001b[0m\u001b[0;34m\u001b[0m\u001b[0;34m\u001b[0m\u001b[0m\n\u001b[0m\u001b[1;32m      4\u001b[0m \u001b[0;34m\u001b[0m\u001b[0m\n\u001b[1;32m      5\u001b[0m \u001b[0;31m# Gather the trend, seasonality and noise of decomposed object\u001b[0m\u001b[0;34m\u001b[0m\u001b[0;34m\u001b[0m\u001b[0;34m\u001b[0m\u001b[0m\n",
      "\u001b[0;32m~/anaconda3/lib/python3.7/site-packages/statsmodels/tsa/seasonal.py\u001b[0m in \u001b[0;36mseasonal_decompose\u001b[0;34m(x, model, filt, freq, two_sided, extrapolate_trend)\u001b[0m\n\u001b[1;32m    113\u001b[0m     \u001b[0mnobs\u001b[0m \u001b[0;34m=\u001b[0m \u001b[0mlen\u001b[0m\u001b[0;34m(\u001b[0m\u001b[0mx\u001b[0m\u001b[0;34m)\u001b[0m\u001b[0;34m\u001b[0m\u001b[0;34m\u001b[0m\u001b[0m\n\u001b[1;32m    114\u001b[0m \u001b[0;34m\u001b[0m\u001b[0m\n\u001b[0;32m--> 115\u001b[0;31m     \u001b[0;32mif\u001b[0m \u001b[0;32mnot\u001b[0m \u001b[0mnp\u001b[0m\u001b[0;34m.\u001b[0m\u001b[0mall\u001b[0m\u001b[0;34m(\u001b[0m\u001b[0mnp\u001b[0m\u001b[0;34m.\u001b[0m\u001b[0misfinite\u001b[0m\u001b[0;34m(\u001b[0m\u001b[0mx\u001b[0m\u001b[0;34m)\u001b[0m\u001b[0;34m)\u001b[0m\u001b[0;34m:\u001b[0m\u001b[0;34m\u001b[0m\u001b[0;34m\u001b[0m\u001b[0m\n\u001b[0m\u001b[1;32m    116\u001b[0m         \u001b[0;32mraise\u001b[0m \u001b[0mValueError\u001b[0m\u001b[0;34m(\u001b[0m\u001b[0;34m\"This function does not handle missing values\"\u001b[0m\u001b[0;34m)\u001b[0m\u001b[0;34m\u001b[0m\u001b[0;34m\u001b[0m\u001b[0m\n\u001b[1;32m    117\u001b[0m     \u001b[0;32mif\u001b[0m \u001b[0mmodel\u001b[0m\u001b[0;34m.\u001b[0m\u001b[0mstartswith\u001b[0m\u001b[0;34m(\u001b[0m\u001b[0;34m'm'\u001b[0m\u001b[0;34m)\u001b[0m\u001b[0;34m:\u001b[0m\u001b[0;34m\u001b[0m\u001b[0;34m\u001b[0m\u001b[0m\n",
      "\u001b[0;31mTypeError\u001b[0m: ufunc 'isfinite' not supported for the input types, and the inputs could not be safely coerced to any supported types according to the casting rule ''safe''"
     ]
    }
   ],
   "source": [
    "# import seasonal_decompose\n",
    "from statsmodels.tsa.seasonal import seasonal_decompose\n",
    "decomposition = seasonal_decompose(distillation_50_df.Result_deg_C)\n",
    "\n",
    "# Gather the trend, seasonality and noise of decomposed object\n",
    "trend = decomposition.trend\n",
    "seasonal = decomposition.seasonal\n",
    "residual = decomposition.resid\n",
    "\n",
    "# Plot gathered statistics\n",
    "plt.figure(figsize=(12,8))\n",
    "plt.subplot(411)\n",
    "plt.plot(np.log(ts), label='Original', color=\"blue\")\n",
    "plt.legend(loc='best')\n",
    "plt.subplot(412)\n",
    "plt.plot(trend, label='Trend', color=\"blue\")\n",
    "plt.legend(loc='best')\n",
    "plt.subplot(413)\n",
    "plt.plot(seasonal,label='Seasonality', color=\"blue\")\n",
    "plt.legend(loc='best')\n",
    "plt.subplot(414)\n",
    "plt.plot(residual, label='Residuals', color=\"blue\")\n",
    "plt.legend(loc='best')\n",
    "plt.tight_layout()"
   ]
  },
  {
   "cell_type": "code",
   "execution_count": null,
   "metadata": {},
   "outputs": [],
   "source": []
  }
 ],
 "metadata": {
  "kernelspec": {
   "display_name": "Python 3",
   "language": "python",
   "name": "python3"
  },
  "language_info": {
   "codemirror_mode": {
    "name": "ipython",
    "version": 3
   },
   "file_extension": ".py",
   "mimetype": "text/x-python",
   "name": "python",
   "nbconvert_exporter": "python",
   "pygments_lexer": "ipython3",
   "version": "3.7.3"
  }
 },
 "nbformat": 4,
 "nbformat_minor": 2
}
