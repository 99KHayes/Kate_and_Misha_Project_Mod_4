{
 "cells": [
  {
   "cell_type": "code",
   "execution_count": 1,
   "metadata": {},
   "outputs": [],
   "source": [
    "import pandas as pd\n",
    "import numpy as np\n",
    "import matplotlib.pyplot as plt\n",
    "import seaborn as sns\n",
    "import statsmodels as stats\n",
    "%matplotlib inline"
   ]
  },
  {
   "cell_type": "code",
   "execution_count": 2,
   "metadata": {},
   "outputs": [],
   "source": [
    "volatility_df = pd.read_csv('../../data/03_processed/volatility_gas_ASTM.csv')"
   ]
  },
  {
   "cell_type": "code",
   "execution_count": 3,
   "metadata": {},
   "outputs": [
    {
     "name": "stdout",
     "output_type": "stream",
     "text": [
      "<class 'datetime.date'>\n"
     ]
    },
    {
     "data": {
      "text/html": [
       "<div>\n",
       "<style scoped>\n",
       "    .dataframe tbody tr th:only-of-type {\n",
       "        vertical-align: middle;\n",
       "    }\n",
       "\n",
       "    .dataframe tbody tr th {\n",
       "        vertical-align: top;\n",
       "    }\n",
       "\n",
       "    .dataframe thead th {\n",
       "        text-align: right;\n",
       "    }\n",
       "</style>\n",
       "<table border=\"1\" class=\"dataframe\">\n",
       "  <thead>\n",
       "    <tr style=\"text-align: right;\">\n",
       "      <th></th>\n",
       "      <th>Unnamed: 0</th>\n",
       "      <th>Sample</th>\n",
       "      <th>Prod</th>\n",
       "      <th>DateSampled</th>\n",
       "      <th>Grade</th>\n",
       "      <th>Supplier</th>\n",
       "      <th>FacilityName</th>\n",
       "      <th>SiteAddress</th>\n",
       "      <th>Test</th>\n",
       "      <th>Units</th>\n",
       "      <th>...</th>\n",
       "      <th>TN_retailers_seasons</th>\n",
       "      <th>TN_distributor_seasons</th>\n",
       "      <th>vapor_liquid_minC_retail</th>\n",
       "      <th>distillation_50_minC _retail</th>\n",
       "      <th>distillation_50_maxC_retail</th>\n",
       "      <th>vapor_pressure_maxC_retail</th>\n",
       "      <th>vapor_liquid_minC_dist</th>\n",
       "      <th>distillation_50_minC_dist</th>\n",
       "      <th>distillation_50_maxC_dist</th>\n",
       "      <th>vapor_pressure_maxC_dist</th>\n",
       "    </tr>\n",
       "    <tr>\n",
       "      <th>DateSampled</th>\n",
       "      <th></th>\n",
       "      <th></th>\n",
       "      <th></th>\n",
       "      <th></th>\n",
       "      <th></th>\n",
       "      <th></th>\n",
       "      <th></th>\n",
       "      <th></th>\n",
       "      <th></th>\n",
       "      <th></th>\n",
       "      <th></th>\n",
       "      <th></th>\n",
       "      <th></th>\n",
       "      <th></th>\n",
       "      <th></th>\n",
       "      <th></th>\n",
       "      <th></th>\n",
       "      <th></th>\n",
       "      <th></th>\n",
       "      <th></th>\n",
       "      <th></th>\n",
       "    </tr>\n",
       "  </thead>\n",
       "  <tbody>\n",
       "    <tr>\n",
       "      <th>2015-11-23</th>\n",
       "      <td>0</td>\n",
       "      <td>61916134</td>\n",
       "      <td>Gasoline</td>\n",
       "      <td>2015-11-23</td>\n",
       "      <td>Mid Grade Unleaded</td>\n",
       "      <td>Marathon Petroleum Lp</td>\n",
       "      <td>Circle K #2723609</td>\n",
       "      <td>198 Haywood Ln \\r\\nnashville, Tn 37211</td>\n",
       "      <td>Distillation 50%</td>\n",
       "      <td>Deg. C</td>\n",
       "      <td>...</td>\n",
       "      <td>C-3/D-4</td>\n",
       "      <td>C-3/D-4</td>\n",
       "      <td>42.0</td>\n",
       "      <td>77.0</td>\n",
       "      <td>116.0</td>\n",
       "      <td>93.0</td>\n",
       "      <td>42.0</td>\n",
       "      <td>77.0</td>\n",
       "      <td>116.0</td>\n",
       "      <td>93.0</td>\n",
       "    </tr>\n",
       "    <tr>\n",
       "      <th>2015-11-23</th>\n",
       "      <td>1</td>\n",
       "      <td>61916134</td>\n",
       "      <td>Gasoline</td>\n",
       "      <td>2015-11-23</td>\n",
       "      <td>Mid Grade Unleaded</td>\n",
       "      <td>Marathon Petroleum Lp</td>\n",
       "      <td>Circle K #2723609</td>\n",
       "      <td>198 Haywood Ln \\r\\nnashville, Tn 37211</td>\n",
       "      <td>Vapor Pressure</td>\n",
       "      <td>kPa</td>\n",
       "      <td>...</td>\n",
       "      <td>C-3/D-4</td>\n",
       "      <td>C-3/D-4</td>\n",
       "      <td>42.0</td>\n",
       "      <td>77.0</td>\n",
       "      <td>116.0</td>\n",
       "      <td>93.0</td>\n",
       "      <td>42.0</td>\n",
       "      <td>77.0</td>\n",
       "      <td>116.0</td>\n",
       "      <td>93.0</td>\n",
       "    </tr>\n",
       "    <tr>\n",
       "      <th>2015-11-23</th>\n",
       "      <td>2</td>\n",
       "      <td>61916134</td>\n",
       "      <td>Gasoline</td>\n",
       "      <td>2015-11-23</td>\n",
       "      <td>Mid Grade Unleaded</td>\n",
       "      <td>Marathon Petroleum Lp</td>\n",
       "      <td>Circle K #2723609</td>\n",
       "      <td>198 Haywood Ln \\r\\nnashville, Tn 37211</td>\n",
       "      <td>Vapor-Liquid Ratio</td>\n",
       "      <td>Deg. C</td>\n",
       "      <td>...</td>\n",
       "      <td>C-3/D-4</td>\n",
       "      <td>C-3/D-4</td>\n",
       "      <td>42.0</td>\n",
       "      <td>77.0</td>\n",
       "      <td>116.0</td>\n",
       "      <td>93.0</td>\n",
       "      <td>42.0</td>\n",
       "      <td>77.0</td>\n",
       "      <td>116.0</td>\n",
       "      <td>93.0</td>\n",
       "    </tr>\n",
       "    <tr>\n",
       "      <th>2015-11-24</th>\n",
       "      <td>3</td>\n",
       "      <td>61916135</td>\n",
       "      <td>Gasoline</td>\n",
       "      <td>2015-11-24</td>\n",
       "      <td>Regular Unleaded</td>\n",
       "      <td>NaN</td>\n",
       "      <td>Tiger Market #214</td>\n",
       "      <td>2001 8th Ave S \\r\\nnashville, Tn 37204</td>\n",
       "      <td>Distillation 50%</td>\n",
       "      <td>Deg. C</td>\n",
       "      <td>...</td>\n",
       "      <td>C-3/D-4</td>\n",
       "      <td>C-3/D-4</td>\n",
       "      <td>42.0</td>\n",
       "      <td>77.0</td>\n",
       "      <td>116.0</td>\n",
       "      <td>93.0</td>\n",
       "      <td>42.0</td>\n",
       "      <td>77.0</td>\n",
       "      <td>116.0</td>\n",
       "      <td>93.0</td>\n",
       "    </tr>\n",
       "    <tr>\n",
       "      <th>2015-11-24</th>\n",
       "      <td>4</td>\n",
       "      <td>61916135</td>\n",
       "      <td>Gasoline</td>\n",
       "      <td>2015-11-24</td>\n",
       "      <td>Regular Unleaded</td>\n",
       "      <td>NaN</td>\n",
       "      <td>Tiger Market #214</td>\n",
       "      <td>2001 8th Ave S \\r\\nnashville, Tn 37204</td>\n",
       "      <td>Vapor Pressure</td>\n",
       "      <td>kPa</td>\n",
       "      <td>...</td>\n",
       "      <td>C-3/D-4</td>\n",
       "      <td>C-3/D-4</td>\n",
       "      <td>42.0</td>\n",
       "      <td>77.0</td>\n",
       "      <td>116.0</td>\n",
       "      <td>93.0</td>\n",
       "      <td>42.0</td>\n",
       "      <td>77.0</td>\n",
       "      <td>116.0</td>\n",
       "      <td>93.0</td>\n",
       "    </tr>\n",
       "  </tbody>\n",
       "</table>\n",
       "<p>5 rows × 28 columns</p>\n",
       "</div>"
      ],
      "text/plain": [
       "             Unnamed: 0    Sample      Prod DateSampled               Grade  \\\n",
       "DateSampled                                                                   \n",
       "2015-11-23            0  61916134  Gasoline  2015-11-23  Mid Grade Unleaded   \n",
       "2015-11-23            1  61916134  Gasoline  2015-11-23  Mid Grade Unleaded   \n",
       "2015-11-23            2  61916134  Gasoline  2015-11-23  Mid Grade Unleaded   \n",
       "2015-11-24            3  61916135  Gasoline  2015-11-24    Regular Unleaded   \n",
       "2015-11-24            4  61916135  Gasoline  2015-11-24    Regular Unleaded   \n",
       "\n",
       "                          Supplier       FacilityName  \\\n",
       "DateSampled                                             \n",
       "2015-11-23   Marathon Petroleum Lp  Circle K #2723609   \n",
       "2015-11-23   Marathon Petroleum Lp  Circle K #2723609   \n",
       "2015-11-23   Marathon Petroleum Lp  Circle K #2723609   \n",
       "2015-11-24                     NaN  Tiger Market #214   \n",
       "2015-11-24                     NaN  Tiger Market #214   \n",
       "\n",
       "                                        SiteAddress                Test  \\\n",
       "DateSampled                                                               \n",
       "2015-11-23   198 Haywood Ln \\r\\nnashville, Tn 37211    Distillation 50%   \n",
       "2015-11-23   198 Haywood Ln \\r\\nnashville, Tn 37211      Vapor Pressure   \n",
       "2015-11-23   198 Haywood Ln \\r\\nnashville, Tn 37211  Vapor-Liquid Ratio   \n",
       "2015-11-24   2001 8th Ave S \\r\\nnashville, Tn 37204    Distillation 50%   \n",
       "2015-11-24   2001 8th Ave S \\r\\nnashville, Tn 37204      Vapor Pressure   \n",
       "\n",
       "              Units  ... TN_retailers_seasons TN_distributor_seasons  \\\n",
       "DateSampled          ...                                               \n",
       "2015-11-23   Deg. C  ...              C-3/D-4                C-3/D-4   \n",
       "2015-11-23      kPa  ...              C-3/D-4                C-3/D-4   \n",
       "2015-11-23   Deg. C  ...              C-3/D-4                C-3/D-4   \n",
       "2015-11-24   Deg. C  ...              C-3/D-4                C-3/D-4   \n",
       "2015-11-24      kPa  ...              C-3/D-4                C-3/D-4   \n",
       "\n",
       "            vapor_liquid_minC_retail distillation_50_minC _retail  \\\n",
       "DateSampled                                                         \n",
       "2015-11-23                      42.0                         77.0   \n",
       "2015-11-23                      42.0                         77.0   \n",
       "2015-11-23                      42.0                         77.0   \n",
       "2015-11-24                      42.0                         77.0   \n",
       "2015-11-24                      42.0                         77.0   \n",
       "\n",
       "            distillation_50_maxC_retail  vapor_pressure_maxC_retail  \\\n",
       "DateSampled                                                           \n",
       "2015-11-23                        116.0                        93.0   \n",
       "2015-11-23                        116.0                        93.0   \n",
       "2015-11-23                        116.0                        93.0   \n",
       "2015-11-24                        116.0                        93.0   \n",
       "2015-11-24                        116.0                        93.0   \n",
       "\n",
       "             vapor_liquid_minC_dist distillation_50_minC_dist  \\\n",
       "DateSampled                                                     \n",
       "2015-11-23                     42.0                      77.0   \n",
       "2015-11-23                     42.0                      77.0   \n",
       "2015-11-23                     42.0                      77.0   \n",
       "2015-11-24                     42.0                      77.0   \n",
       "2015-11-24                     42.0                      77.0   \n",
       "\n",
       "            distillation_50_maxC_dist vapor_pressure_maxC_dist  \n",
       "DateSampled                                                     \n",
       "2015-11-23                      116.0                     93.0  \n",
       "2015-11-23                      116.0                     93.0  \n",
       "2015-11-23                      116.0                     93.0  \n",
       "2015-11-24                      116.0                     93.0  \n",
       "2015-11-24                      116.0                     93.0  \n",
       "\n",
       "[5 rows x 28 columns]"
      ]
     },
     "execution_count": 3,
     "metadata": {},
     "output_type": "execute_result"
    }
   ],
   "source": [
    "volatility_df['DateSampled'] = pd.to_datetime(volatility_df.DateSampled).apply(lambda x: x.date())\n",
    "volatility_df = volatility_df.set_index(volatility_df.DateSampled)\n",
    "print(type(volatility_df.index[0]))\n",
    "volatility_df.head()"
   ]
  },
  {
   "cell_type": "code",
   "execution_count": 4,
   "metadata": {},
   "outputs": [
    {
     "data": {
      "text/plain": [
       "Index(['Unnamed: 0', 'Sample', 'Prod', 'DateSampled', 'Grade', 'Supplier',\n",
       "       'FacilityName', 'SiteAddress', 'Test', 'Units', 'Method', 'Result',\n",
       "       'MinResult', 'MaxResult', 'Compliance', 'datesampled_month',\n",
       "       'datesampled_day', 'Date', 'TN_retailers_seasons',\n",
       "       'TN_distributor_seasons', 'vapor_liquid_minC_retail',\n",
       "       'distillation_50_minC _retail', 'distillation_50_maxC_retail',\n",
       "       'vapor_pressure_maxC_retail', 'vapor_liquid_minC_dist',\n",
       "       'distillation_50_minC_dist', 'distillation_50_maxC_dist',\n",
       "       'vapor_pressure_maxC_dist'],\n",
       "      dtype='object')"
      ]
     },
     "execution_count": 4,
     "metadata": {},
     "output_type": "execute_result"
    }
   ],
   "source": [
    "volatility_df.columns"
   ]
  },
  {
   "cell_type": "code",
   "execution_count": 17,
   "metadata": {},
   "outputs": [
    {
     "data": {
      "text/html": [
       "<div>\n",
       "<style scoped>\n",
       "    .dataframe tbody tr th:only-of-type {\n",
       "        vertical-align: middle;\n",
       "    }\n",
       "\n",
       "    .dataframe tbody tr th {\n",
       "        vertical-align: top;\n",
       "    }\n",
       "\n",
       "    .dataframe thead th {\n",
       "        text-align: right;\n",
       "    }\n",
       "</style>\n",
       "<table border=\"1\" class=\"dataframe\">\n",
       "  <thead>\n",
       "    <tr style=\"text-align: right;\">\n",
       "      <th></th>\n",
       "      <th>Test</th>\n",
       "      <th>Result</th>\n",
       "    </tr>\n",
       "    <tr>\n",
       "      <th>DateSampled</th>\n",
       "      <th></th>\n",
       "      <th></th>\n",
       "    </tr>\n",
       "  </thead>\n",
       "  <tbody>\n",
       "    <tr>\n",
       "      <th>2015-11-23</th>\n",
       "      <td>Distillation 50%</td>\n",
       "      <td>73.3</td>\n",
       "    </tr>\n",
       "    <tr>\n",
       "      <th>2015-11-23</th>\n",
       "      <td>Vapor Pressure</td>\n",
       "      <td>88.9</td>\n",
       "    </tr>\n",
       "    <tr>\n",
       "      <th>2015-11-23</th>\n",
       "      <td>Vapor-Liquid Ratio</td>\n",
       "      <td>44.6</td>\n",
       "    </tr>\n",
       "    <tr>\n",
       "      <th>2015-11-24</th>\n",
       "      <td>Distillation 50%</td>\n",
       "      <td>67.4</td>\n",
       "    </tr>\n",
       "    <tr>\n",
       "      <th>2015-11-24</th>\n",
       "      <td>Vapor Pressure</td>\n",
       "      <td>92.7</td>\n",
       "    </tr>\n",
       "  </tbody>\n",
       "</table>\n",
       "</div>"
      ],
      "text/plain": [
       "                           Test Result\n",
       "DateSampled                           \n",
       "2015-11-23     Distillation 50%   73.3\n",
       "2015-11-23       Vapor Pressure   88.9\n",
       "2015-11-23   Vapor-Liquid Ratio   44.6\n",
       "2015-11-24     Distillation 50%   67.4\n",
       "2015-11-24       Vapor Pressure   92.7"
      ]
     },
     "execution_count": 17,
     "metadata": {},
     "output_type": "execute_result"
    }
   ],
   "source": [
    "volatility_results_df = volatility_df[['Test','Result']]\n",
    "volatility_results_df.head()"
   ]
  },
  {
   "cell_type": "code",
   "execution_count": 33,
   "metadata": {},
   "outputs": [
    {
     "name": "stderr",
     "output_type": "stream",
     "text": [
      "/Users/Kate/anaconda3/lib/python3.7/site-packages/ipykernel_launcher.py:1: SettingWithCopyWarning: \n",
      "A value is trying to be set on a copy of a slice from a DataFrame.\n",
      "Try using .loc[row_indexer,col_indexer] = value instead\n",
      "\n",
      "See the caveats in the documentation: http://pandas.pydata.org/pandas-docs/stable/indexing.html#indexing-view-versus-copy\n",
      "  \"\"\"Entry point for launching an IPython kernel.\n"
     ]
    }
   ],
   "source": [
    "volatility_results_df['Result'] = volatility_results_df.Result.replace('  ', np.nan)"
   ]
  },
  {
   "cell_type": "code",
   "execution_count": 51,
   "metadata": {},
   "outputs": [
    {
     "name": "stderr",
     "output_type": "stream",
     "text": [
      "/Users/Kate/anaconda3/lib/python3.7/site-packages/ipykernel_launcher.py:1: SettingWithCopyWarning: \n",
      "A value is trying to be set on a copy of a slice from a DataFrame.\n",
      "Try using .loc[row_indexer,col_indexer] = value instead\n",
      "\n",
      "See the caveats in the documentation: http://pandas.pydata.org/pandas-docs/stable/indexing.html#indexing-view-versus-copy\n",
      "  \"\"\"Entry point for launching an IPython kernel.\n"
     ]
    }
   ],
   "source": [
    "volatility_results_df['temp'] = volatility_results_df.Result.astype('float')"
   ]
  },
  {
   "cell_type": "code",
   "execution_count": 56,
   "metadata": {
    "scrolled": true
   },
   "outputs": [
    {
     "name": "stdout",
     "output_type": "stream",
     "text": [
      "<class 'pandas.core.frame.DataFrame'>\n",
      "Index: 62256 entries, 2015-11-23 to 2018-06-20\n",
      "Data columns (total 2 columns):\n",
      "Test    62256 non-null object\n",
      "temp    62111 non-null float64\n",
      "dtypes: float64(1), object(1)\n",
      "memory usage: 2.7+ MB\n"
     ]
    },
    {
     "name": "stderr",
     "output_type": "stream",
     "text": [
      "/Users/Kate/anaconda3/lib/python3.7/site-packages/pandas/core/frame.py:3940: SettingWithCopyWarning: \n",
      "A value is trying to be set on a copy of a slice from a DataFrame\n",
      "\n",
      "See the caveats in the documentation: http://pandas.pydata.org/pandas-docs/stable/indexing.html#indexing-view-versus-copy\n",
      "  errors=errors)\n"
     ]
    }
   ],
   "source": [
    "volatility_results_df.drop('Result', axis=1, inplace=True)\n",
    "volatility_results_df.info()"
   ]
  },
  {
   "cell_type": "code",
   "execution_count": 59,
   "metadata": {},
   "outputs": [
    {
     "data": {
      "text/html": [
       "<div>\n",
       "<style scoped>\n",
       "    .dataframe tbody tr th:only-of-type {\n",
       "        vertical-align: middle;\n",
       "    }\n",
       "\n",
       "    .dataframe tbody tr th {\n",
       "        vertical-align: top;\n",
       "    }\n",
       "\n",
       "    .dataframe thead th {\n",
       "        text-align: right;\n",
       "    }\n",
       "</style>\n",
       "<table border=\"1\" class=\"dataframe\">\n",
       "  <thead>\n",
       "    <tr style=\"text-align: right;\">\n",
       "      <th></th>\n",
       "      <th>Test</th>\n",
       "      <th>temp</th>\n",
       "    </tr>\n",
       "    <tr>\n",
       "      <th>DateSampled</th>\n",
       "      <th></th>\n",
       "      <th></th>\n",
       "    </tr>\n",
       "  </thead>\n",
       "  <tbody>\n",
       "    <tr>\n",
       "      <th>2015-11-23</th>\n",
       "      <td>Distillation 50%</td>\n",
       "      <td>73.3</td>\n",
       "    </tr>\n",
       "    <tr>\n",
       "      <th>2015-11-23</th>\n",
       "      <td>Vapor Pressure</td>\n",
       "      <td>88.9</td>\n",
       "    </tr>\n",
       "    <tr>\n",
       "      <th>2015-11-23</th>\n",
       "      <td>Vapor-Liquid Ratio</td>\n",
       "      <td>44.6</td>\n",
       "    </tr>\n",
       "    <tr>\n",
       "      <th>2015-11-24</th>\n",
       "      <td>Distillation 50%</td>\n",
       "      <td>67.4</td>\n",
       "    </tr>\n",
       "    <tr>\n",
       "      <th>2015-11-24</th>\n",
       "      <td>Vapor Pressure</td>\n",
       "      <td>92.7</td>\n",
       "    </tr>\n",
       "  </tbody>\n",
       "</table>\n",
       "</div>"
      ],
      "text/plain": [
       "                           Test  temp\n",
       "DateSampled                          \n",
       "2015-11-23     Distillation 50%  73.3\n",
       "2015-11-23       Vapor Pressure  88.9\n",
       "2015-11-23   Vapor-Liquid Ratio  44.6\n",
       "2015-11-24     Distillation 50%  67.4\n",
       "2015-11-24       Vapor Pressure  92.7"
      ]
     },
     "execution_count": 59,
     "metadata": {},
     "output_type": "execute_result"
    }
   ],
   "source": [
    "volatility_results_floats_df = volatility_results_df.dropna()\n",
    "volatility_results_floats_df.head()"
   ]
  },
  {
   "cell_type": "code",
   "execution_count": 60,
   "metadata": {},
   "outputs": [
    {
     "name": "stderr",
     "output_type": "stream",
     "text": [
      "/Users/Kate/anaconda3/lib/python3.7/site-packages/pandas/core/frame.py:4025: SettingWithCopyWarning: \n",
      "A value is trying to be set on a copy of a slice from a DataFrame\n",
      "\n",
      "See the caveats in the documentation: http://pandas.pydata.org/pandas-docs/stable/indexing.html#indexing-view-versus-copy\n",
      "  return super(DataFrame, self).rename(**kwargs)\n"
     ]
    }
   ],
   "source": [
    "# Make data frames for each test to compare seasonality with temperature results of test\n",
    "distillation_50_df = volatility_results_floats_df[volatility_results_floats_df.Test == 'Distillation 50%']\n",
    "distillation_50_df.rename(columns={\"temp\": \"Result_deg_C\"}, inplace =True)\n",
    "Distillation_50 = distillation_50_df.drop(columns=['Test'])\n",
    "\n",
    "vapor_liquid_df = volatility_results_floats_df[volatility_results_floats_df.Test == 'Vapor-Liquid Ratio']\n",
    "vapor_liquid_df.rename(columns={\"temp\": \"Result_deg_C\"}, inplace =True)\n",
    "Vapor_Liquid = vapor_liquid_df.drop(columns=['Test'])\n",
    "\n",
    "vapor_pressure_df = volatility_results_floats_df[volatility_results_floats_df.Test == 'Vapor Pressure']\n",
    "vapor_pressure_df.rename(columns={\"temp\": \"Result_deg_C\"}, inplace =True)\n",
    "Vapor_Pressure = vapor_pressure_df.drop(columns=['Test'])"
   ]
  },
  {
   "cell_type": "code",
   "execution_count": 71,
   "metadata": {},
   "outputs": [
    {
     "data": {
      "text/html": [
       "<div>\n",
       "<style scoped>\n",
       "    .dataframe tbody tr th:only-of-type {\n",
       "        vertical-align: middle;\n",
       "    }\n",
       "\n",
       "    .dataframe tbody tr th {\n",
       "        vertical-align: top;\n",
       "    }\n",
       "\n",
       "    .dataframe thead th {\n",
       "        text-align: right;\n",
       "    }\n",
       "</style>\n",
       "<table border=\"1\" class=\"dataframe\">\n",
       "  <thead>\n",
       "    <tr style=\"text-align: right;\">\n",
       "      <th></th>\n",
       "      <th>Result_deg_C</th>\n",
       "    </tr>\n",
       "    <tr>\n",
       "      <th>DateSampled</th>\n",
       "      <th></th>\n",
       "    </tr>\n",
       "  </thead>\n",
       "  <tbody>\n",
       "    <tr>\n",
       "      <th>2015-11-23</th>\n",
       "      <td>73.3</td>\n",
       "    </tr>\n",
       "    <tr>\n",
       "      <th>2015-11-24</th>\n",
       "      <td>67.4</td>\n",
       "    </tr>\n",
       "    <tr>\n",
       "      <th>2015-11-24</th>\n",
       "      <td>69.2</td>\n",
       "    </tr>\n",
       "    <tr>\n",
       "      <th>2015-11-24</th>\n",
       "      <td>67.7</td>\n",
       "    </tr>\n",
       "    <tr>\n",
       "      <th>2015-12-02</th>\n",
       "      <td>90.5</td>\n",
       "    </tr>\n",
       "    <tr>\n",
       "      <th>2015-12-02</th>\n",
       "      <td>67.2</td>\n",
       "    </tr>\n",
       "    <tr>\n",
       "      <th>2015-12-02</th>\n",
       "      <td>68.8</td>\n",
       "    </tr>\n",
       "    <tr>\n",
       "      <th>2015-12-07</th>\n",
       "      <td>68.8</td>\n",
       "    </tr>\n",
       "    <tr>\n",
       "      <th>2015-12-07</th>\n",
       "      <td>72.7</td>\n",
       "    </tr>\n",
       "    <tr>\n",
       "      <th>2015-12-07</th>\n",
       "      <td>67.4</td>\n",
       "    </tr>\n",
       "    <tr>\n",
       "      <th>2015-12-14</th>\n",
       "      <td>67.3</td>\n",
       "    </tr>\n",
       "    <tr>\n",
       "      <th>2015-12-15</th>\n",
       "      <td>77.5</td>\n",
       "    </tr>\n",
       "    <tr>\n",
       "      <th>2015-12-15</th>\n",
       "      <td>67.3</td>\n",
       "    </tr>\n",
       "    <tr>\n",
       "      <th>2016-01-05</th>\n",
       "      <td>70.2</td>\n",
       "    </tr>\n",
       "    <tr>\n",
       "      <th>2016-03-07</th>\n",
       "      <td>71.7</td>\n",
       "    </tr>\n",
       "    <tr>\n",
       "      <th>2016-03-08</th>\n",
       "      <td>67.7</td>\n",
       "    </tr>\n",
       "    <tr>\n",
       "      <th>2016-03-08</th>\n",
       "      <td>82.9</td>\n",
       "    </tr>\n",
       "    <tr>\n",
       "      <th>2016-03-28</th>\n",
       "      <td>91.4</td>\n",
       "    </tr>\n",
       "    <tr>\n",
       "      <th>2015-07-31</th>\n",
       "      <td>77.7</td>\n",
       "    </tr>\n",
       "    <tr>\n",
       "      <th>2015-09-17</th>\n",
       "      <td>108.5</td>\n",
       "    </tr>\n",
       "  </tbody>\n",
       "</table>\n",
       "</div>"
      ],
      "text/plain": [
       "             Result_deg_C\n",
       "DateSampled              \n",
       "2015-11-23           73.3\n",
       "2015-11-24           67.4\n",
       "2015-11-24           69.2\n",
       "2015-11-24           67.7\n",
       "2015-12-02           90.5\n",
       "2015-12-02           67.2\n",
       "2015-12-02           68.8\n",
       "2015-12-07           68.8\n",
       "2015-12-07           72.7\n",
       "2015-12-07           67.4\n",
       "2015-12-14           67.3\n",
       "2015-12-15           77.5\n",
       "2015-12-15           67.3\n",
       "2016-01-05           70.2\n",
       "2016-03-07           71.7\n",
       "2016-03-08           67.7\n",
       "2016-03-08           82.9\n",
       "2016-03-28           91.4\n",
       "2015-07-31           77.7\n",
       "2015-09-17          108.5"
      ]
     },
     "execution_count": 71,
     "metadata": {},
     "output_type": "execute_result"
    }
   ],
   "source": [
    "Distillation_50.sort_index( axis = 1, inplace=True)\n",
    "Distillation_50.head(20)"
   ]
  },
  {
   "cell_type": "code",
   "execution_count": 72,
   "metadata": {},
   "outputs": [
    {
     "data": {
      "text/html": [
       "<div>\n",
       "<style scoped>\n",
       "    .dataframe tbody tr th:only-of-type {\n",
       "        vertical-align: middle;\n",
       "    }\n",
       "\n",
       "    .dataframe tbody tr th {\n",
       "        vertical-align: top;\n",
       "    }\n",
       "\n",
       "    .dataframe thead th {\n",
       "        text-align: right;\n",
       "    }\n",
       "</style>\n",
       "<table border=\"1\" class=\"dataframe\">\n",
       "  <thead>\n",
       "    <tr style=\"text-align: right;\">\n",
       "      <th></th>\n",
       "      <th>Result_deg_C</th>\n",
       "    </tr>\n",
       "    <tr>\n",
       "      <th>DateSampled</th>\n",
       "      <th></th>\n",
       "    </tr>\n",
       "  </thead>\n",
       "  <tbody>\n",
       "    <tr>\n",
       "      <th>2015-11-23</th>\n",
       "      <td>44.6</td>\n",
       "    </tr>\n",
       "    <tr>\n",
       "      <th>2015-11-24</th>\n",
       "      <td>43.0</td>\n",
       "    </tr>\n",
       "    <tr>\n",
       "      <th>2015-11-24</th>\n",
       "      <td>42.2</td>\n",
       "    </tr>\n",
       "    <tr>\n",
       "      <th>2015-11-24</th>\n",
       "      <td>51.1</td>\n",
       "    </tr>\n",
       "    <tr>\n",
       "      <th>2015-12-02</th>\n",
       "      <td>43.5</td>\n",
       "    </tr>\n",
       "  </tbody>\n",
       "</table>\n",
       "</div>"
      ],
      "text/plain": [
       "             Result_deg_C\n",
       "DateSampled              \n",
       "2015-11-23           44.6\n",
       "2015-11-24           43.0\n",
       "2015-11-24           42.2\n",
       "2015-11-24           51.1\n",
       "2015-12-02           43.5"
      ]
     },
     "execution_count": 72,
     "metadata": {},
     "output_type": "execute_result"
    }
   ],
   "source": [
    "Vapor_Liquid.sort_index( axis = 1, inplace=True)\n",
    "Vapor_Liquid.head()"
   ]
  },
  {
   "cell_type": "code",
   "execution_count": 62,
   "metadata": {},
   "outputs": [
    {
     "data": {
      "text/html": [
       "<div>\n",
       "<style scoped>\n",
       "    .dataframe tbody tr th:only-of-type {\n",
       "        vertical-align: middle;\n",
       "    }\n",
       "\n",
       "    .dataframe tbody tr th {\n",
       "        vertical-align: top;\n",
       "    }\n",
       "\n",
       "    .dataframe thead th {\n",
       "        text-align: right;\n",
       "    }\n",
       "</style>\n",
       "<table border=\"1\" class=\"dataframe\">\n",
       "  <thead>\n",
       "    <tr style=\"text-align: right;\">\n",
       "      <th></th>\n",
       "      <th>Result_deg_C</th>\n",
       "    </tr>\n",
       "    <tr>\n",
       "      <th>DateSampled</th>\n",
       "      <th></th>\n",
       "    </tr>\n",
       "  </thead>\n",
       "  <tbody>\n",
       "    <tr>\n",
       "      <th>2015-11-23</th>\n",
       "      <td>88.9</td>\n",
       "    </tr>\n",
       "    <tr>\n",
       "      <th>2015-11-24</th>\n",
       "      <td>92.7</td>\n",
       "    </tr>\n",
       "    <tr>\n",
       "      <th>2015-11-24</th>\n",
       "      <td>94.3</td>\n",
       "    </tr>\n",
       "    <tr>\n",
       "      <th>2015-11-24</th>\n",
       "      <td>91.4</td>\n",
       "    </tr>\n",
       "    <tr>\n",
       "      <th>2015-12-02</th>\n",
       "      <td>93.0</td>\n",
       "    </tr>\n",
       "  </tbody>\n",
       "</table>\n",
       "</div>"
      ],
      "text/plain": [
       "             Result_deg_C\n",
       "DateSampled              \n",
       "2015-11-23           88.9\n",
       "2015-11-24           92.7\n",
       "2015-11-24           94.3\n",
       "2015-11-24           91.4\n",
       "2015-12-02           93.0"
      ]
     },
     "execution_count": 62,
     "metadata": {},
     "output_type": "execute_result"
    }
   ],
   "source": [
    "Vapor_Pressure.sort_index( axis = 1, inplace=True)\n",
    "Vapor_Pressure.head()"
   ]
  },
  {
   "cell_type": "markdown",
   "metadata": {},
   "source": [
    "## do the stationary time check"
   ]
  },
  {
   "cell_type": "code",
   "execution_count": 85,
   "metadata": {},
   "outputs": [],
   "source": [
    "# Import the check_stationarity function from previous lab\n",
    "def stationarity_check(TS, title):\n",
    "    \n",
    "    # Import adfuller\n",
    "    from statsmodels.tsa.stattools import adfuller\n",
    "    \n",
    "    # Calculate rolling statistics\n",
    "    rolmean = TS.rolling(window = 8, center = False).mean()\n",
    "    rolstd = TS.rolling(window = 8, center = False).std()\n",
    "    \n",
    "    # Perform the Dickey Fuller Test\n",
    "    dftest = adfuller(TS['Result_deg_C']) # change the passengers column as required \n",
    "    \n",
    "    #Plot rolling statistics:\n",
    "    fig = plt.figure(figsize=(12,6))\n",
    "    orig = plt.plot(TS, color='blue',label='Original')\n",
    "    mean = plt.plot(rolmean, color='red', label='Rolling Mean')\n",
    "    std = plt.plot(rolstd, color='black', label = 'Rolling Std')\n",
    "    plt.legend(loc='best')\n",
    "    plt.title(title)\n",
    "    plt.savefig(f'{title}.png')\n",
    "    plt.show(block=False)\n",
    "    \n",
    "    \n",
    "    # Print Dickey-Fuller test results\n",
    "    print ('Results of Dickey-Fuller Test:')\n",
    "\n",
    "    dfoutput = pd.Series(dftest[0:4], index=['Test Statistic','p-value','#Lags Used','Number of Observations Used'])\n",
    "    for key,value in dftest[4].items():\n",
    "        dfoutput['Critical Value (%s)'%key] = value\n",
    "    print (dfoutput)\n",
    "    \n",
    "    return None\n"
   ]
  },
  {
   "cell_type": "code",
   "execution_count": 86,
   "metadata": {},
   "outputs": [
    {
     "data": {
      "image/png": "[encoded data removed]",
      "text/plain": [
       "<Figure size 864x432 with 1 Axes>"
      ]
     },
     "metadata": {
      "needs_background": "light"
     },
     "output_type": "display_data"
    },
    {
     "name": "stdout",
     "output_type": "stream",
     "text": [
      "Results of Dickey-Fuller Test:\n",
      "Test Statistic                   -2.921716\n",
      "p-value                           0.042880\n",
      "#Lags Used                       14.000000\n",
      "Number of Observations Used    1181.000000\n",
      "Critical Value (1%)              -3.435899\n",
      "Critical Value (5%)              -2.863990\n",
      "Critical Value (10%)             -2.568075\n",
      "dtype: float64\n"
     ]
    },
    {
     "data": {
      "text/plain": [
       "<Figure size 432x288 with 0 Axes>"
      ]
     },
     "metadata": {},
     "output_type": "display_data"
    }
   ],
   "source": [
    "stationarity_check(Distillation_50.groupby('DateSampled').mean(), 'Distillation 50 % average')"
   ]
  },
  {
   "cell_type": "code",
   "execution_count": 87,
   "metadata": {},
   "outputs": [
    {
     "data": {
      "image/png": "[encoded data removed]",
      "text/plain": [
       "<Figure size 864x432 with 1 Axes>"
      ]
     },
     "metadata": {
      "needs_background": "light"
     },
     "output_type": "display_data"
    },
    {
     "name": "stdout",
     "output_type": "stream",
     "text": [
      "Results of Dickey-Fuller Test:\n",
      "Test Statistic                -5.860185e+00\n",
      "p-value                        3.424913e-07\n",
      "#Lags Used                     1.100000e+01\n",
      "Number of Observations Used    1.184000e+03\n",
      "Critical Value (1%)           -3.435885e+00\n",
      "Critical Value (5%)           -2.863984e+00\n",
      "Critical Value (10%)          -2.568071e+00\n",
      "dtype: float64\n"
     ]
    },
    {
     "data": {
      "text/plain": [
       "<Figure size 432x288 with 0 Axes>"
      ]
     },
     "metadata": {},
     "output_type": "display_data"
    }
   ],
   "source": [
    "stationarity_check(Distillation_50.groupby('DateSampled').min(), 'Distillation 50 % Minimum')"
   ]
  },
  {
   "cell_type": "code",
   "execution_count": 88,
   "metadata": {},
   "outputs": [
    {
     "data": {
      "image/png": "[encoded data removed]",
      "text/plain": [
       "<Figure size 864x432 with 1 Axes>"
      ]
     },
     "metadata": {
      "needs_background": "light"
     },
     "output_type": "display_data"
    },
    {
     "name": "stdout",
     "output_type": "stream",
     "text": [
      "Results of Dickey-Fuller Test:\n",
      "Test Statistic                   -5.514591\n",
      "p-value                           0.000002\n",
      "#Lags Used                       12.000000\n",
      "Number of Observations Used    1183.000000\n",
      "Critical Value (1%)              -3.435890\n",
      "Critical Value (5%)              -2.863986\n",
      "Critical Value (10%)             -2.568072\n",
      "dtype: float64\n"
     ]
    },
    {
     "data": {
      "text/plain": [
       "<Figure size 432x288 with 0 Axes>"
      ]
     },
     "metadata": {},
     "output_type": "display_data"
    }
   ],
   "source": [
    "stationarity_check(Distillation_50.groupby('DateSampled').max(), 'Distillation 50 % Max')"
   ]
  },
  {
   "cell_type": "code",
   "execution_count": 64,
   "metadata": {},
   "outputs": [
    {
     "data": {
      "image/png": "[encoded data removed]",
      "text/plain": [
       "<Figure size 432x288 with 1 Axes>"
      ]
     },
     "metadata": {
      "needs_background": "light"
     },
     "output_type": "display_data"
    }
   ],
   "source": [
    "ax = Distillation_50.plot.kde()\n",
    "plt.show()"
   ]
  },
  {
   "cell_type": "code",
   "execution_count": 81,
   "metadata": {},
   "outputs": [
    {
     "ename": "AttributeError",
     "evalue": "'Index' object has no attribute 'inferred_freq'",
     "output_type": "error",
     "traceback": [
      "\u001b[0;31m---------------------------------------------------------------------------\u001b[0m",
      "\u001b[0;31mAttributeError\u001b[0m                            Traceback (most recent call last)",
      "\u001b[0;32m<ipython-input-81-572b45787470>\u001b[0m in \u001b[0;36m<module>\u001b[0;34m\u001b[0m\n\u001b[1;32m      1\u001b[0m \u001b[0;31m# import seasonal_decompose\u001b[0m\u001b[0;34m\u001b[0m\u001b[0;34m\u001b[0m\u001b[0;34m\u001b[0m\u001b[0m\n\u001b[1;32m      2\u001b[0m \u001b[0;32mfrom\u001b[0m \u001b[0mstatsmodels\u001b[0m\u001b[0;34m.\u001b[0m\u001b[0mtsa\u001b[0m\u001b[0;34m.\u001b[0m\u001b[0mseasonal\u001b[0m \u001b[0;32mimport\u001b[0m \u001b[0mseasonal_decompose\u001b[0m\u001b[0;34m\u001b[0m\u001b[0;34m\u001b[0m\u001b[0m\n\u001b[0;32m----> 3\u001b[0;31m \u001b[0mdecomposition\u001b[0m \u001b[0;34m=\u001b[0m \u001b[0mseasonal_decompose\u001b[0m\u001b[0;34m(\u001b[0m\u001b[0mDistillation_50\u001b[0m\u001b[0;34m.\u001b[0m\u001b[0mgroupby\u001b[0m\u001b[0;34m(\u001b[0m\u001b[0;34m'DateSampled'\u001b[0m\u001b[0;34m)\u001b[0m\u001b[0;34m.\u001b[0m\u001b[0mmax\u001b[0m\u001b[0;34m(\u001b[0m\u001b[0;34m)\u001b[0m\u001b[0;34m)\u001b[0m\u001b[0;34m\u001b[0m\u001b[0;34m\u001b[0m\u001b[0m\n\u001b[0m\u001b[1;32m      4\u001b[0m \u001b[0;34m\u001b[0m\u001b[0m\n\u001b[1;32m      5\u001b[0m \u001b[0;31m# Gather the trend, seasonality and noise of decomposed object\u001b[0m\u001b[0;34m\u001b[0m\u001b[0;34m\u001b[0m\u001b[0;34m\u001b[0m\u001b[0m\n",
      "\u001b[0;32m~/anaconda3/lib/python3.7/site-packages/statsmodels/tsa/seasonal.py\u001b[0m in \u001b[0;36mseasonal_decompose\u001b[0;34m(x, model, filt, freq, two_sided, extrapolate_trend)\u001b[0m\n\u001b[1;32m    106\u001b[0m     \"\"\"\n\u001b[1;32m    107\u001b[0m     \u001b[0;32mif\u001b[0m \u001b[0mfreq\u001b[0m \u001b[0;32mis\u001b[0m \u001b[0;32mNone\u001b[0m\u001b[0;34m:\u001b[0m\u001b[0;34m\u001b[0m\u001b[0;34m\u001b[0m\u001b[0m\n\u001b[0;32m--> 108\u001b[0;31m         \u001b[0m_pandas_wrapper\u001b[0m\u001b[0;34m,\u001b[0m \u001b[0mpfreq\u001b[0m \u001b[0;34m=\u001b[0m \u001b[0m_maybe_get_pandas_wrapper_freq\u001b[0m\u001b[0;34m(\u001b[0m\u001b[0mx\u001b[0m\u001b[0;34m)\u001b[0m\u001b[0;34m\u001b[0m\u001b[0;34m\u001b[0m\u001b[0m\n\u001b[0m\u001b[1;32m    109\u001b[0m     \u001b[0;32melse\u001b[0m\u001b[0;34m:\u001b[0m\u001b[0;34m\u001b[0m\u001b[0;34m\u001b[0m\u001b[0m\n\u001b[1;32m    110\u001b[0m         \u001b[0m_pandas_wrapper\u001b[0m \u001b[0;34m=\u001b[0m \u001b[0m_maybe_get_pandas_wrapper\u001b[0m\u001b[0;34m(\u001b[0m\u001b[0mx\u001b[0m\u001b[0;34m)\u001b[0m\u001b[0;34m\u001b[0m\u001b[0;34m\u001b[0m\u001b[0m\n",
      "\u001b[0;32m~/anaconda3/lib/python3.7/site-packages/statsmodels/tsa/filters/_utils.py\u001b[0m in \u001b[0;36m_maybe_get_pandas_wrapper_freq\u001b[0;34m(X, trim)\u001b[0m\n\u001b[1;32m     43\u001b[0m         \u001b[0mindex\u001b[0m \u001b[0;34m=\u001b[0m \u001b[0mX\u001b[0m\u001b[0;34m.\u001b[0m\u001b[0mindex\u001b[0m\u001b[0;34m\u001b[0m\u001b[0;34m\u001b[0m\u001b[0m\n\u001b[1;32m     44\u001b[0m         \u001b[0mfunc\u001b[0m \u001b[0;34m=\u001b[0m \u001b[0m_get_pandas_wrapper\u001b[0m\u001b[0;34m(\u001b[0m\u001b[0mX\u001b[0m\u001b[0;34m,\u001b[0m \u001b[0mtrim\u001b[0m\u001b[0;34m)\u001b[0m\u001b[0;34m\u001b[0m\u001b[0;34m\u001b[0m\u001b[0m\n\u001b[0;32m---> 45\u001b[0;31m         \u001b[0mfreq\u001b[0m \u001b[0;34m=\u001b[0m \u001b[0mindex\u001b[0m\u001b[0;34m.\u001b[0m\u001b[0minferred_freq\u001b[0m\u001b[0;34m\u001b[0m\u001b[0;34m\u001b[0m\u001b[0m\n\u001b[0m\u001b[1;32m     46\u001b[0m         \u001b[0;32mreturn\u001b[0m \u001b[0mfunc\u001b[0m\u001b[0;34m,\u001b[0m \u001b[0mfreq\u001b[0m\u001b[0;34m\u001b[0m\u001b[0;34m\u001b[0m\u001b[0m\n\u001b[1;32m     47\u001b[0m     \u001b[0;32melse\u001b[0m\u001b[0;34m:\u001b[0m\u001b[0;34m\u001b[0m\u001b[0;34m\u001b[0m\u001b[0m\n",
      "\u001b[0;31mAttributeError\u001b[0m: 'Index' object has no attribute 'inferred_freq'"
     ]
    }
   ],
   "source": [
    "# import seasonal_decompose\n",
    "from statsmodels.tsa.seasonal import seasonal_decompose\n",
    "decomposition = seasonal_decompose(Distillation_50.groupby('DateSampled').max())\n",
    "\n",
    "# Gather the trend, seasonality and noise of decomposed object\n",
    "trend = decomposition.trend\n",
    "seasonal = decomposition.seasonal\n",
    "residual = decomposition.resid\n",
    "\n",
    "# Plot gathered statistics\n",
    "plt.figure(figsize=(12,8))\n",
    "plt.subplot(411)\n",
    "plt.plot(np.log(ts), label='Original', color=\"blue\")\n",
    "plt.legend(loc='best')\n",
    "plt.subplot(412)\n",
    "plt.plot(trend, label='Trend', color=\"blue\")\n",
    "plt.legend(loc='best')\n",
    "plt.subplot(413)\n",
    "plt.plot(seasonal,label='Seasonality', color=\"blue\")\n",
    "plt.legend(loc='best')\n",
    "plt.subplot(414)\n",
    "plt.plot(residual, label='Residuals', color=\"blue\")\n",
    "plt.legend(loc='best')\n",
    "plt.tight_layout()"
   ]
  },
  {
   "cell_type": "code",
   "execution_count": null,
   "metadata": {},
   "outputs": [],
   "source": []
  }
 ],
 "metadata": {
  "kernelspec": {
   "display_name": "Python 3",
   "language": "python",
   "name": "python3"
  },
  "language_info": {
   "codemirror_mode": {
    "name": "ipython",
    "version": 3
   },
   "file_extension": ".py",
   "mimetype": "text/x-python",
   "name": "python",
   "nbconvert_exporter": "python",
   "pygments_lexer": "ipython3",
   "version": "3.7.3"
  }
 },
 "nbformat": 4,
 "nbformat_minor": 2
}
