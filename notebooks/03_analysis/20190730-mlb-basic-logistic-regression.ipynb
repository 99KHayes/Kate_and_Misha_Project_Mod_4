{
 "cells": [
  {
   "cell_type": "code",
   "execution_count": 1,
   "metadata": {},
   "outputs": [],
   "source": [
    "import matplotlib.pyplot as plt\n",
    "import pandas as pd\n",
    "import numpy as np\n",
    "import sys\n",
    "import os\n",
    "\n",
    "import sklearn.preprocessing as preprocessing\n",
    "from sklearn.linear_model import LogisticRegression\n",
    "from sklearn.model_selection import train_test_split\n",
    "import statsmodels.api as sm\n",
    "import statsmodels as sm\n",
    "from sklearn.preprocessing import StandardScaler\n",
    "from imblearn.over_sampling import SMOTE, ADASYN\n",
    "\n",
    "src_dir = os.path.join(os.getcwd(), '..', '..', 'src')\n",
    "sys.path.append(src_dir)\n",
    "\n",
    "# OPTIONAL: Load the \"autoreload\" extension so that code can change\n",
    "%load_ext autoreload\n",
    "\n",
    "# OPTIONAL: always reload modules so that as you change code in src, it gets loaded\n",
    "%autoreload 2"
   ]
  },
  {
   "cell_type": "code",
   "execution_count": 2,
   "metadata": {},
   "outputs": [],
   "source": [
    "gasoline_proc = pd.read_csv('../../data/03_processed/gasoline_processed.csv')\n",
    "astm = pd.read_csv('../../data/01_raw/ASTM_fuel.csv')\n",
    "astm.columns = ['Date', 'TN_retailers_seasons', 'TN_distributor_seasons',\n",
    "       'vapor_liquid_minC_retail', 'distillation_50_minC _retail',\n",
    "       'distillation_50_maxC_retail', 'vapor_pressure_maxC_retail',\n",
    "       'vapor_liquid_minC_dist', 'distillation_50_minC_dist',\n",
    "       'distillation_50_maxC_dist', 'vapor_pressure_maxC_dist']"
   ]
  },
  {
   "cell_type": "code",
   "execution_count": 3,
   "metadata": {},
   "outputs": [],
   "source": [
    "for col in astm.columns: \n",
    "    try:\n",
    "        astm[col] = astm[col].str.strip()\n",
    "    except AttributeError: \n",
    "        pass"
   ]
  },
  {
   "cell_type": "code",
   "execution_count": 4,
   "metadata": {},
   "outputs": [],
   "source": [
    "gasoline_proc['datesampled'] = pd.to_datetime(gasoline_proc['datesampled'])"
   ]
  },
  {
   "cell_type": "code",
   "execution_count": 5,
   "metadata": {},
   "outputs": [],
   "source": [
    "gasoline_proc.dropna(subset=['grade'], inplace=True)"
   ]
  },
  {
   "cell_type": "code",
   "execution_count": 6,
   "metadata": {},
   "outputs": [],
   "source": [
    "gasoline_proc['datesampled_month'] = gasoline_proc.datesampled.dt.month\n",
    "gasoline_proc['datesampled_day'] = gasoline_proc['datesampled'].dt.day\n",
    "gasoline_proc['datesampled_month_day'] = gasoline_proc['datesampled_month'].astype('str') + '/' + gasoline_proc['datesampled_day'].astype('str')"
   ]
  },
  {
   "cell_type": "code",
   "execution_count": 7,
   "metadata": {},
   "outputs": [],
   "source": [
    "gasoline_proc.rename(columns={'datesampled_month_day':'Date'}, inplace=True)"
   ]
  },
  {
   "cell_type": "code",
   "execution_count": 8,
   "metadata": {},
   "outputs": [],
   "source": [
    "gasoline_proc = gasoline_proc.merge(astm, \n",
    "               how='left', \n",
    "                on='Date'\n",
    "               )"
   ]
  },
  {
   "cell_type": "code",
   "execution_count": 9,
   "metadata": {},
   "outputs": [],
   "source": [
    "gasoline_proc.drop(columns=['zipcode'], inplace=True)"
   ]
  },
  {
   "cell_type": "code",
   "execution_count": 10,
   "metadata": {},
   "outputs": [],
   "source": [
    "gasoline_proc.dropna(inplace=True)"
   ]
  },
  {
   "cell_type": "code",
   "execution_count": 11,
   "metadata": {},
   "outputs": [],
   "source": [
    "gasoline_proc.reset_index(inplace=True, drop=True)"
   ]
  },
  {
   "cell_type": "markdown",
   "metadata": {},
   "source": [
    "### Models - Compliance Distilation 50% "
   ]
  },
  {
   "cell_type": "markdown",
   "metadata": {},
   "source": [
    "**Possible Predictor Variables**\n",
    "\n",
    "1. TN_retailers_seasons\n",
    "1. TN_distributor_seasons\n",
    "1. grade\n",
    "1. supplier\n",
    "\n",
    "**Possible Target Variable**\n",
    "1. compliance_dist_50\n",
    "1. compliance_vap_pressure\n",
    "1. compliance_vap_liq_pressure"
   ]
  },
  {
   "cell_type": "markdown",
   "metadata": {},
   "source": [
    "#### **Compliance vapor pressure ~ TN Retailers & Grade*"
   ]
  },
  {
   "cell_type": "code",
   "execution_count": 20,
   "metadata": {},
   "outputs": [],
   "source": [
    "# construct features \n",
    "x_feats = ['TN_distributor_seasons', 'grade']\n",
    "X = pd.get_dummies(gasoline_proc[x_feats], dtype=float)\n",
    "X = sm.tools.add_constant(X)\n",
    "# convert target using get_dummies\n",
    "y = pd.get_dummies(gasoline_proc[\"compliance_vap_liq_pressure\"], dtype=float)"
   ]
  },
  {
   "cell_type": "code",
   "execution_count": 21,
   "metadata": {},
   "outputs": [],
   "source": [
    "X_train, X_test, y_train, y_test = train_test_split(X, y.iloc[:,1], test_size=0.3, random_state=0)"
   ]
  },
  {
   "cell_type": "code",
   "execution_count": 22,
   "metadata": {
    "scrolled": true
   },
   "outputs": [
    {
     "name": "stdout",
     "output_type": "stream",
     "text": [
      "Number transactions X_train dataset:  (9081, 12)\n",
      "Number transactions y_train dataset:  (9081,)\n",
      "Number transactions X_test dataset:  (3893, 12)\n",
      "Number transactions y_test dataset:  (3893,)\n"
     ]
    }
   ],
   "source": [
    "print(\"Number transactions X_train dataset: \", X_train.shape)\n",
    "print(\"Number transactions y_train dataset: \", y_train.shape)\n",
    "print(\"Number transactions X_test dataset: \", X_test.shape)\n",
    "print(\"Number transactions y_test dataset: \", y_test.shape)"
   ]
  },
  {
   "cell_type": "code",
   "execution_count": 23,
   "metadata": {},
   "outputs": [
    {
     "name": "stdout",
     "output_type": "stream",
     "text": [
      "Before OverSampling, counts of label '1': 9055\n",
      "Before OverSampling, counts of label '0': 26 \n",
      "\n"
     ]
    }
   ],
   "source": [
    "print(\"Before OverSampling, counts of label '1': {}\".format(sum(y_train==1)))\n",
    "print(\"Before OverSampling, counts of label '0': {} \\n\".format(sum(y_train==0)))"
   ]
  },
  {
   "cell_type": "code",
   "execution_count": 24,
   "metadata": {},
   "outputs": [],
   "source": [
    "smote = SMOTE()\n",
    "\n",
    "# simple resampling from your previously split data\n",
    "X_train_resampled, y_train_resampled = smote.fit_sample(X_train, y_train.ravel())"
   ]
  },
  {
   "cell_type": "code",
   "execution_count": 25,
   "metadata": {},
   "outputs": [
    {
     "name": "stdout",
     "output_type": "stream",
     "text": [
      "After OverSampling, counts of label '1': 9055\n",
      "After OverSampling, counts of label '0': 9055 \n",
      "\n"
     ]
    }
   ],
   "source": [
    "print(\"After OverSampling, counts of label '1': {}\".format(sum(y_train_resampled==1)))\n",
    "print(\"After OverSampling, counts of label '0': {} \\n\".format(sum(y_train_resampled==0)))"
   ]
  },
  {
   "cell_type": "code",
   "execution_count": 26,
   "metadata": {},
   "outputs": [
    {
     "name": "stdout",
     "output_type": "stream",
     "text": [
      "Warning: Maximum number of iterations has been exceeded.\n",
      "         Current function value: 0.393109\n",
      "         Iterations: 35\n"
     ]
    },
    {
     "name": "stderr",
     "output_type": "stream",
     "text": [
      "/anaconda3/lib/python3.7/site-packages/statsmodels/base/model.py:508: ConvergenceWarning: Maximum Likelihood optimization failed to converge. Check mle_retvals\n",
      "  \"Check mle_retvals\", ConvergenceWarning)\n"
     ]
    }
   ],
   "source": [
    "# Your code here\n",
    "import statsmodels.api as sm\n",
    "logit_model = sm.Logit(y_train_resampled, X_train_resampled)\n",
    "result = logit_model.fit()"
   ]
  },
  {
   "cell_type": "code",
   "execution_count": 27,
   "metadata": {
    "scrolled": true
   },
   "outputs": [
    {
     "name": "stderr",
     "output_type": "stream",
     "text": [
      "/anaconda3/lib/python3.7/site-packages/statsmodels/base/model.py:1092: RuntimeWarning: invalid value encountered in sqrt\n",
      "  bse_ = np.sqrt(np.diag(self.cov_params()))\n",
      "/anaconda3/lib/python3.7/site-packages/scipy/stats/_distn_infrastructure.py:879: RuntimeWarning: invalid value encountered in greater\n",
      "  return (self.a < x) & (x < self.b)\n",
      "/anaconda3/lib/python3.7/site-packages/scipy/stats/_distn_infrastructure.py:879: RuntimeWarning: invalid value encountered in less\n",
      "  return (self.a < x) & (x < self.b)\n",
      "/anaconda3/lib/python3.7/site-packages/scipy/stats/_distn_infrastructure.py:1821: RuntimeWarning: invalid value encountered in less_equal\n",
      "  cond2 = cond0 & (x <= self.a)\n"
     ]
    },
    {
     "data": {
      "text/html": [
       "<table class=\"simpletable\">\n",
       "<caption>Logit Regression Results</caption>\n",
       "<tr>\n",
       "  <th>Dep. Variable:</th>         <td>y</td>        <th>  No. Observations:  </th>  <td> 18110</td> \n",
       "</tr>\n",
       "<tr>\n",
       "  <th>Model:</th>               <td>Logit</td>      <th>  Df Residuals:      </th>  <td> 18100</td> \n",
       "</tr>\n",
       "<tr>\n",
       "  <th>Method:</th>               <td>MLE</td>       <th>  Df Model:          </th>  <td>     9</td> \n",
       "</tr>\n",
       "<tr>\n",
       "  <th>Date:</th>          <td>Tue, 30 Jul 2019</td> <th>  Pseudo R-squ.:     </th>  <td>0.4329</td> \n",
       "</tr>\n",
       "<tr>\n",
       "  <th>Time:</th>              <td>15:21:16</td>     <th>  Log-Likelihood:    </th> <td> -7119.2</td>\n",
       "</tr>\n",
       "<tr>\n",
       "  <th>converged:</th>           <td>False</td>      <th>  LL-Null:           </th> <td> -12553.</td>\n",
       "</tr>\n",
       "<tr>\n",
       "  <th> </th>                      <td> </td>        <th>  LLR p-value:       </th>  <td> 0.000</td> \n",
       "</tr>\n",
       "</table>\n",
       "<table class=\"simpletable\">\n",
       "<tr>\n",
       "    <td></td>       <th>coef</th>     <th>std err</th>      <th>z</th>      <th>P>|z|</th>  <th>[0.025</th>    <th>0.975]</th>  \n",
       "</tr>\n",
       "<tr>\n",
       "  <th>const</th> <td>   19.2174</td> <td>      nan</td> <td>      nan</td> <td>   nan</td> <td>      nan</td> <td>      nan</td>\n",
       "</tr>\n",
       "<tr>\n",
       "  <th>x1</th>    <td>   10.4383</td> <td> 9.53e+05</td> <td>  1.1e-05</td> <td> 1.000</td> <td>-1.87e+06</td> <td> 1.87e+06</td>\n",
       "</tr>\n",
       "<tr>\n",
       "  <th>x2</th>    <td>    8.7835</td> <td> 9.29e+05</td> <td> 9.45e-06</td> <td> 1.000</td> <td>-1.82e+06</td> <td> 1.82e+06</td>\n",
       "</tr>\n",
       "<tr>\n",
       "  <th>x3</th>    <td>  -19.8320</td> <td> 9.24e+05</td> <td>-2.15e-05</td> <td> 1.000</td> <td>-1.81e+06</td> <td> 1.81e+06</td>\n",
       "</tr>\n",
       "<tr>\n",
       "  <th>x4</th>    <td>   13.9929</td> <td> 1.03e+06</td> <td> 1.36e-05</td> <td> 1.000</td> <td>-2.02e+06</td> <td> 2.02e+06</td>\n",
       "</tr>\n",
       "<tr>\n",
       "  <th>x5</th>    <td>  -20.3397</td> <td> 8.97e+05</td> <td>-2.27e-05</td> <td> 1.000</td> <td>-1.76e+06</td> <td> 1.76e+06</td>\n",
       "</tr>\n",
       "<tr>\n",
       "  <th>x6</th>    <td>   10.1273</td> <td> 9.27e+05</td> <td> 1.09e-05</td> <td> 1.000</td> <td>-1.82e+06</td> <td> 1.82e+06</td>\n",
       "</tr>\n",
       "<tr>\n",
       "  <th>x7</th>    <td>   16.0472</td> <td> 2.21e+06</td> <td> 7.27e-06</td> <td> 1.000</td> <td>-4.32e+06</td> <td> 4.32e+06</td>\n",
       "</tr>\n",
       "<tr>\n",
       "  <th>x8</th>    <td>    1.2476</td> <td> 1.07e+06</td> <td> 1.17e-06</td> <td> 1.000</td> <td>-2.09e+06</td> <td> 2.09e+06</td>\n",
       "</tr>\n",
       "<tr>\n",
       "  <th>x9</th>    <td>    0.6097</td> <td> 1.07e+06</td> <td> 5.72e-07</td> <td> 1.000</td> <td>-2.09e+06</td> <td> 2.09e+06</td>\n",
       "</tr>\n",
       "<tr>\n",
       "  <th>x10</th>   <td>   17.7755</td> <td> 1.07e+06</td> <td> 1.67e-05</td> <td> 1.000</td> <td>-2.09e+06</td> <td> 2.09e+06</td>\n",
       "</tr>\n",
       "<tr>\n",
       "  <th>x11</th>   <td>   -0.4153</td> <td> 1.07e+06</td> <td> -3.9e-07</td> <td> 1.000</td> <td>-2.09e+06</td> <td> 2.09e+06</td>\n",
       "</tr>\n",
       "</table><br/><br/>Possibly complete quasi-separation: A fraction 0.29 of observations can be<br/>perfectly predicted. This might indicate that there is complete<br/>quasi-separation. In this case some parameters will not be identified."
      ],
      "text/plain": [
       "<class 'statsmodels.iolib.summary.Summary'>\n",
       "\"\"\"\n",
       "                           Logit Regression Results                           \n",
       "==============================================================================\n",
       "Dep. Variable:                      y   No. Observations:                18110\n",
       "Model:                          Logit   Df Residuals:                    18100\n",
       "Method:                           MLE   Df Model:                            9\n",
       "Date:                Tue, 30 Jul 2019   Pseudo R-squ.:                  0.4329\n",
       "Time:                        15:21:16   Log-Likelihood:                -7119.2\n",
       "converged:                      False   LL-Null:                       -12553.\n",
       "                                        LLR p-value:                     0.000\n",
       "==============================================================================\n",
       "                 coef    std err          z      P>|z|      [0.025      0.975]\n",
       "------------------------------------------------------------------------------\n",
       "const         19.2174        nan        nan        nan         nan         nan\n",
       "x1            10.4383   9.53e+05    1.1e-05      1.000   -1.87e+06    1.87e+06\n",
       "x2             8.7835   9.29e+05   9.45e-06      1.000   -1.82e+06    1.82e+06\n",
       "x3           -19.8320   9.24e+05  -2.15e-05      1.000   -1.81e+06    1.81e+06\n",
       "x4            13.9929   1.03e+06   1.36e-05      1.000   -2.02e+06    2.02e+06\n",
       "x5           -20.3397   8.97e+05  -2.27e-05      1.000   -1.76e+06    1.76e+06\n",
       "x6            10.1273   9.27e+05   1.09e-05      1.000   -1.82e+06    1.82e+06\n",
       "x7            16.0472   2.21e+06   7.27e-06      1.000   -4.32e+06    4.32e+06\n",
       "x8             1.2476   1.07e+06   1.17e-06      1.000   -2.09e+06    2.09e+06\n",
       "x9             0.6097   1.07e+06   5.72e-07      1.000   -2.09e+06    2.09e+06\n",
       "x10           17.7755   1.07e+06   1.67e-05      1.000   -2.09e+06    2.09e+06\n",
       "x11           -0.4153   1.07e+06   -3.9e-07      1.000   -2.09e+06    2.09e+06\n",
       "==============================================================================\n",
       "\n",
       "Possibly complete quasi-separation: A fraction 0.29 of observations can be\n",
       "perfectly predicted. This might indicate that there is complete\n",
       "quasi-separation. In this case some parameters will not be identified.\n",
       "\"\"\""
      ]
     },
     "execution_count": 27,
     "metadata": {},
     "output_type": "execute_result"
    }
   ],
   "source": [
    "result.summary()"
   ]
  },
  {
   "cell_type": "code",
   "execution_count": null,
   "metadata": {},
   "outputs": [],
   "source": []
  },
  {
   "cell_type": "code",
   "execution_count": null,
   "metadata": {},
   "outputs": [],
   "source": []
  },
  {
   "cell_type": "code",
   "execution_count": null,
   "metadata": {},
   "outputs": [],
   "source": []
  },
  {
   "cell_type": "code",
   "execution_count": null,
   "metadata": {},
   "outputs": [],
   "source": []
  },
  {
   "cell_type": "code",
   "execution_count": null,
   "metadata": {},
   "outputs": [],
   "source": []
  },
  {
   "cell_type": "code",
   "execution_count": null,
   "metadata": {},
   "outputs": [],
   "source": []
  },
  {
   "cell_type": "markdown",
   "metadata": {},
   "source": [
    "#### **Supplier TN Distributor Seasons vs. compliance vap pressure**"
   ]
  },
  {
   "cell_type": "markdown",
   "metadata": {},
   "source": [
    "<font color='red'>WARNING: SINGULAR MATRIX</font>"
   ]
  },
  {
   "cell_type": "markdown",
   "metadata": {},
   "source": []
  },
  {
   "cell_type": "markdown",
   "metadata": {},
   "source": [
    "# construct features \n",
    "x_feats = ['TN_distributor_seasons', 'grade']\n",
    "X = pd.get_dummies(gasoline_proc[x_feats], dtype=float)\n",
    "# convert target using get_dummies\n",
    "y = pd.get_dummies(gasoline_proc[\"compliance_vap_pressure\"], dtype=float)"
   ]
  },
  {
   "cell_type": "markdown",
   "metadata": {},
   "source": [
    "```python\n",
    "# construct features \n",
    "x_feats = ['TN_distributor_seasons', 'supplier']\n",
    "X = pd.get_dummies(gasoline_proc[x_feats], dtype=float)\n",
    "# convert target using get_dummies\n",
    "y = pd.get_dummies(gasoline_proc[\"compliance_vap_pressure\"], dtype=float)\n",
    "```"
   ]
  },
  {
   "cell_type": "markdown",
   "metadata": {},
   "source": [
    "```python\n",
    "X = sm.add_constant(X)\n",
    "# fit model\n",
    "logit_model = sm.Logit(y.iloc[:,0], X)\n",
    "# get results of the fit\n",
    "result = logit_model.fit()\n",
    "```"
   ]
  },
  {
   "cell_type": "markdown",
   "metadata": {},
   "source": [
    "#### **Grade/ TN Retailer Seasons vs. compliance vap pressure**"
   ]
  },
  {
   "cell_type": "markdown",
   "metadata": {},
   "source": [
    "# construct features \n",
    "x_feats = ['TN_retailers_seasons', 'grade']\n",
    "X = pd.get_dummies(gasoline_proc[x_feats], dtype=float)\n",
    "# convert target using get_dummies\n",
    "y = pd.get_dummies(gasoline_proc[\"compliance_vap_pressure\"], dtype=float)"
   ]
  },
  {
   "cell_type": "markdown",
   "metadata": {},
   "source": [
    "X = sm.add_constant(X)\n",
    "# fit model\n",
    "logit_model = sm.Logit(y.iloc[:,0], X)\n",
    "# get results of the fit\n",
    "result = logit_model.fit()"
   ]
  },
  {
   "cell_type": "markdown",
   "metadata": {},
   "source": [
    "result.summary()"
   ]
  },
  {
   "cell_type": "markdown",
   "metadata": {},
   "source": [
    "#### **Grade TN Distributor Seasons vs. compliance vap-liq pressure**"
   ]
  },
  {
   "cell_type": "markdown",
   "metadata": {},
   "source": [
    "# construct features \n",
    "x_feats = ['TN_distributor_seasons', 'grade']\n",
    "X = pd.get_dummies(gasoline_proc[x_feats], dtype=float)\n",
    "# convert target using get_dummies\n",
    "y = pd.get_dummies(gasoline_proc[\"compliance_vap_liq_pressure\"], dtype=float)"
   ]
  },
  {
   "cell_type": "markdown",
   "metadata": {},
   "source": [
    "X = sm.add_constant(X)\n",
    "# fit model\n",
    "logit_model = sm.Logit(y.iloc[:,0], X)\n",
    "# get results of the fit\n",
    "result = logit_model.fit()"
   ]
  },
  {
   "cell_type": "markdown",
   "metadata": {},
   "source": [
    "result.summary()"
   ]
  },
  {
   "cell_type": "code",
   "execution_count": null,
   "metadata": {},
   "outputs": [],
   "source": []
  }
 ],
 "metadata": {
  "kernelspec": {
   "display_name": "Python 3",
   "language": "python",
   "name": "python3"
  },
  "language_info": {
   "codemirror_mode": {
    "name": "ipython",
    "version": 3
   },
   "file_extension": ".py",
   "mimetype": "text/x-python",
   "name": "python",
   "nbconvert_exporter": "python",
   "pygments_lexer": "ipython3",
   "version": "3.7.1"
  },
  "toc": {
   "base_numbering": 1,
   "nav_menu": {},
   "number_sections": true,
   "sideBar": true,
   "skip_h1_title": false,
   "title_cell": "Table of Contents",
   "title_sidebar": "Contents",
   "toc_cell": false,
   "toc_position": {},
   "toc_section_display": true,
   "toc_window_display": false
  }
 },
 "nbformat": 4,
 "nbformat_minor": 2
}
