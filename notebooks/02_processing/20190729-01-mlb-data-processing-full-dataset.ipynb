{
 "cells": [
  {
   "cell_type": "code",
   "execution_count": 7,
   "metadata": {},
   "outputs": [
    {
     "name": "stdout",
     "output_type": "stream",
     "text": [
      "The autoreload extension is already loaded. To reload it, use:\n",
      "  %reload_ext autoreload\n"
     ]
    }
   ],
   "source": [
    "import matplotlib.pyplot as plt\n",
    "import pandas as pd\n",
    "import numpy as np\n",
    "import sys\n",
    "import os\n",
    "\n",
    "src_dir = os.path.join(os.getcwd(), '..', '..', 'src')\n",
    "sys.path.append(src_dir)\n",
    "\n",
    "# OPTIONAL: Load the \"autoreload\" extension so that code can change\n",
    "%load_ext autoreload\n",
    "\n",
    "# OPTIONAL: always reload modules so that as you change code in src, it gets loaded\n",
    "%autoreload 2"
   ]
  },
  {
   "cell_type": "code",
   "execution_count": 8,
   "metadata": {},
   "outputs": [
    {
     "name": "stderr",
     "output_type": "stream",
     "text": [
      "/anaconda3/lib/python3.7/site-packages/IPython/core/interactiveshell.py:3020: DtypeWarning: Columns (0,4,7) have mixed types. Specify dtype option on import or set low_memory=False.\n",
      "  interactivity=interactivity, compiler=compiler, result=result)\n"
     ]
    }
   ],
   "source": [
    "routine_full = pd.read_csv('../../data/02_intermediate/routine_inter.csv')"
   ]
  },
  {
   "cell_type": "code",
   "execution_count": 9,
   "metadata": {},
   "outputs": [
    {
     "data": {
      "text/html": [
       "<div>\n",
       "<style scoped>\n",
       "    .dataframe tbody tr th:only-of-type {\n",
       "        vertical-align: middle;\n",
       "    }\n",
       "\n",
       "    .dataframe tbody tr th {\n",
       "        vertical-align: top;\n",
       "    }\n",
       "\n",
       "    .dataframe thead th {\n",
       "        text-align: right;\n",
       "    }\n",
       "</style>\n",
       "<table border=\"1\" class=\"dataframe\">\n",
       "  <thead>\n",
       "    <tr style=\"text-align: right;\">\n",
       "      <th></th>\n",
       "      <th>Sample</th>\n",
       "      <th>Prod</th>\n",
       "      <th>DateSampled</th>\n",
       "      <th>Grade</th>\n",
       "      <th>DateTested</th>\n",
       "      <th>HSID</th>\n",
       "      <th>Supplier</th>\n",
       "      <th>Gallons</th>\n",
       "      <th>FacilityName</th>\n",
       "      <th>SiteAddress</th>\n",
       "      <th>Test</th>\n",
       "      <th>Units</th>\n",
       "      <th>Method</th>\n",
       "      <th>Result</th>\n",
       "      <th>MinResult</th>\n",
       "      <th>MaxResult</th>\n",
       "      <th>Compliance</th>\n",
       "    </tr>\n",
       "  </thead>\n",
       "  <tbody>\n",
       "    <tr>\n",
       "      <th>0</th>\n",
       "      <td>61916134</td>\n",
       "      <td>Gasoline</td>\n",
       "      <td>11/23/2015 12:00:00 AM</td>\n",
       "      <td>Mid Grade Unleaded</td>\n",
       "      <td>NaN</td>\n",
       "      <td>15752.0</td>\n",
       "      <td>Marathon Petroleum Lp</td>\n",
       "      <td>2498.6</td>\n",
       "      <td>Circle K #2723609</td>\n",
       "      <td>198 Haywood Ln \\r\\nnashville, Tn 37211</td>\n",
       "      <td>Antiknock Index</td>\n",
       "      <td></td>\n",
       "      <td>R+M/2</td>\n",
       "      <td>89.8</td>\n",
       "      <td>87</td>\n",
       "      <td></td>\n",
       "      <td>Y</td>\n",
       "    </tr>\n",
       "    <tr>\n",
       "      <th>1</th>\n",
       "      <td>61916134</td>\n",
       "      <td>Gasoline</td>\n",
       "      <td>11/23/2015 12:00:00 AM</td>\n",
       "      <td>Mid Grade Unleaded</td>\n",
       "      <td>NaN</td>\n",
       "      <td>15752.0</td>\n",
       "      <td>Marathon Petroleum Lp</td>\n",
       "      <td>2498.6</td>\n",
       "      <td>Circle K #2723609</td>\n",
       "      <td>198 Haywood Ln \\r\\nnashville, Tn 37211</td>\n",
       "      <td>API Gravity</td>\n",
       "      <td></td>\n",
       "      <td>D4052</td>\n",
       "      <td>60.9</td>\n",
       "      <td></td>\n",
       "      <td></td>\n",
       "      <td></td>\n",
       "    </tr>\n",
       "  </tbody>\n",
       "</table>\n",
       "</div>"
      ],
      "text/plain": [
       "     Sample      Prod             DateSampled               Grade DateTested  \\\n",
       "0  61916134  Gasoline  11/23/2015 12:00:00 AM  Mid Grade Unleaded        NaN   \n",
       "1  61916134  Gasoline  11/23/2015 12:00:00 AM  Mid Grade Unleaded        NaN   \n",
       "\n",
       "      HSID               Supplier Gallons       FacilityName  \\\n",
       "0  15752.0  Marathon Petroleum Lp  2498.6  Circle K #2723609   \n",
       "1  15752.0  Marathon Petroleum Lp  2498.6  Circle K #2723609   \n",
       "\n",
       "                              SiteAddress             Test Units Method  \\\n",
       "0  198 Haywood Ln \\r\\nnashville, Tn 37211  Antiknock Index        R+M/2   \n",
       "1  198 Haywood Ln \\r\\nnashville, Tn 37211      API Gravity        D4052   \n",
       "\n",
       "  Result MinResult MaxResult Compliance  \n",
       "0   89.8        87                    Y  \n",
       "1   60.9                                 "
      ]
     },
     "execution_count": 9,
     "metadata": {},
     "output_type": "execute_result"
    }
   ],
   "source": [
    "routine_full.head(2)"
   ]
  },
  {
   "cell_type": "code",
   "execution_count": 4,
   "metadata": {},
   "outputs": [
    {
     "name": "stdout",
     "output_type": "stream",
     "text": [
      "<class 'pandas.core.frame.DataFrame'>\n",
      "RangeIndex: 1129219 entries, 0 to 1129218\n",
      "Data columns (total 17 columns):\n",
      "Sample          1129219 non-null object\n",
      "Prod            1129217 non-null object\n",
      "DateSampled     1129219 non-null object\n",
      "Grade           1129217 non-null object\n",
      "DateTested      27379 non-null object\n",
      "HSID            391122 non-null float64\n",
      "Supplier        949928 non-null object\n",
      "Gallons         1122723 non-null object\n",
      "FacilityName    1129180 non-null object\n",
      "SiteAddress     1121979 non-null object\n",
      "Test            1124054 non-null object\n",
      "Units           1123818 non-null object\n",
      "Method          1123818 non-null object\n",
      "Result          1068726 non-null object\n",
      "MinResult       994273 non-null object\n",
      "MaxResult       1008953 non-null object\n",
      "Compliance      1126891 non-null object\n",
      "dtypes: float64(1), object(16)\n",
      "memory usage: 146.5+ MB\n"
     ]
    }
   ],
   "source": [
    "routine_full.info()"
   ]
  },
  {
   "cell_type": "markdown",
   "metadata": {},
   "source": [
    "#### Sample Variable\n",
    "\n",
    "This is a unique identifier for each sample taken. As such, it should be a string (as it is according to info). "
   ]
  },
  {
   "cell_type": "markdown",
   "metadata": {},
   "source": [
    "#### Prod\n",
    "\n",
    "There are two missing product entries. Since this is 2 entries in over 1million, I will drop the two missing entries"
   ]
  },
  {
   "cell_type": "code",
   "execution_count": 5,
   "metadata": {},
   "outputs": [],
   "source": [
    "routine_full.dropna(subset=['Prod'], inplace=True)"
   ]
  },
  {
   "cell_type": "markdown",
   "metadata": {},
   "source": [
    "#### DateSampled\n",
    "\n",
    "This is entered as a float in the original dataset, but should be datetime"
   ]
  },
  {
   "cell_type": "code",
   "execution_count": 6,
   "metadata": {},
   "outputs": [],
   "source": [
    "routine_full['DateSampled'] = pd.to_datetime(routine_full['DateSampled'])"
   ]
  },
  {
   "cell_type": "markdown",
   "metadata": {},
   "source": [
    "The expert we intereviewed mentioned that the time portion of the datetime column is innacurate. Because it doesn't add information I will remove it from the dataframe. "
   ]
  },
  {
   "cell_type": "code",
   "execution_count": null,
   "metadata": {},
   "outputs": [],
   "source": [
    "routine_full['DateSampled'] = pd.DatetimeIndex(routine_full['DateSampled']).normalize()"
   ]
  },
  {
   "cell_type": "markdown",
   "metadata": {},
   "source": [
    "#### Grade\n",
    "\n",
    "This variable does not need to be updated right now. "
   ]
  },
  {
   "cell_type": "markdown",
   "metadata": {},
   "source": [
    "#### DateTested\n",
    "\n",
    "The expert we interviewed stated that teh datetested column is a relic from the old system. Most of the Datetested column is empty. Because of this we will drop it from our analysis"
   ]
  },
  {
   "cell_type": "code",
   "execution_count": null,
   "metadata": {},
   "outputs": [],
   "source": [
    "routine_full.drop(['DateTested'], axis=1, inplace=True)"
   ]
  },
  {
   "cell_type": "markdown",
   "metadata": {},
   "source": [
    "#### HSID\n",
    "\n",
    "Our expert suggested dropping this from the sample. He believes it is a relic from the old system"
   ]
  },
  {
   "cell_type": "code",
   "execution_count": null,
   "metadata": {},
   "outputs": [],
   "source": [
    "routine_full.drop(['HSID'], axis=1, inplace=True)"
   ]
  },
  {
   "cell_type": "markdown",
   "metadata": {},
   "source": [
    "#### <font color='red'>Supplier</font>"
   ]
  },
  {
   "cell_type": "markdown",
   "metadata": {},
   "source": [
    "~15% of the supplier column for the entire dataset is empty. "
   ]
  },
  {
   "cell_type": "code",
   "execution_count": null,
   "metadata": {},
   "outputs": [],
   "source": [
    "routine_full['Supplier'].isna().sum()/len(routine_full)"
   ]
  },
  {
   "cell_type": "markdown",
   "metadata": {},
   "source": [
    "Since we are interested in Gasoline and Diesel let's check out the supplier na count for these two products seperatly"
   ]
  },
  {
   "cell_type": "markdown",
   "metadata": {},
   "source": [
    "~15% of gasoline supplier column is N/A"
   ]
  },
  {
   "cell_type": "code",
   "execution_count": null,
   "metadata": {},
   "outputs": [],
   "source": [
    "gas = routine_full.loc[routine_full['Prod'] == 'Gasoline']\n",
    "gas['Supplier'].isna().sum()/len(gas)"
   ]
  },
  {
   "cell_type": "code",
   "execution_count": null,
   "metadata": {},
   "outputs": [],
   "source": [
    "gas[gas['Supplier'].isna()]"
   ]
  },
  {
   "cell_type": "markdown",
   "metadata": {},
   "source": [
    "~ around 6% of diesel supplier column is N/A"
   ]
  },
  {
   "cell_type": "code",
   "execution_count": null,
   "metadata": {},
   "outputs": [],
   "source": [
    "diesel = routine_full.loc[routine_full['Prod'] == 'Diesel']\n",
    "diesel['Supplier'].isna().sum()/len(gas)"
   ]
  },
  {
   "cell_type": "markdown",
   "metadata": {},
   "source": [
    "#### Gallons\n",
    "\n",
    "Known Problems\n",
    "1. Contains a number of Nan Values\n",
    "1. Many values contain inches (relic from old system). These need to be taken out\n",
    "\n",
    "Later we might come back and deal with this dataset if we can find a good use for it. But for now we will drop it. "
   ]
  },
  {
   "cell_type": "code",
   "execution_count": null,
   "metadata": {},
   "outputs": [],
   "source": [
    "# gallons_test = routine_full"
   ]
  },
  {
   "cell_type": "code",
   "execution_count": null,
   "metadata": {},
   "outputs": [],
   "source": [
    "# gallons_test.dropna(subset=['Gallons'], inplace=True)"
   ]
  },
  {
   "cell_type": "code",
   "execution_count": null,
   "metadata": {},
   "outputs": [],
   "source": [
    "# gallons_test.info()"
   ]
  },
  {
   "cell_type": "markdown",
   "metadata": {},
   "source": [
    "There are a number of inch measurements in the gallons column. Since these are not useful, we will identify the inch variables and conver them to nan."
   ]
  },
  {
   "cell_type": "code",
   "execution_count": null,
   "metadata": {},
   "outputs": [],
   "source": [
    "# gallons_full = routine_full.copy()"
   ]
  },
  {
   "cell_type": "code",
   "execution_count": null,
   "metadata": {},
   "outputs": [],
   "source": [
    "# gallons_full.loc[gallons_full['Gallons'].str.contains('\"')==True] = np.nan"
   ]
  },
  {
   "cell_type": "code",
   "execution_count": null,
   "metadata": {},
   "outputs": [],
   "source": [
    "# gallons_full.drop(['Sample', 'Prod', 'DateSampled', 'Grade', 'Supplier',\n",
    "#        'FacilityName', 'SiteAddress', 'Test', 'Units', 'Method', 'Result',\n",
    "#        'MinResult', 'MaxResult', 'Compliance'], axis=1, inplace=True)"
   ]
  },
  {
   "cell_type": "code",
   "execution_count": null,
   "metadata": {},
   "outputs": [],
   "source": [
    "# routine_full['Gallons'] = gallons_full"
   ]
  },
  {
   "cell_type": "code",
   "execution_count": null,
   "metadata": {},
   "outputs": [],
   "source": [
    "# routine_full['Gallons'] = routine_full['Gallons'].str.replace(',', '')"
   ]
  },
  {
   "cell_type": "code",
   "execution_count": null,
   "metadata": {},
   "outputs": [],
   "source": [
    "routine_full.drop(['Gallons'], axis=1, inplace=True)"
   ]
  },
  {
   "cell_type": "markdown",
   "metadata": {},
   "source": [
    "#### FacilityName"
   ]
  },
  {
   "cell_type": "code",
   "execution_count": null,
   "metadata": {},
   "outputs": [],
   "source": [
    "routine_full['FacilityName'].isna().sum()"
   ]
  },
  {
   "cell_type": "markdown",
   "metadata": {},
   "source": [
    "There are only 39 rows without a facility name. Since the number is low I will drop the rows without facility "
   ]
  },
  {
   "cell_type": "code",
   "execution_count": null,
   "metadata": {},
   "outputs": [],
   "source": [
    "routine_full.dropna(subset=['FacilityName'], inplace=True)"
   ]
  },
  {
   "cell_type": "markdown",
   "metadata": {},
   "source": [
    "#### SiteAddress"
   ]
  },
  {
   "cell_type": "code",
   "execution_count": null,
   "metadata": {},
   "outputs": [],
   "source": [
    "routine_full.loc[routine_full['FacilityName']==\"FILL 'N' SAVE #3\"]"
   ]
  },
  {
   "cell_type": "markdown",
   "metadata": {},
   "source": [
    "Ask John why there are missing addresses"
   ]
  },
  {
   "cell_type": "code",
   "execution_count": null,
   "metadata": {},
   "outputs": [],
   "source": [
    "routine_full[routine_full['SiteAddress'].isna()==True]"
   ]
  },
  {
   "cell_type": "markdown",
   "metadata": {},
   "source": [
    "#### Complaince"
   ]
  },
  {
   "cell_type": "markdown",
   "metadata": {},
   "source": [
    "Test contains 5 unique values, 'Y', ' ', 'N', nan, and 'Select'. From speaking with our expert we know that ' ', nan and select are all the same (none values. Not all tests are for compliance purposes). So we will make a seperate catagory called None. "
   ]
  },
  {
   "cell_type": "code",
   "execution_count": null,
   "metadata": {},
   "outputs": [],
   "source": [
    "routine_full['Test'].isna().sum()"
   ]
  },
  {
   "cell_type": "code",
   "execution_count": null,
   "metadata": {},
   "outputs": [],
   "source": [
    "routine_full.Compliance.unique()"
   ]
  },
  {
   "cell_type": "code",
   "execution_count": null,
   "metadata": {},
   "outputs": [],
   "source": [
    "routine_full['Compliance'] = routine_full['Compliance'].str.replace(' ', 'None')"
   ]
  },
  {
   "cell_type": "code",
   "execution_count": null,
   "metadata": {},
   "outputs": [],
   "source": [
    "routine_full.Compliance.unique()"
   ]
  },
  {
   "cell_type": "code",
   "execution_count": null,
   "metadata": {},
   "outputs": [],
   "source": [
    "routine_full['Compliance'] = routine_full['Compliance'].str.replace('Select', 'None')"
   ]
  },
  {
   "cell_type": "code",
   "execution_count": null,
   "metadata": {},
   "outputs": [],
   "source": [
    "routine_full.Compliance.unique()"
   ]
  },
  {
   "cell_type": "code",
   "execution_count": null,
   "metadata": {},
   "outputs": [],
   "source": [
    "routine_full['Compliance'] = routine_full['Compliance'].replace(np.nan, 'None')"
   ]
  },
  {
   "cell_type": "code",
   "execution_count": null,
   "metadata": {
    "scrolled": true
   },
   "outputs": [],
   "source": [
    "routine_full.Compliance.unique()"
   ]
  },
  {
   "cell_type": "markdown",
   "metadata": {},
   "source": [
    "Let's reduce the tests we are working with to Distillation 50%, Vapor Pressure and Vapor-Liquid Ratio"
   ]
  },
  {
   "cell_type": "code",
   "execution_count": null,
   "metadata": {},
   "outputs": [],
   "source": [
    "routine_test_key = routine_full.loc[(routine_full['Test']=='Distillation 50%') \n",
    "                 | (routine_full['Test']=='Vapor Pressure') \n",
    "                 | (routine_full['Test']=='Vapor-Liquid Ratio')]"
   ]
  },
  {
   "cell_type": "code",
   "execution_count": null,
   "metadata": {},
   "outputs": [],
   "source": [
    "# routine_test_key.to_csv('../../data/02_intermediate/routine_clean.csv', index=False)\n",
    "routine_full.to_csv('../../data/02_intermediate/routine_clean.csv', index=False)"
   ]
  },
  {
   "cell_type": "markdown",
   "metadata": {},
   "source": [
    "## Let's turn this into a function! "
   ]
  },
  {
   "cell_type": "code",
   "execution_count": 14,
   "metadata": {},
   "outputs": [],
   "source": [
    "def intermediate_cleaning_routine_dataset_logistic_regression(routine):\n",
    "    routine.dropna(subset=['Prod'], inplace=True)\n",
    "    routine['DateSampled'] = pd.to_datetime(routine_full['DateSampled'])\n",
    "    routine['DateSampled'] = pd.DatetimeIndex(routine_full['DateSampled']).normalize()\n",
    "    routine.drop(['DateTested'], axis=1, inplace=True)\n",
    "    routine.drop(['HSID'], axis=1, inplace=True)\n",
    "    routine.drop(['Gallons'], axis=1, inplace=True)\n",
    "    routine.dropna(subset=['FacilityName'], inplace=True)\n",
    "    routine['Compliance'] = routine['Compliance'].str.replace(' ', 'None')\n",
    "    routine['Compliance'] = routine['Compliance'].str.replace('Select', 'None')\n",
    "    routine['Compliance'] = routine['Compliance'].replace(np.nan, 'None')\n",
    "    \n",
    "    return routine"
   ]
  },
  {
   "cell_type": "code",
   "execution_count": null,
   "metadata": {},
   "outputs": [],
   "source": []
  }
 ],
 "metadata": {
  "kernelspec": {
   "display_name": "Python 3",
   "language": "python",
   "name": "python3"
  },
  "language_info": {
   "codemirror_mode": {
    "name": "ipython",
    "version": 3
   },
   "file_extension": ".py",
   "mimetype": "text/x-python",
   "name": "python",
   "nbconvert_exporter": "python",
   "pygments_lexer": "ipython3",
   "version": "3.7.1"
  },
  "toc": {
   "base_numbering": 1,
   "nav_menu": {},
   "number_sections": true,
   "sideBar": true,
   "skip_h1_title": false,
   "title_cell": "Table of Contents",
   "title_sidebar": "Contents",
   "toc_cell": false,
   "toc_position": {},
   "toc_section_display": true,
   "toc_window_display": false
  }
 },
 "nbformat": 4,
 "nbformat_minor": 2
}
