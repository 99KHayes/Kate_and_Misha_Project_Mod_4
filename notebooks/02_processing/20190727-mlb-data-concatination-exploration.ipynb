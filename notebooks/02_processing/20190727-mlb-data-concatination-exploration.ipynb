{
 "cells": [
  {
   "cell_type": "markdown",
   "metadata": {},
   "source": [
    "### Data Concatination & Data subset to gasoline & diesel "
   ]
  },
  {
   "cell_type": "markdown",
   "metadata": {},
   "source": [
    "##### In this notebook I combine all documents result & compliant documents into two datasets"
   ]
  },
  {
   "cell_type": "code",
   "execution_count": 5,
   "metadata": {},
   "outputs": [],
   "source": [
    "# Import Libraries\n",
    "import glob\n",
    "import pandas as pd\n",
    "import numpy as np"
   ]
  },
  {
   "cell_type": "markdown",
   "metadata": {},
   "source": [
    "##### Read in all data files (5 per data file type) and concatenated"
   ]
  },
  {
   "cell_type": "code",
   "execution_count": 6,
   "metadata": {
    "scrolled": false
   },
   "outputs": [],
   "source": [
    "complaint = pd.concat([pd.read_csv(f, skiprows = 2) for f in glob.glob('../../data/01_raw/fy_*_complaint.csv')])\n",
    "routine = pd.concat([pd.read_csv(f, skiprows = 2) for f in glob.glob('../../data/01_raw/fy_*_routine.csv')])"
   ]
  },
  {
   "cell_type": "code",
   "execution_count": 3,
   "metadata": {},
   "outputs": [],
   "source": [
    "# routine_gs = routine.loc[(routine['Prod'] == 'Gasoline') | (routine['Prod'] == 'Diesel')]"
   ]
  },
  {
   "cell_type": "code",
   "execution_count": 4,
   "metadata": {},
   "outputs": [],
   "source": [
    "# routine_gs.loc[(\n",
    "#     routine_gs['Compliance']=='Y') | (routine_gs['Compliance']=='N')].Test.value_counts().to_frame().reset_index()"
   ]
  },
  {
   "cell_type": "markdown",
   "metadata": {},
   "source": [
    "##### Save concatenated files to Intermediate folder"
   ]
  },
  {
   "cell_type": "code",
   "execution_count": 5,
   "metadata": {},
   "outputs": [],
   "source": [
    "# routine.to_csv('../../data/02_intermediate/routine_inter.csv', index=False)\n",
    "# complaint.to_csv('../../data/02_intermediate/complaint_inter.csv', index=False)"
   ]
  },
  {
   "cell_type": "code",
   "execution_count": 8,
   "metadata": {},
   "outputs": [
    {
     "data": {
      "text/plain": [
       "1129219"
      ]
     },
     "execution_count": 8,
     "metadata": {},
     "output_type": "execute_result"
    }
   ],
   "source": [
    "len(routine)"
   ]
  },
  {
   "cell_type": "code",
   "execution_count": 9,
   "metadata": {},
   "outputs": [
    {
     "data": {
      "text/plain": [
       "Sample                0\n",
       "Prod                  2\n",
       "DateSampled           0\n",
       "Grade                 2\n",
       "DateTested      1101840\n",
       "HSID             738097\n",
       "Supplier         179291\n",
       "Gallons            6496\n",
       "FacilityName         39\n",
       "SiteAddress        7240\n",
       "Test               5165\n",
       "Units              5401\n",
       "Method             5401\n",
       "Result            60493\n",
       "MinResult        134946\n",
       "MaxResult        120266\n",
       "Compliance         2328\n",
       "dtype: int64"
      ]
     },
     "execution_count": 9,
     "metadata": {},
     "output_type": "execute_result"
    }
   ],
   "source": [
    "routine.isnull().sum()"
   ]
  },
  {
   "cell_type": "code",
   "execution_count": null,
   "metadata": {},
   "outputs": [],
   "source": [
    "routine.to_csv('../../data/02_intermediate/routine_clean.csv', index=False)"
   ]
  }
 ],
 "metadata": {
  "kernelspec": {
   "display_name": "Python 3",
   "language": "python",
   "name": "python3"
  },
  "language_info": {
   "codemirror_mode": {
    "name": "ipython",
    "version": 3
   },
   "file_extension": ".py",
   "mimetype": "text/x-python",
   "name": "python",
   "nbconvert_exporter": "python",
   "pygments_lexer": "ipython3",
   "version": "3.7.1"
  },
  "toc": {
   "base_numbering": 1,
   "nav_menu": {},
   "number_sections": true,
   "sideBar": true,
   "skip_h1_title": false,
   "title_cell": "Table of Contents",
   "title_sidebar": "Contents",
   "toc_cell": false,
   "toc_position": {},
   "toc_section_display": true,
   "toc_window_display": false
  }
 },
 "nbformat": 4,
 "nbformat_minor": 2
}
