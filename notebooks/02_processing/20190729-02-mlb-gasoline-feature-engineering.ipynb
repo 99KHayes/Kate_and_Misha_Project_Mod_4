{
 "cells": [
  {
   "cell_type": "code",
   "execution_count": 1,
   "metadata": {},
   "outputs": [],
   "source": [
    "import matplotlib.pyplot as plt\n",
    "import pandas as pd\n",
    "import numpy as np\n",
    "import sys\n",
    "import os\n",
    "import re\n",
    "\n",
    "from functools import reduce\n",
    "\n",
    "src_dir = os.path.join(os.getcwd(), '..', '..', 'src')\n",
    "sys.path.append(src_dir)\n",
    "\n",
    "# OPTIONAL: Load the \"autoreload\" extension so that code can change\n",
    "%load_ext autoreload\n",
    "\n",
    "# OPTIONAL: always reload modules so that as you change code in src, it gets loaded\n",
    "%autoreload 2"
   ]
  },
  {
   "cell_type": "code",
   "execution_count": 2,
   "metadata": {},
   "outputs": [
    {
     "name": "stderr",
     "output_type": "stream",
     "text": [
      "/anaconda3/lib/python3.7/site-packages/IPython/core/interactiveshell.py:3020: DtypeWarning: Columns (0) have mixed types. Specify dtype option on import or set low_memory=False.\n",
      "  interactivity=interactivity, compiler=compiler, result=result)\n"
     ]
    }
   ],
   "source": [
    "routine_clean = pd.read_csv('../../data/02_intermediate/routine_clean.csv')"
   ]
  },
  {
   "cell_type": "code",
   "execution_count": 3,
   "metadata": {},
   "outputs": [],
   "source": [
    "gasoline = routine_clean.loc[routine_clean['Prod']=='Gasoline']"
   ]
  },
  {
   "cell_type": "code",
   "execution_count": 4,
   "metadata": {},
   "outputs": [],
   "source": [
    "gasoline_compliance = gasoline.loc[(gasoline['Compliance']=='Y')\n",
    "                                   |(gasoline['Compliance']=='N')]"
   ]
  },
  {
   "cell_type": "code",
   "execution_count": 5,
   "metadata": {},
   "outputs": [
    {
     "name": "stdout",
     "output_type": "stream",
     "text": [
      "Number of unique Samples in the gasoline_compliance Dataset:  20670\n"
     ]
    }
   ],
   "source": [
    "print('Number of unique Samples in the gasoline_compliance Dataset: ', len(gasoline_compliance.Sample.unique()))"
   ]
  },
  {
   "cell_type": "markdown",
   "metadata": {},
   "source": [
    "**Gasoline Tests w. Y/N Compliance** (only focusing on the bold tests moving forward) \n",
    "1.\tMotor Octane Number\n",
    "1.\tDistillation Residue\n",
    "1.\tDistillation 90%\n",
    "1.\tDistillation E.P.\n",
    "1.\tDriveability Index\n",
    "1.\tWorkmanship\n",
    "1.\tDistillation 10%\n",
    "1.\t**<font color='red'>Distillation 50%</font>**\n",
    "1.\t**<font color='red'>Vapor Pressure</font>**\n",
    "1.\t**<font color='red'>Vapor-Liquid Ratio</font>**\n",
    "1.\tAntiknock Index\n",
    "1.\tPhase Separation\n",
    "1.\tEthanol\n",
    "1.\tTotal Oxygen\n",
    "1.\tDistillation 60%\n",
    "1.\tDistillation 5%\n",
    "1.\tDistillation Loss\n",
    "1.\tResearch Octane Number\n",
    "1.\tDistillation 80%\n",
    "1.\tRelative Density\n",
    "1.\tDistillation 95%\n",
    "1.\tDistillation 20%\n",
    "1.\tMethanol\n",
    "1.\tDistillation 40%\n",
    "1.\tDistillation Recovery\n",
    "1.\tAPI Gravity"
   ]
  },
  {
   "cell_type": "code",
   "execution_count": 6,
   "metadata": {
    "scrolled": true
   },
   "outputs": [
    {
     "name": "stderr",
     "output_type": "stream",
     "text": [
      "/anaconda3/lib/python3.7/site-packages/ipykernel_launcher.py:1: SettingWithCopyWarning: \n",
      "A value is trying to be set on a copy of a slice from a DataFrame.\n",
      "Try using .loc[row_indexer,col_indexer] = value instead\n",
      "\n",
      "See the caveats in the documentation: http://pandas.pydata.org/pandas-docs/stable/indexing.html#indexing-view-versus-copy\n",
      "  \"\"\"Entry point for launching an IPython kernel.\n"
     ]
    }
   ],
   "source": [
    "gasoline_compliance['DateSampled'] = pd.to_datetime(gasoline_compliance['DateSampled'])"
   ]
  },
  {
   "cell_type": "code",
   "execution_count": 7,
   "metadata": {},
   "outputs": [
    {
     "data": {
      "text/plain": [
       "array(['Antiknock Index', 'Distillation 10%', 'Distillation 50%',\n",
       "       'Distillation 90%', 'Distillation E.P.', 'Distillation Residue',\n",
       "       'Driveability Index', 'Motor Octane Number', 'Phase Separation',\n",
       "       'Vapor Pressure', 'Vapor-Liquid Ratio', 'Workmanship', 'Ethanol',\n",
       "       'Distillation Loss', 'Total Oxygen', 'Relative Density',\n",
       "       'Distillation 5%', 'Research Octane Number', 'Distillation 60%',\n",
       "       'Distillation 20%', 'Distillation 95%', 'Distillation 80%',\n",
       "       'Distillation 40%', 'API Gravity', 'Methanol', nan,\n",
       "       'Distillation IBP', 'Distillation Recovery'], dtype=object)"
      ]
     },
     "execution_count": 7,
     "metadata": {},
     "output_type": "execute_result"
    }
   ],
   "source": [
    "gasoline_compliance.Test.unique()"
   ]
  },
  {
   "cell_type": "markdown",
   "metadata": {},
   "source": [
    "Let's reduce the number of tests to the three that we are interested in testing (Distillation 50%, Vapor Pressure, and Vapor-Liquid Ratio)"
   ]
  },
  {
   "cell_type": "code",
   "execution_count": 8,
   "metadata": {},
   "outputs": [],
   "source": [
    "gasoline_compliance = gasoline_compliance.loc[(gasoline_compliance['Test']=='Distillation 50%') \n",
    "                        | (gasoline_compliance['Test']=='Vapor Pressure') \n",
    "                        | (gasoline_compliance['Test']=='Vapor-Liquid Ratio')]"
   ]
  },
  {
   "cell_type": "code",
   "execution_count": 9,
   "metadata": {
    "scrolled": false
   },
   "outputs": [
    {
     "data": {
      "text/html": [
       "<div>\n",
       "<style scoped>\n",
       "    .dataframe tbody tr th:only-of-type {\n",
       "        vertical-align: middle;\n",
       "    }\n",
       "\n",
       "    .dataframe tbody tr th {\n",
       "        vertical-align: top;\n",
       "    }\n",
       "\n",
       "    .dataframe thead th {\n",
       "        text-align: right;\n",
       "    }\n",
       "</style>\n",
       "<table border=\"1\" class=\"dataframe\">\n",
       "  <thead>\n",
       "    <tr style=\"text-align: right;\">\n",
       "      <th></th>\n",
       "      <th>Sample</th>\n",
       "      <th>Prod</th>\n",
       "      <th>DateSampled</th>\n",
       "      <th>Grade</th>\n",
       "      <th>Supplier</th>\n",
       "      <th>FacilityName</th>\n",
       "      <th>SiteAddress</th>\n",
       "      <th>Test</th>\n",
       "      <th>Units</th>\n",
       "      <th>Method</th>\n",
       "      <th>Result</th>\n",
       "      <th>MinResult</th>\n",
       "      <th>MaxResult</th>\n",
       "      <th>Compliance</th>\n",
       "    </tr>\n",
       "  </thead>\n",
       "  <tbody>\n",
       "    <tr>\n",
       "      <th>8</th>\n",
       "      <td>61916134</td>\n",
       "      <td>Gasoline</td>\n",
       "      <td>2015-11-23</td>\n",
       "      <td>Mid Grade Unleaded</td>\n",
       "      <td>Marathon Petroleum Lp</td>\n",
       "      <td>Circle K #2723609</td>\n",
       "      <td>198 Haywood Ln \\r\\nnashville, Tn 37211</td>\n",
       "      <td>Distillation 50%</td>\n",
       "      <td>Deg. C</td>\n",
       "      <td>D86</td>\n",
       "      <td>73.3</td>\n",
       "      <td></td>\n",
       "      <td></td>\n",
       "      <td>Y</td>\n",
       "    </tr>\n",
       "    <tr>\n",
       "      <th>36</th>\n",
       "      <td>61916134</td>\n",
       "      <td>Gasoline</td>\n",
       "      <td>2015-11-23</td>\n",
       "      <td>Mid Grade Unleaded</td>\n",
       "      <td>Marathon Petroleum Lp</td>\n",
       "      <td>Circle K #2723609</td>\n",
       "      <td>198 Haywood Ln \\r\\nnashville, Tn 37211</td>\n",
       "      <td>Vapor Pressure</td>\n",
       "      <td>kPa</td>\n",
       "      <td>D5191</td>\n",
       "      <td>88.9</td>\n",
       "      <td></td>\n",
       "      <td></td>\n",
       "      <td>Y</td>\n",
       "    </tr>\n",
       "    <tr>\n",
       "      <th>37</th>\n",
       "      <td>61916134</td>\n",
       "      <td>Gasoline</td>\n",
       "      <td>2015-11-23</td>\n",
       "      <td>Mid Grade Unleaded</td>\n",
       "      <td>Marathon Petroleum Lp</td>\n",
       "      <td>Circle K #2723609</td>\n",
       "      <td>198 Haywood Ln \\r\\nnashville, Tn 37211</td>\n",
       "      <td>Vapor-Liquid Ratio</td>\n",
       "      <td>Deg. C</td>\n",
       "      <td>D5188</td>\n",
       "      <td>44.6</td>\n",
       "      <td></td>\n",
       "      <td></td>\n",
       "      <td>Y</td>\n",
       "    </tr>\n",
       "  </tbody>\n",
       "</table>\n",
       "</div>"
      ],
      "text/plain": [
       "      Sample      Prod DateSampled               Grade               Supplier  \\\n",
       "8   61916134  Gasoline  2015-11-23  Mid Grade Unleaded  Marathon Petroleum Lp   \n",
       "36  61916134  Gasoline  2015-11-23  Mid Grade Unleaded  Marathon Petroleum Lp   \n",
       "37  61916134  Gasoline  2015-11-23  Mid Grade Unleaded  Marathon Petroleum Lp   \n",
       "\n",
       "         FacilityName                             SiteAddress  \\\n",
       "8   Circle K #2723609  198 Haywood Ln \\r\\nnashville, Tn 37211   \n",
       "36  Circle K #2723609  198 Haywood Ln \\r\\nnashville, Tn 37211   \n",
       "37  Circle K #2723609  198 Haywood Ln \\r\\nnashville, Tn 37211   \n",
       "\n",
       "                  Test   Units Method Result MinResult MaxResult Compliance  \n",
       "8     Distillation 50%  Deg. C    D86   73.3                              Y  \n",
       "36      Vapor Pressure     kPa  D5191   88.9                              Y  \n",
       "37  Vapor-Liquid Ratio  Deg. C  D5188   44.6                              Y  "
      ]
     },
     "execution_count": 9,
     "metadata": {},
     "output_type": "execute_result"
    }
   ],
   "source": [
    "gasoline_compliance.head(3)"
   ]
  },
  {
   "cell_type": "markdown",
   "metadata": {},
   "source": [
    "Number of unique samples in the dataset"
   ]
  },
  {
   "cell_type": "code",
   "execution_count": 10,
   "metadata": {},
   "outputs": [
    {
     "data": {
      "text/plain": [
       "20658"
      ]
     },
     "execution_count": 10,
     "metadata": {},
     "output_type": "execute_result"
    }
   ],
   "source": [
    "len(gasoline_compliance.Sample.unique())"
   ]
  },
  {
   "cell_type": "markdown",
   "metadata": {},
   "source": [
    "### There are 144 duplicated rows in this dataset. Let's keep the first occurance. "
   ]
  },
  {
   "cell_type": "code",
   "execution_count": 11,
   "metadata": {},
   "outputs": [
    {
     "data": {
      "text/plain": [
       "144"
      ]
     },
     "execution_count": 11,
     "metadata": {},
     "output_type": "execute_result"
    }
   ],
   "source": [
    "gasoline_compliance.duplicated(subset=None, keep='first').sum()"
   ]
  },
  {
   "cell_type": "code",
   "execution_count": 12,
   "metadata": {},
   "outputs": [],
   "source": [
    "gasoline_compliance.drop_duplicates(inplace=True)"
   ]
  },
  {
   "cell_type": "code",
   "execution_count": 13,
   "metadata": {},
   "outputs": [],
   "source": [
    "gasoline_compliance.reset_index(drop=True, inplace=True)"
   ]
  },
  {
   "cell_type": "markdown",
   "metadata": {},
   "source": [
    "### Let's unstack this dataset\n",
    "\n",
    "At the moment, every sample takes up three rows (each test has it's own dataset). Let's make sure that each sample has it's own row. "
   ]
  },
  {
   "cell_type": "code",
   "execution_count": 14,
   "metadata": {},
   "outputs": [],
   "source": [
    "# create multilevel index\n",
    "gasoline_compliance.set_index(['Sample', 'Test'], inplace=True)"
   ]
  },
  {
   "cell_type": "code",
   "execution_count": 15,
   "metadata": {},
   "outputs": [],
   "source": [
    "# unstack on the inner undex (test)\n",
    "gasoline_compliance = gasoline_compliance.unstack(level=1)"
   ]
  },
  {
   "cell_type": "markdown",
   "metadata": {},
   "source": [
    "now let's save each sub-dataframe into it's own dataframe so that we can re-name the columns"
   ]
  },
  {
   "cell_type": "code",
   "execution_count": 16,
   "metadata": {},
   "outputs": [],
   "source": [
    "prod = gasoline_compliance['Prod']"
   ]
  },
  {
   "cell_type": "code",
   "execution_count": 17,
   "metadata": {},
   "outputs": [
    {
     "name": "stderr",
     "output_type": "stream",
     "text": [
      "/anaconda3/lib/python3.7/site-packages/pandas/core/frame.py:3697: SettingWithCopyWarning: \n",
      "A value is trying to be set on a copy of a slice from a DataFrame\n",
      "\n",
      "See the caveats in the documentation: http://pandas.pydata.org/pandas-docs/stable/indexing.html#indexing-view-versus-copy\n",
      "  errors=errors)\n",
      "/anaconda3/lib/python3.7/site-packages/pandas/core/frame.py:3781: SettingWithCopyWarning: \n",
      "A value is trying to be set on a copy of a slice from a DataFrame\n",
      "\n",
      "See the caveats in the documentation: http://pandas.pydata.org/pandas-docs/stable/indexing.html#indexing-view-versus-copy\n",
      "  return super(DataFrame, self).rename(**kwargs)\n"
     ]
    }
   ],
   "source": [
    "prod.drop(['Distillation 50%', 'Vapor Pressure'], inplace=True, axis=1)\n",
    "prod.reset_index(inplace=True)\n",
    "prod.rename(columns={'Vapor-Liquid Ratio':'prod'}, inplace=True)"
   ]
  },
  {
   "cell_type": "code",
   "execution_count": 18,
   "metadata": {},
   "outputs": [],
   "source": [
    "datesampled = gasoline_compliance['DateSampled']\n",
    "datesampled.drop(['Distillation 50%', 'Vapor Pressure'], inplace=True, axis=1)\n",
    "datesampled.reset_index(inplace=True)\n",
    "datesampled.rename(columns={'Vapor-Liquid Ratio':'datesampled'}, inplace=True)"
   ]
  },
  {
   "cell_type": "code",
   "execution_count": 19,
   "metadata": {},
   "outputs": [],
   "source": [
    "grade = gasoline_compliance['Grade']"
   ]
  },
  {
   "cell_type": "code",
   "execution_count": 20,
   "metadata": {},
   "outputs": [],
   "source": [
    "grade.drop(['Distillation 50%', 'Vapor Pressure'], inplace=True, axis=1)\n",
    "grade.reset_index(inplace=True)\n",
    "grade.rename(columns={'Vapor-Liquid Ratio':'grade'}, inplace=True)"
   ]
  },
  {
   "cell_type": "code",
   "execution_count": 21,
   "metadata": {},
   "outputs": [],
   "source": [
    "supplier = gasoline_compliance['Supplier']"
   ]
  },
  {
   "cell_type": "code",
   "execution_count": 22,
   "metadata": {},
   "outputs": [],
   "source": [
    "supplier.drop(['Distillation 50%', 'Vapor Pressure'], inplace=True, axis=1)\n",
    "supplier.reset_index(inplace=True)\n",
    "supplier.rename(columns={'Vapor-Liquid Ratio':'supplier'}, inplace=True)"
   ]
  },
  {
   "cell_type": "code",
   "execution_count": 23,
   "metadata": {},
   "outputs": [],
   "source": [
    "facilityname = gasoline_compliance['FacilityName']"
   ]
  },
  {
   "cell_type": "code",
   "execution_count": 24,
   "metadata": {},
   "outputs": [],
   "source": [
    "facilityname.drop(['Distillation 50%', 'Vapor Pressure'], inplace=True, axis=1)\n",
    "facilityname.reset_index(inplace=True)\n",
    "facilityname.rename(columns={'Vapor-Liquid Ratio':'facilityname'}, inplace=True)"
   ]
  },
  {
   "cell_type": "code",
   "execution_count": 25,
   "metadata": {},
   "outputs": [],
   "source": [
    "siteaddress = gasoline_compliance['SiteAddress']"
   ]
  },
  {
   "cell_type": "code",
   "execution_count": 26,
   "metadata": {},
   "outputs": [],
   "source": [
    "siteaddress.drop(['Distillation 50%', 'Vapor Pressure'], inplace=True, axis=1)\n",
    "siteaddress.reset_index(inplace=True)\n",
    "siteaddress.rename(columns={'Vapor-Liquid Ratio':'siteaddress'}, inplace=True)"
   ]
  },
  {
   "cell_type": "code",
   "execution_count": 27,
   "metadata": {},
   "outputs": [],
   "source": [
    "units = gasoline_compliance['Units']\n",
    "units.reset_index(inplace=True)\n",
    "units.rename(\n",
    "    columns={'Distillation 50%':'units_dist_50', \n",
    "             'Vapor Pressure':'units_vap_pressure', \n",
    "             'Vapor-Liquid Ratio':'units_vap_liq_pressure'}, inplace=True)\n"
   ]
  },
  {
   "cell_type": "code",
   "execution_count": 28,
   "metadata": {},
   "outputs": [],
   "source": [
    "method = gasoline_compliance['Method']"
   ]
  },
  {
   "cell_type": "code",
   "execution_count": 29,
   "metadata": {},
   "outputs": [],
   "source": [
    "method.reset_index(inplace=True)\n",
    "method.rename(\n",
    "    columns={'Distillation 50%':'method_dist_50', \n",
    "             'Vapor Pressure':'method_vap_pressure', \n",
    "             'Vapor-Liquid Ratio':'method_vap_liq_pressure'}, inplace=True)"
   ]
  },
  {
   "cell_type": "code",
   "execution_count": 30,
   "metadata": {},
   "outputs": [],
   "source": [
    "result = gasoline_compliance['Result']"
   ]
  },
  {
   "cell_type": "code",
   "execution_count": 31,
   "metadata": {},
   "outputs": [],
   "source": [
    "result.reset_index(inplace=True)\n",
    "result.rename(\n",
    "    columns={'Distillation 50%':'result_dist_50', \n",
    "             'Vapor Pressure':'result_vap_pressure', \n",
    "             'Vapor-Liquid Ratio':'result_vap_liq_pressure'}, inplace=True)"
   ]
  },
  {
   "cell_type": "code",
   "execution_count": 32,
   "metadata": {},
   "outputs": [],
   "source": [
    "minresults = gasoline_compliance['MinResult']"
   ]
  },
  {
   "cell_type": "code",
   "execution_count": 33,
   "metadata": {},
   "outputs": [],
   "source": [
    "minresults.reset_index(inplace=True)\n",
    "minresults.rename(\n",
    "    columns={'Distillation 50%':'minresults_dist_50', \n",
    "             'Vapor Pressure':'minresults_vap_pressure', \n",
    "             'Vapor-Liquid Ratio':'minresults_vap_liq_pressure'}, inplace=True)"
   ]
  },
  {
   "cell_type": "code",
   "execution_count": 34,
   "metadata": {},
   "outputs": [],
   "source": [
    "maxresults = gasoline_compliance['MaxResult']"
   ]
  },
  {
   "cell_type": "code",
   "execution_count": 35,
   "metadata": {},
   "outputs": [],
   "source": [
    "maxresults.reset_index(inplace=True)\n",
    "maxresults.rename(\n",
    "    columns={'Distillation 50%':'maxresults_dist_50', \n",
    "             'Vapor Pressure':'maxresults_vap_pressure', \n",
    "             'Vapor-Liquid Ratio':'maxresults_vap_liq_pressure'}, inplace=True)"
   ]
  },
  {
   "cell_type": "code",
   "execution_count": 36,
   "metadata": {},
   "outputs": [],
   "source": [
    "compliance = gasoline_compliance['Compliance']"
   ]
  },
  {
   "cell_type": "code",
   "execution_count": 37,
   "metadata": {},
   "outputs": [],
   "source": [
    "compliance.reset_index(inplace=True)\n",
    "compliance.rename(\n",
    "    columns={'Distillation 50%':'compliance_dist_50', \n",
    "             'Vapor Pressure':'compliance_vap_pressure', \n",
    "             'Vapor-Liquid Ratio':'compliance_vap_liq_pressure'}, inplace=True)"
   ]
  },
  {
   "cell_type": "code",
   "execution_count": 38,
   "metadata": {},
   "outputs": [],
   "source": [
    "df = [prod, datesampled, grade, supplier, facilityname, \n",
    "               siteaddress, units, method, result, minresults, maxresults, compliance]"
   ]
  },
  {
   "cell_type": "code",
   "execution_count": 39,
   "metadata": {},
   "outputs": [],
   "source": [
    "df_merged = reduce(lambda  left,right: pd.merge(left,right,on=['Sample'],\n",
    "                                            how='outer'), df)"
   ]
  },
  {
   "cell_type": "code",
   "execution_count": 40,
   "metadata": {},
   "outputs": [
    {
     "data": {
      "text/html": [
       "<div>\n",
       "<style scoped>\n",
       "    .dataframe tbody tr th:only-of-type {\n",
       "        vertical-align: middle;\n",
       "    }\n",
       "\n",
       "    .dataframe tbody tr th {\n",
       "        vertical-align: top;\n",
       "    }\n",
       "\n",
       "    .dataframe thead th {\n",
       "        text-align: right;\n",
       "    }\n",
       "</style>\n",
       "<table border=\"1\" class=\"dataframe\">\n",
       "  <thead>\n",
       "    <tr style=\"text-align: right;\">\n",
       "      <th>Test</th>\n",
       "      <th>Sample</th>\n",
       "      <th>prod</th>\n",
       "      <th>datesampled</th>\n",
       "      <th>grade</th>\n",
       "      <th>supplier</th>\n",
       "      <th>facilityname</th>\n",
       "      <th>siteaddress</th>\n",
       "      <th>units_dist_50</th>\n",
       "      <th>units_vap_pressure</th>\n",
       "      <th>units_vap_liq_pressure</th>\n",
       "      <th>...</th>\n",
       "      <th>result_vap_liq_pressure</th>\n",
       "      <th>minresults_dist_50</th>\n",
       "      <th>minresults_vap_pressure</th>\n",
       "      <th>minresults_vap_liq_pressure</th>\n",
       "      <th>maxresults_dist_50</th>\n",
       "      <th>maxresults_vap_pressure</th>\n",
       "      <th>maxresults_vap_liq_pressure</th>\n",
       "      <th>compliance_dist_50</th>\n",
       "      <th>compliance_vap_pressure</th>\n",
       "      <th>compliance_vap_liq_pressure</th>\n",
       "    </tr>\n",
       "  </thead>\n",
       "  <tbody>\n",
       "    <tr>\n",
       "      <th>0</th>\n",
       "      <td>61916134</td>\n",
       "      <td>Gasoline</td>\n",
       "      <td>2015-11-23</td>\n",
       "      <td>Mid Grade Unleaded</td>\n",
       "      <td>Marathon Petroleum Lp</td>\n",
       "      <td>Circle K #2723609</td>\n",
       "      <td>198 Haywood Ln \\r\\nnashville, Tn 37211</td>\n",
       "      <td>Deg. C</td>\n",
       "      <td>kPa</td>\n",
       "      <td>Deg. C</td>\n",
       "      <td>...</td>\n",
       "      <td>44.6</td>\n",
       "      <td></td>\n",
       "      <td></td>\n",
       "      <td></td>\n",
       "      <td></td>\n",
       "      <td></td>\n",
       "      <td></td>\n",
       "      <td>Y</td>\n",
       "      <td>Y</td>\n",
       "      <td>Y</td>\n",
       "    </tr>\n",
       "    <tr>\n",
       "      <th>1</th>\n",
       "      <td>61916135</td>\n",
       "      <td>Gasoline</td>\n",
       "      <td>2015-11-24</td>\n",
       "      <td>Regular Unleaded</td>\n",
       "      <td>NaN</td>\n",
       "      <td>Tiger Market #214</td>\n",
       "      <td>2001 8th Ave S \\r\\nnashville, Tn 37204</td>\n",
       "      <td>Deg. C</td>\n",
       "      <td>kPa</td>\n",
       "      <td>Deg. C</td>\n",
       "      <td>...</td>\n",
       "      <td>43.0</td>\n",
       "      <td></td>\n",
       "      <td></td>\n",
       "      <td></td>\n",
       "      <td></td>\n",
       "      <td></td>\n",
       "      <td></td>\n",
       "      <td>Y</td>\n",
       "      <td>Y</td>\n",
       "      <td>Y</td>\n",
       "    </tr>\n",
       "    <tr>\n",
       "      <th>2</th>\n",
       "      <td>61916136</td>\n",
       "      <td>Gasoline</td>\n",
       "      <td>2015-11-24</td>\n",
       "      <td>Mid Grade Unleaded</td>\n",
       "      <td>Tri-star Energy</td>\n",
       "      <td>Twice Daily  #8085</td>\n",
       "      <td>648 Thompson Ln \\r\\nnashville, Tn 37204</td>\n",
       "      <td>Deg. C</td>\n",
       "      <td>kPa</td>\n",
       "      <td>Deg. C</td>\n",
       "      <td>...</td>\n",
       "      <td>42.2</td>\n",
       "      <td></td>\n",
       "      <td></td>\n",
       "      <td></td>\n",
       "      <td></td>\n",
       "      <td></td>\n",
       "      <td></td>\n",
       "      <td>Y</td>\n",
       "      <td>Y</td>\n",
       "      <td>Y</td>\n",
       "    </tr>\n",
       "  </tbody>\n",
       "</table>\n",
       "<p>3 rows × 25 columns</p>\n",
       "</div>"
      ],
      "text/plain": [
       "Test    Sample      prod datesampled               grade  \\\n",
       "0     61916134  Gasoline  2015-11-23  Mid Grade Unleaded   \n",
       "1     61916135  Gasoline  2015-11-24    Regular Unleaded   \n",
       "2     61916136  Gasoline  2015-11-24  Mid Grade Unleaded   \n",
       "\n",
       "Test               supplier        facilityname  \\\n",
       "0     Marathon Petroleum Lp   Circle K #2723609   \n",
       "1                       NaN   Tiger Market #214   \n",
       "2           Tri-star Energy  Twice Daily  #8085   \n",
       "\n",
       "Test                              siteaddress units_dist_50  \\\n",
       "0      198 Haywood Ln \\r\\nnashville, Tn 37211        Deg. C   \n",
       "1      2001 8th Ave S \\r\\nnashville, Tn 37204        Deg. C   \n",
       "2     648 Thompson Ln \\r\\nnashville, Tn 37204        Deg. C   \n",
       "\n",
       "Test units_vap_pressure units_vap_liq_pressure             ...              \\\n",
       "0                   kPa                 Deg. C             ...               \n",
       "1                   kPa                 Deg. C             ...               \n",
       "2                   kPa                 Deg. C             ...               \n",
       "\n",
       "Test result_vap_liq_pressure minresults_dist_50 minresults_vap_pressure  \\\n",
       "0                       44.6                                              \n",
       "1                       43.0                                              \n",
       "2                       42.2                                              \n",
       "\n",
       "Test minresults_vap_liq_pressure maxresults_dist_50 maxresults_vap_pressure  \\\n",
       "0                                                                             \n",
       "1                                                                             \n",
       "2                                                                             \n",
       "\n",
       "Test maxresults_vap_liq_pressure compliance_dist_50 compliance_vap_pressure  \\\n",
       "0                                                 Y                       Y   \n",
       "1                                                 Y                       Y   \n",
       "2                                                 Y                       Y   \n",
       "\n",
       "Test compliance_vap_liq_pressure  \n",
       "0                              Y  \n",
       "1                              Y  \n",
       "2                              Y  \n",
       "\n",
       "[3 rows x 25 columns]"
      ]
     },
     "execution_count": 40,
     "metadata": {},
     "output_type": "execute_result"
    }
   ],
   "source": [
    "df_merged.head(3)"
   ]
  },
  {
   "cell_type": "markdown",
   "metadata": {},
   "source": [
    "### Let's try to make a dummy variable for location"
   ]
  },
  {
   "cell_type": "code",
   "execution_count": 41,
   "metadata": {},
   "outputs": [
    {
     "name": "stdout",
     "output_type": "stream",
     "text": [
      "Number of unique addresses in the dataset:  8051\n"
     ]
    }
   ],
   "source": [
    "print('Number of unique addresses in the dataset: ', len(df_merged['siteaddress'].unique()))"
   ]
  },
  {
   "cell_type": "code",
   "execution_count": 42,
   "metadata": {},
   "outputs": [
    {
     "name": "stdout",
     "output_type": "stream",
     "text": [
      "Percent of samples with missing address:  4.569658243779649\n"
     ]
    }
   ],
   "source": [
    "print('Percent of samples with missing address: ', df_merged.siteaddress.isna().sum()/len(df_merged)*100)"
   ]
  },
  {
   "cell_type": "markdown",
   "metadata": {},
   "source": [
    "#### let's make a zipcode column and then geocode the siteaddress column"
   ]
  },
  {
   "cell_type": "code",
   "execution_count": 43,
   "metadata": {},
   "outputs": [],
   "source": [
    "df_merged['str_split'] = df_merged.siteaddress.str.split('Tn')"
   ]
  },
  {
   "cell_type": "code",
   "execution_count": 44,
   "metadata": {},
   "outputs": [],
   "source": [
    "df_merged['zipcode'] = df_merged.str_split.str.get(1)"
   ]
  },
  {
   "cell_type": "code",
   "execution_count": 45,
   "metadata": {},
   "outputs": [
    {
     "name": "stdout",
     "output_type": "stream",
     "text": [
      "Percentage of zipcode column that is empty:  64.2317746151612\n"
     ]
    }
   ],
   "source": [
    "print('Percentage of zipcode column that is empty: ', df_merged.zipcode.isna().sum()/len(df_merged)*100)"
   ]
  },
  {
   "cell_type": "code",
   "execution_count": 46,
   "metadata": {},
   "outputs": [],
   "source": [
    "df_merged.drop(columns=['str_split'], inplace=True)\n",
    "df_merged['city'] = ', Tn'\n",
    "df_merged['siteaddress_city'] = df_merged['siteaddress'] + df_merged['city']\n",
    "df_merged.drop(columns=['city'], inplace=True)"
   ]
  },
  {
   "cell_type": "code",
   "execution_count": 47,
   "metadata": {},
   "outputs": [
    {
     "data": {
      "text/html": [
       "<div>\n",
       "<style scoped>\n",
       "    .dataframe tbody tr th:only-of-type {\n",
       "        vertical-align: middle;\n",
       "    }\n",
       "\n",
       "    .dataframe tbody tr th {\n",
       "        vertical-align: top;\n",
       "    }\n",
       "\n",
       "    .dataframe thead th {\n",
       "        text-align: right;\n",
       "    }\n",
       "</style>\n",
       "<table border=\"1\" class=\"dataframe\">\n",
       "  <thead>\n",
       "    <tr style=\"text-align: right;\">\n",
       "      <th>Test</th>\n",
       "      <th>Sample</th>\n",
       "      <th>prod</th>\n",
       "      <th>datesampled</th>\n",
       "      <th>grade</th>\n",
       "      <th>supplier</th>\n",
       "      <th>facilityname</th>\n",
       "      <th>siteaddress</th>\n",
       "      <th>units_dist_50</th>\n",
       "      <th>units_vap_pressure</th>\n",
       "      <th>units_vap_liq_pressure</th>\n",
       "      <th>...</th>\n",
       "      <th>minresults_vap_pressure</th>\n",
       "      <th>minresults_vap_liq_pressure</th>\n",
       "      <th>maxresults_dist_50</th>\n",
       "      <th>maxresults_vap_pressure</th>\n",
       "      <th>maxresults_vap_liq_pressure</th>\n",
       "      <th>compliance_dist_50</th>\n",
       "      <th>compliance_vap_pressure</th>\n",
       "      <th>compliance_vap_liq_pressure</th>\n",
       "      <th>zipcode</th>\n",
       "      <th>siteaddress_city</th>\n",
       "    </tr>\n",
       "  </thead>\n",
       "  <tbody>\n",
       "    <tr>\n",
       "      <th>0</th>\n",
       "      <td>61916134</td>\n",
       "      <td>Gasoline</td>\n",
       "      <td>2015-11-23</td>\n",
       "      <td>Mid Grade Unleaded</td>\n",
       "      <td>Marathon Petroleum Lp</td>\n",
       "      <td>Circle K #2723609</td>\n",
       "      <td>198 Haywood Ln \\r\\nnashville, Tn 37211</td>\n",
       "      <td>Deg. C</td>\n",
       "      <td>kPa</td>\n",
       "      <td>Deg. C</td>\n",
       "      <td>...</td>\n",
       "      <td></td>\n",
       "      <td></td>\n",
       "      <td></td>\n",
       "      <td></td>\n",
       "      <td></td>\n",
       "      <td>Y</td>\n",
       "      <td>Y</td>\n",
       "      <td>Y</td>\n",
       "      <td>37211</td>\n",
       "      <td>198 Haywood Ln \\r\\nnashville, Tn 37211, Tn</td>\n",
       "    </tr>\n",
       "    <tr>\n",
       "      <th>1</th>\n",
       "      <td>61916135</td>\n",
       "      <td>Gasoline</td>\n",
       "      <td>2015-11-24</td>\n",
       "      <td>Regular Unleaded</td>\n",
       "      <td>NaN</td>\n",
       "      <td>Tiger Market #214</td>\n",
       "      <td>2001 8th Ave S \\r\\nnashville, Tn 37204</td>\n",
       "      <td>Deg. C</td>\n",
       "      <td>kPa</td>\n",
       "      <td>Deg. C</td>\n",
       "      <td>...</td>\n",
       "      <td></td>\n",
       "      <td></td>\n",
       "      <td></td>\n",
       "      <td></td>\n",
       "      <td></td>\n",
       "      <td>Y</td>\n",
       "      <td>Y</td>\n",
       "      <td>Y</td>\n",
       "      <td>37204</td>\n",
       "      <td>2001 8th Ave S \\r\\nnashville, Tn 37204, Tn</td>\n",
       "    </tr>\n",
       "    <tr>\n",
       "      <th>2</th>\n",
       "      <td>61916136</td>\n",
       "      <td>Gasoline</td>\n",
       "      <td>2015-11-24</td>\n",
       "      <td>Mid Grade Unleaded</td>\n",
       "      <td>Tri-star Energy</td>\n",
       "      <td>Twice Daily  #8085</td>\n",
       "      <td>648 Thompson Ln \\r\\nnashville, Tn 37204</td>\n",
       "      <td>Deg. C</td>\n",
       "      <td>kPa</td>\n",
       "      <td>Deg. C</td>\n",
       "      <td>...</td>\n",
       "      <td></td>\n",
       "      <td></td>\n",
       "      <td></td>\n",
       "      <td></td>\n",
       "      <td></td>\n",
       "      <td>Y</td>\n",
       "      <td>Y</td>\n",
       "      <td>Y</td>\n",
       "      <td>37204</td>\n",
       "      <td>648 Thompson Ln \\r\\nnashville, Tn 37204, Tn</td>\n",
       "    </tr>\n",
       "    <tr>\n",
       "      <th>3</th>\n",
       "      <td>61916138</td>\n",
       "      <td>Gasoline</td>\n",
       "      <td>2015-11-24</td>\n",
       "      <td>Regular Unleaded</td>\n",
       "      <td>Mapco Express, Inc.</td>\n",
       "      <td>Mapco Express    #3195</td>\n",
       "      <td>4677 Trousdale Dr  Nashville, Tn  37204</td>\n",
       "      <td>Deg. C</td>\n",
       "      <td>kPa</td>\n",
       "      <td>Deg. C</td>\n",
       "      <td>...</td>\n",
       "      <td></td>\n",
       "      <td></td>\n",
       "      <td></td>\n",
       "      <td></td>\n",
       "      <td></td>\n",
       "      <td>Y</td>\n",
       "      <td>Y</td>\n",
       "      <td>Y</td>\n",
       "      <td>37204</td>\n",
       "      <td>4677 Trousdale Dr  Nashville, Tn  37204, Tn</td>\n",
       "    </tr>\n",
       "    <tr>\n",
       "      <th>4</th>\n",
       "      <td>61916139</td>\n",
       "      <td>Gasoline</td>\n",
       "      <td>2015-12-02</td>\n",
       "      <td>Premium Unleaded</td>\n",
       "      <td>Tri-star Energy</td>\n",
       "      <td>Top It Off Holding Inc</td>\n",
       "      <td>13016 Old Hickory Blvd \\r\\nantioch, Tn 37013</td>\n",
       "      <td>Deg. C</td>\n",
       "      <td>kPa</td>\n",
       "      <td>Deg. C</td>\n",
       "      <td>...</td>\n",
       "      <td></td>\n",
       "      <td></td>\n",
       "      <td></td>\n",
       "      <td></td>\n",
       "      <td></td>\n",
       "      <td>Y</td>\n",
       "      <td>Y</td>\n",
       "      <td>Y</td>\n",
       "      <td>37013</td>\n",
       "      <td>13016 Old Hickory Blvd \\r\\nantioch, Tn 37013, Tn</td>\n",
       "    </tr>\n",
       "  </tbody>\n",
       "</table>\n",
       "<p>5 rows × 27 columns</p>\n",
       "</div>"
      ],
      "text/plain": [
       "Test    Sample      prod datesampled               grade  \\\n",
       "0     61916134  Gasoline  2015-11-23  Mid Grade Unleaded   \n",
       "1     61916135  Gasoline  2015-11-24    Regular Unleaded   \n",
       "2     61916136  Gasoline  2015-11-24  Mid Grade Unleaded   \n",
       "3     61916138  Gasoline  2015-11-24    Regular Unleaded   \n",
       "4     61916139  Gasoline  2015-12-02    Premium Unleaded   \n",
       "\n",
       "Test               supplier            facilityname  \\\n",
       "0     Marathon Petroleum Lp       Circle K #2723609   \n",
       "1                       NaN       Tiger Market #214   \n",
       "2           Tri-star Energy      Twice Daily  #8085   \n",
       "3       Mapco Express, Inc.  Mapco Express    #3195   \n",
       "4           Tri-star Energy  Top It Off Holding Inc   \n",
       "\n",
       "Test                                   siteaddress units_dist_50  \\\n",
       "0           198 Haywood Ln \\r\\nnashville, Tn 37211        Deg. C   \n",
       "1           2001 8th Ave S \\r\\nnashville, Tn 37204        Deg. C   \n",
       "2          648 Thompson Ln \\r\\nnashville, Tn 37204        Deg. C   \n",
       "3          4677 Trousdale Dr  Nashville, Tn  37204        Deg. C   \n",
       "4     13016 Old Hickory Blvd \\r\\nantioch, Tn 37013        Deg. C   \n",
       "\n",
       "Test units_vap_pressure units_vap_liq_pressure  \\\n",
       "0                   kPa                 Deg. C   \n",
       "1                   kPa                 Deg. C   \n",
       "2                   kPa                 Deg. C   \n",
       "3                   kPa                 Deg. C   \n",
       "4                   kPa                 Deg. C   \n",
       "\n",
       "Test                        ...                         \\\n",
       "0                           ...                          \n",
       "1                           ...                          \n",
       "2                           ...                          \n",
       "3                           ...                          \n",
       "4                           ...                          \n",
       "\n",
       "Test minresults_vap_pressure minresults_vap_liq_pressure maxresults_dist_50  \\\n",
       "0                                                                             \n",
       "1                                                                             \n",
       "2                                                                             \n",
       "3                                                                             \n",
       "4                                                                             \n",
       "\n",
       "Test maxresults_vap_pressure maxresults_vap_liq_pressure compliance_dist_50  \\\n",
       "0                                                                         Y   \n",
       "1                                                                         Y   \n",
       "2                                                                         Y   \n",
       "3                                                                         Y   \n",
       "4                                                                         Y   \n",
       "\n",
       "Test compliance_vap_pressure compliance_vap_liq_pressure  zipcode  \\\n",
       "0                          Y                           Y    37211   \n",
       "1                          Y                           Y    37204   \n",
       "2                          Y                           Y    37204   \n",
       "3                          Y                           Y    37204   \n",
       "4                          Y                           Y    37013   \n",
       "\n",
       "Test                                  siteaddress_city  \n",
       "0           198 Haywood Ln \\r\\nnashville, Tn 37211, Tn  \n",
       "1           2001 8th Ave S \\r\\nnashville, Tn 37204, Tn  \n",
       "2          648 Thompson Ln \\r\\nnashville, Tn 37204, Tn  \n",
       "3          4677 Trousdale Dr  Nashville, Tn  37204, Tn  \n",
       "4     13016 Old Hickory Blvd \\r\\nantioch, Tn 37013, Tn  \n",
       "\n",
       "[5 rows x 27 columns]"
      ]
     },
     "execution_count": 47,
     "metadata": {},
     "output_type": "execute_result"
    }
   ],
   "source": [
    "df_merged.head()"
   ]
  },
  {
   "cell_type": "markdown",
   "metadata": {},
   "source": [
    "### Let's check out the target variable"
   ]
  },
  {
   "cell_type": "code",
   "execution_count": 48,
   "metadata": {},
   "outputs": [
    {
     "name": "stdout",
     "output_type": "stream",
     "text": [
      "Compliance Outcomes dist 50:  \n",
      " Y    20452\n",
      "N        3\n",
      "Name: compliance_dist_50, dtype: int64\n"
     ]
    }
   ],
   "source": [
    "print('Compliance Outcomes dist 50: ', '\\n', df_merged.compliance_dist_50.value_counts())"
   ]
  },
  {
   "cell_type": "code",
   "execution_count": 49,
   "metadata": {},
   "outputs": [
    {
     "name": "stdout",
     "output_type": "stream",
     "text": [
      "dist 50 nan count:  203\n"
     ]
    }
   ],
   "source": [
    "print('dist 50 nan count: ', df_merged.compliance_dist_50.isna().sum())"
   ]
  },
  {
   "cell_type": "code",
   "execution_count": 50,
   "metadata": {},
   "outputs": [
    {
     "name": "stdout",
     "output_type": "stream",
     "text": [
      "Compliance outcome vap liq press:  \n",
      " Y    19789\n",
      "N       74\n",
      "Name: compliance_vap_liq_pressure, dtype: int64\n"
     ]
    }
   ],
   "source": [
    "print('Compliance outcome vap liq press: ', '\\n', df_merged.compliance_vap_liq_pressure.value_counts())"
   ]
  },
  {
   "cell_type": "code",
   "execution_count": 51,
   "metadata": {},
   "outputs": [
    {
     "name": "stdout",
     "output_type": "stream",
     "text": [
      "Vap liq pressure nan count:  795\n"
     ]
    }
   ],
   "source": [
    "print('Vap liq pressure nan count: ', df_merged.compliance_vap_liq_pressure.isna().sum())"
   ]
  },
  {
   "cell_type": "code",
   "execution_count": 52,
   "metadata": {
    "scrolled": true
   },
   "outputs": [
    {
     "name": "stdout",
     "output_type": "stream",
     "text": [
      "Compliance outcome vap press:  \n",
      " Y    20169\n",
      "N      106\n",
      "Name: compliance_vap_pressure, dtype: int64\n"
     ]
    }
   ],
   "source": [
    "print('Compliance outcome vap press: ','\\n', df_merged.compliance_vap_pressure.value_counts())"
   ]
  },
  {
   "cell_type": "code",
   "execution_count": 53,
   "metadata": {},
   "outputs": [
    {
     "name": "stdout",
     "output_type": "stream",
     "text": [
      "Vap pressure nan count:  383\n"
     ]
    }
   ],
   "source": [
    "print('Vap pressure nan count: ',df_merged.compliance_vap_pressure.isna().sum())"
   ]
  },
  {
   "cell_type": "markdown",
   "metadata": {},
   "source": [
    "From our expert interview, we have determined that the nan results in the compliance rows are test results that were inconclusive. Below I have two blocks of code. \n",
    "\n",
    "Block 1: this converts the nan values to None (later if we want to better understand this catagory then we can use block 1 to encude the variable). \n",
    "\n",
    "Block 2: this drops the nan values for the target variable. This allows for analysis in the model building phase. "
   ]
  },
  {
   "cell_type": "markdown",
   "metadata": {},
   "source": [
    "Block 1: \n",
    "```python\n",
    "df_merged['compliance_dist_50'] = df_merged['compliance_dist_50'].replace(np.nan, 'None')\n",
    "df_merged['compliance_vap_liq_pressure'] = df_merged['compliance_vap_liq_pressure'].replace(np.nan, 'None')\n",
    "df_merged['compliance_vap_pressure'] = df_merged['compliance_vap_pressure'].replace(np.nan, 'None')\n",
    "```"
   ]
  },
  {
   "cell_type": "code",
   "execution_count": 54,
   "metadata": {},
   "outputs": [],
   "source": [
    "# Block 2: \n",
    "df_merged.dropna(subset=['compliance_dist_50'], inplace=True)\n",
    "df_merged.dropna(subset=['compliance_vap_pressure'], inplace=True)\n",
    "df_merged.dropna(subset=['compliance_vap_liq_pressure'], inplace=True)"
   ]
  },
  {
   "cell_type": "code",
   "execution_count": 55,
   "metadata": {},
   "outputs": [],
   "source": [
    "df_merged.to_csv('../../data/03_processed/gasoline_processed.csv', index=False)"
   ]
  }
 ],
 "metadata": {
  "kernelspec": {
   "display_name": "Python 3",
   "language": "python",
   "name": "python3"
  },
  "language_info": {
   "codemirror_mode": {
    "name": "ipython",
    "version": 3
   },
   "file_extension": ".py",
   "mimetype": "text/x-python",
   "name": "python",
   "nbconvert_exporter": "python",
   "pygments_lexer": "ipython3",
   "version": "3.7.1"
  },
  "toc": {
   "base_numbering": 1,
   "nav_menu": {},
   "number_sections": true,
   "sideBar": true,
   "skip_h1_title": false,
   "title_cell": "Table of Contents",
   "title_sidebar": "Contents",
   "toc_cell": false,
   "toc_position": {},
   "toc_section_display": true,
   "toc_window_display": false
  }
 },
 "nbformat": 4,
 "nbformat_minor": 2
}
