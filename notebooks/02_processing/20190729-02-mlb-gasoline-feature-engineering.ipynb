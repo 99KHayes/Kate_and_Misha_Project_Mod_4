{
 "cells": [
  {
   "cell_type": "code",
   "execution_count": 1,
   "metadata": {},
   "outputs": [],
   "source": [
    "import matplotlib.pyplot as plt\n",
    "import pandas as pd\n",
    "import numpy as np\n",
    "import sys\n",
    "import os\n",
    "import re\n",
    "\n",
    "from functools import reduce\n",
    "\n",
    "src_dir = os.path.join(os.getcwd(), '..', '..', 'src')\n",
    "sys.path.append(src_dir)\n",
    "\n",
    "# OPTIONAL: Load the \"autoreload\" extension so that code can change\n",
    "%load_ext autoreload\n",
    "\n",
    "# OPTIONAL: always reload modules so that as you change code in src, it gets loaded\n",
    "%autoreload 2"
   ]
  },
  {
   "cell_type": "code",
   "execution_count": 2,
   "metadata": {},
   "outputs": [
    {
     "name": "stderr",
     "output_type": "stream",
     "text": [
      "/anaconda3/lib/python3.7/site-packages/IPython/core/interactiveshell.py:3020: DtypeWarning: Columns (0) have mixed types. Specify dtype option on import or set low_memory=False.\n",
      "  interactivity=interactivity, compiler=compiler, result=result)\n"
     ]
    }
   ],
   "source": [
    "routine_clean = pd.read_csv('../../data/02_intermediate/routine_clean.csv')\n",
    "astm = pd.read_csv('../../data/01_raw/ASTM_fuel.csv')\n",
    "astm.columns = ['Date', 'TN_retailers_seasons', 'TN_distributor_seasons',\n",
    "       'vapor_liquid_minC_retail', 'distillation_50_minC _retail',\n",
    "       'distillation_50_maxC_retail', 'vapor_pressure_maxC_retail',\n",
    "       'vapor_liquid_minC_dist', 'distillation_50_minC_dist',\n",
    "       'distillation_50_maxC_dist', 'vapor_pressure_maxC_dist']"
   ]
  },
  {
   "cell_type": "markdown",
   "metadata": {},
   "source": [
    "# Let's write a function! "
   ]
  },
  {
   "cell_type": "code",
   "execution_count": 6,
   "metadata": {},
   "outputs": [],
   "source": [
    "def clean_dataset_to_intermediate(dataset):\n",
    "    gasoline = routine_clean.loc[routine_clean['Prod']=='Gasoline']\n",
    "\n",
    "    gasoline_compliance = gasoline.loc[(gasoline['Compliance']=='Y')\n",
    "                                       |(gasoline['Compliance']=='N')]\n",
    "    gasoline_compliance['DateSampled'] = pd.to_datetime(gasoline_compliance['DateSampled'])\n",
    "    # Let's reduce the number of tests to the three that we are interested in testing\n",
    "    gasoline_compliance = gasoline_compliance.loc[(gasoline_compliance['Test']=='Distillation 50%') \n",
    "                            | (gasoline_compliance['Test']=='Vapor Pressure') \n",
    "                            | (gasoline_compliance['Test']=='Vapor-Liquid Ratio')]\n",
    "    # Let's keep the first duplicates\n",
    "    gasoline_compliance.drop_duplicates(inplace=True)\n",
    "    gasoline_compliance.reset_index(drop=True, inplace=True)\n",
    "    # create multilevel index\n",
    "    gasoline_compliance.set_index(['Sample', 'Test'], inplace=True)\n",
    "    # unstack on the inner undex (test)\n",
    "    gasoline_compliance = gasoline_compliance.unstack(level=1)\n",
    "\n",
    "    prod = gasoline_compliance['Prod']\n",
    "    # let's create a dataframe for each product \n",
    "    prod.drop(['Distillation 50%', 'Vapor Pressure'], inplace=True, axis=1)\n",
    "    prod.reset_index(inplace=True)\n",
    "    prod.rename(columns={'Vapor-Liquid Ratio':'prod'}, inplace=True)\n",
    "\n",
    "    datesampled = gasoline_compliance['DateSampled']\n",
    "    datesampled.drop(['Distillation 50%', 'Vapor Pressure'], inplace=True, axis=1)\n",
    "    datesampled.reset_index(inplace=True)\n",
    "    datesampled.rename(columns={'Vapor-Liquid Ratio':'datesampled'}, inplace=True)\n",
    "\n",
    "    grade = gasoline_compliance['Grade']\n",
    "\n",
    "    grade.drop(['Distillation 50%', 'Vapor Pressure'], inplace=True, axis=1)\n",
    "    grade.reset_index(inplace=True)\n",
    "    grade.rename(columns={'Vapor-Liquid Ratio':'grade'}, inplace=True)\n",
    "\n",
    "    supplier = gasoline_compliance['Supplier']\n",
    "\n",
    "    supplier.drop(['Distillation 50%', 'Vapor Pressure'], inplace=True, axis=1)\n",
    "    supplier.reset_index(inplace=True)\n",
    "    supplier.rename(columns={'Vapor-Liquid Ratio':'supplier'}, inplace=True)\n",
    "\n",
    "    facilityname = gasoline_compliance['FacilityName']\n",
    "\n",
    "    facilityname.drop(['Distillation 50%', 'Vapor Pressure'], inplace=True, axis=1)\n",
    "    facilityname.reset_index(inplace=True)\n",
    "    facilityname.rename(columns={'Vapor-Liquid Ratio':'facilityname'}, inplace=True)\n",
    "\n",
    "    siteaddress = gasoline_compliance['SiteAddress']\n",
    "\n",
    "    siteaddress.drop(['Distillation 50%', 'Vapor Pressure'], inplace=True, axis=1)\n",
    "    siteaddress.reset_index(inplace=True)\n",
    "    siteaddress.rename(columns={'Vapor-Liquid Ratio':'siteaddress'}, inplace=True)\n",
    "\n",
    "    units = gasoline_compliance['Units']\n",
    "    units.reset_index(inplace=True)\n",
    "    units.rename(\n",
    "        columns={'Distillation 50%':'units_dist_50', \n",
    "                 'Vapor Pressure':'units_vap_pressure', \n",
    "                 'Vapor-Liquid Ratio':'units_vap_liq_pressure'}, inplace=True)\n",
    "\n",
    "    method = gasoline_compliance['Method']\n",
    "\n",
    "    method.reset_index(inplace=True)\n",
    "    method.rename(\n",
    "        columns={'Distillation 50%':'method_dist_50', \n",
    "                 'Vapor Pressure':'method_vap_pressure', \n",
    "                 'Vapor-Liquid Ratio':'method_vap_liq_pressure'}, inplace=True)\n",
    "\n",
    "    result = gasoline_compliance['Result']\n",
    "\n",
    "    result.reset_index(inplace=True)\n",
    "    result.rename(\n",
    "        columns={'Distillation 50%':'result_dist_50', \n",
    "                 'Vapor Pressure':'result_vap_pressure', \n",
    "                 'Vapor-Liquid Ratio':'result_vap_liq_pressure'}, inplace=True)\n",
    "\n",
    "    minresults = gasoline_compliance['MinResult']\n",
    "\n",
    "    minresults.reset_index(inplace=True)\n",
    "    minresults.rename(\n",
    "        columns={'Distillation 50%':'minresults_dist_50', \n",
    "                 'Vapor Pressure':'minresults_vap_pressure', \n",
    "                 'Vapor-Liquid Ratio':'minresults_vap_liq_pressure'}, inplace=True)\n",
    "\n",
    "    maxresults = gasoline_compliance['MaxResult']\n",
    "\n",
    "    maxresults.reset_index(inplace=True)\n",
    "    maxresults.rename(\n",
    "        columns={'Distillation 50%':'maxresults_dist_50', \n",
    "                 'Vapor Pressure':'maxresults_vap_pressure', \n",
    "                 'Vapor-Liquid Ratio':'maxresults_vap_liq_pressure'}, inplace=True)\n",
    "\n",
    "    compliance = gasoline_compliance['Compliance']\n",
    "\n",
    "    compliance.reset_index(inplace=True)\n",
    "    compliance.rename(\n",
    "        columns={'Distillation 50%':'compliance_dist_50', \n",
    "                 'Vapor Pressure':'compliance_vap_pressure', \n",
    "                 'Vapor-Liquid Ratio':'compliance_vap_liq_pressure'}, inplace=True)\n",
    "\n",
    "    df = [prod, datesampled, grade, supplier, facilityname, \n",
    "                   siteaddress, units, method, result, minresults, maxresults, compliance]\n",
    "\n",
    "    df_merged = reduce(lambda  left,right: pd.merge(left,right,on=['Sample'],\n",
    "                                                how='outer'), df)\n",
    "    \n",
    "    return df_merged\n"
   ]
  },
  {
   "cell_type": "code",
   "execution_count": 5,
   "metadata": {},
   "outputs": [
    {
     "data": {
      "text/plain": [
       "20658"
      ]
     },
     "execution_count": 5,
     "metadata": {},
     "output_type": "execute_result"
    }
   ],
   "source": [
    "len(df_merged)"
   ]
  },
  {
   "cell_type": "code",
   "execution_count": null,
   "metadata": {},
   "outputs": [],
   "source": []
  },
  {
   "cell_type": "code",
   "execution_count": null,
   "metadata": {},
   "outputs": [],
   "source": [
    "gasoline = routine_clean.loc[routine_clean['Prod']=='Gasoline']"
   ]
  },
  {
   "cell_type": "code",
   "execution_count": null,
   "metadata": {},
   "outputs": [],
   "source": [
    "gasoline_compliance = gasoline.loc[(gasoline['Compliance']=='Y')\n",
    "                                   |(gasoline['Compliance']=='N')]"
   ]
  },
  {
   "cell_type": "code",
   "execution_count": null,
   "metadata": {},
   "outputs": [],
   "source": [
    "print('Number of unique Samples in the gasoline_compliance Dataset: ', len(gasoline_compliance.Sample.unique()))"
   ]
  },
  {
   "cell_type": "markdown",
   "metadata": {},
   "source": [
    "**Gasoline Tests w. Y/N Compliance** (only focusing on the bold tests moving forward) \n",
    "1.\tMotor Octane Number\n",
    "1.\tDistillation Residue\n",
    "1.\tDistillation 90%\n",
    "1.\tDistillation E.P.\n",
    "1.\tDriveability Index\n",
    "1.\tWorkmanship\n",
    "1.\tDistillation 10%\n",
    "1.\t**<font color='red'>Distillation 50%</font>**\n",
    "1.\t**<font color='red'>Vapor Pressure</font>**\n",
    "1.\t**<font color='red'>Vapor-Liquid Ratio</font>**\n",
    "1.\tAntiknock Index\n",
    "1.\tPhase Separation\n",
    "1.\tEthanol\n",
    "1.\tTotal Oxygen\n",
    "1.\tDistillation 60%\n",
    "1.\tDistillation 5%\n",
    "1.\tDistillation Loss\n",
    "1.\tResearch Octane Number\n",
    "1.\tDistillation 80%\n",
    "1.\tRelative Density\n",
    "1.\tDistillation 95%\n",
    "1.\tDistillation 20%\n",
    "1.\tMethanol\n",
    "1.\tDistillation 40%\n",
    "1.\tDistillation Recovery\n",
    "1.\tAPI Gravity"
   ]
  },
  {
   "cell_type": "code",
   "execution_count": null,
   "metadata": {
    "scrolled": true
   },
   "outputs": [],
   "source": [
    "gasoline_compliance['DateSampled'] = pd.to_datetime(gasoline_compliance['DateSampled'])"
   ]
  },
  {
   "cell_type": "code",
   "execution_count": null,
   "metadata": {},
   "outputs": [],
   "source": [
    "gasoline_compliance.Test.unique()"
   ]
  },
  {
   "cell_type": "markdown",
   "metadata": {},
   "source": [
    "Let's reduce the number of tests to the three that we are interested in testing (Distillation 50%, Vapor Pressure, and Vapor-Liquid Ratio)"
   ]
  },
  {
   "cell_type": "code",
   "execution_count": null,
   "metadata": {},
   "outputs": [],
   "source": [
    "gasoline_compliance = gasoline_compliance.loc[(gasoline_compliance['Test']=='Distillation 50%') \n",
    "                        | (gasoline_compliance['Test']=='Vapor Pressure') \n",
    "                        | (gasoline_compliance['Test']=='Vapor-Liquid Ratio')]"
   ]
  },
  {
   "cell_type": "code",
   "execution_count": null,
   "metadata": {
    "scrolled": false
   },
   "outputs": [],
   "source": [
    "gasoline_compliance.head(3)"
   ]
  },
  {
   "cell_type": "markdown",
   "metadata": {},
   "source": [
    "Number of unique samples in the dataset"
   ]
  },
  {
   "cell_type": "code",
   "execution_count": null,
   "metadata": {},
   "outputs": [],
   "source": [
    "len(gasoline_compliance.Sample.unique())"
   ]
  },
  {
   "cell_type": "markdown",
   "metadata": {},
   "source": [
    "### There are 144 duplicated rows in this dataset. Let's keep the first occurance. "
   ]
  },
  {
   "cell_type": "code",
   "execution_count": null,
   "metadata": {},
   "outputs": [],
   "source": [
    "gasoline_compliance.duplicated(subset=None, keep='first').sum()"
   ]
  },
  {
   "cell_type": "code",
   "execution_count": null,
   "metadata": {},
   "outputs": [],
   "source": [
    "gasoline_compliance.drop_duplicates(inplace=True)"
   ]
  },
  {
   "cell_type": "code",
   "execution_count": null,
   "metadata": {},
   "outputs": [],
   "source": [
    "gasoline_compliance.reset_index(drop=True, inplace=True)"
   ]
  },
  {
   "cell_type": "markdown",
   "metadata": {},
   "source": [
    "### Let's unstack this dataset\n",
    "\n",
    "At the moment, every sample takes up three rows (each test has it's own dataset). Let's make sure that each sample has it's own row. "
   ]
  },
  {
   "cell_type": "code",
   "execution_count": null,
   "metadata": {},
   "outputs": [],
   "source": [
    "# create multilevel index\n",
    "gasoline_compliance.set_index(['Sample', 'Test'], inplace=True)"
   ]
  },
  {
   "cell_type": "code",
   "execution_count": null,
   "metadata": {},
   "outputs": [],
   "source": [
    "# unstack on the inner undex (test)\n",
    "gasoline_compliance = gasoline_compliance.unstack(level=1)"
   ]
  },
  {
   "cell_type": "markdown",
   "metadata": {},
   "source": [
    "now let's save each sub-dataframe into it's own dataframe so that we can re-name the columns"
   ]
  },
  {
   "cell_type": "code",
   "execution_count": null,
   "metadata": {},
   "outputs": [],
   "source": [
    "prod = gasoline_compliance['Prod']"
   ]
  },
  {
   "cell_type": "code",
   "execution_count": null,
   "metadata": {},
   "outputs": [],
   "source": [
    "prod.drop(['Distillation 50%', 'Vapor Pressure'], inplace=True, axis=1)\n",
    "prod.reset_index(inplace=True)\n",
    "prod.rename(columns={'Vapor-Liquid Ratio':'prod'}, inplace=True)"
   ]
  },
  {
   "cell_type": "code",
   "execution_count": null,
   "metadata": {},
   "outputs": [],
   "source": [
    "datesampled = gasoline_compliance['DateSampled']\n",
    "datesampled.drop(['Distillation 50%', 'Vapor Pressure'], inplace=True, axis=1)\n",
    "datesampled.reset_index(inplace=True)\n",
    "datesampled.rename(columns={'Vapor-Liquid Ratio':'datesampled'}, inplace=True)"
   ]
  },
  {
   "cell_type": "code",
   "execution_count": null,
   "metadata": {},
   "outputs": [],
   "source": [
    "grade = gasoline_compliance['Grade']"
   ]
  },
  {
   "cell_type": "code",
   "execution_count": null,
   "metadata": {},
   "outputs": [],
   "source": [
    "grade.drop(['Distillation 50%', 'Vapor Pressure'], inplace=True, axis=1)\n",
    "grade.reset_index(inplace=True)\n",
    "grade.rename(columns={'Vapor-Liquid Ratio':'grade'}, inplace=True)"
   ]
  },
  {
   "cell_type": "code",
   "execution_count": null,
   "metadata": {},
   "outputs": [],
   "source": [
    "supplier = gasoline_compliance['Supplier']"
   ]
  },
  {
   "cell_type": "code",
   "execution_count": null,
   "metadata": {},
   "outputs": [],
   "source": [
    "supplier.drop(['Distillation 50%', 'Vapor Pressure'], inplace=True, axis=1)\n",
    "supplier.reset_index(inplace=True)\n",
    "supplier.rename(columns={'Vapor-Liquid Ratio':'supplier'}, inplace=True)"
   ]
  },
  {
   "cell_type": "code",
   "execution_count": null,
   "metadata": {},
   "outputs": [],
   "source": [
    "facilityname = gasoline_compliance['FacilityName']"
   ]
  },
  {
   "cell_type": "code",
   "execution_count": null,
   "metadata": {},
   "outputs": [],
   "source": [
    "facilityname.drop(['Distillation 50%', 'Vapor Pressure'], inplace=True, axis=1)\n",
    "facilityname.reset_index(inplace=True)\n",
    "facilityname.rename(columns={'Vapor-Liquid Ratio':'facilityname'}, inplace=True)"
   ]
  },
  {
   "cell_type": "code",
   "execution_count": null,
   "metadata": {},
   "outputs": [],
   "source": [
    "siteaddress = gasoline_compliance['SiteAddress']"
   ]
  },
  {
   "cell_type": "code",
   "execution_count": null,
   "metadata": {},
   "outputs": [],
   "source": [
    "siteaddress.drop(['Distillation 50%', 'Vapor Pressure'], inplace=True, axis=1)\n",
    "siteaddress.reset_index(inplace=True)\n",
    "siteaddress.rename(columns={'Vapor-Liquid Ratio':'siteaddress'}, inplace=True)"
   ]
  },
  {
   "cell_type": "code",
   "execution_count": null,
   "metadata": {},
   "outputs": [],
   "source": [
    "units = gasoline_compliance['Units']\n",
    "units.reset_index(inplace=True)\n",
    "units.rename(\n",
    "    columns={'Distillation 50%':'units_dist_50', \n",
    "             'Vapor Pressure':'units_vap_pressure', \n",
    "             'Vapor-Liquid Ratio':'units_vap_liq_pressure'}, inplace=True)\n"
   ]
  },
  {
   "cell_type": "code",
   "execution_count": null,
   "metadata": {},
   "outputs": [],
   "source": [
    "method = gasoline_compliance['Method']"
   ]
  },
  {
   "cell_type": "code",
   "execution_count": null,
   "metadata": {},
   "outputs": [],
   "source": [
    "method.reset_index(inplace=True)\n",
    "method.rename(\n",
    "    columns={'Distillation 50%':'method_dist_50', \n",
    "             'Vapor Pressure':'method_vap_pressure', \n",
    "             'Vapor-Liquid Ratio':'method_vap_liq_pressure'}, inplace=True)"
   ]
  },
  {
   "cell_type": "code",
   "execution_count": null,
   "metadata": {},
   "outputs": [],
   "source": [
    "result = gasoline_compliance['Result']"
   ]
  },
  {
   "cell_type": "code",
   "execution_count": null,
   "metadata": {},
   "outputs": [],
   "source": [
    "result.reset_index(inplace=True)\n",
    "result.rename(\n",
    "    columns={'Distillation 50%':'result_dist_50', \n",
    "             'Vapor Pressure':'result_vap_pressure', \n",
    "             'Vapor-Liquid Ratio':'result_vap_liq_pressure'}, inplace=True)"
   ]
  },
  {
   "cell_type": "code",
   "execution_count": null,
   "metadata": {},
   "outputs": [],
   "source": [
    "minresults = gasoline_compliance['MinResult']"
   ]
  },
  {
   "cell_type": "code",
   "execution_count": null,
   "metadata": {},
   "outputs": [],
   "source": [
    "minresults.reset_index(inplace=True)\n",
    "minresults.rename(\n",
    "    columns={'Distillation 50%':'minresults_dist_50', \n",
    "             'Vapor Pressure':'minresults_vap_pressure', \n",
    "             'Vapor-Liquid Ratio':'minresults_vap_liq_pressure'}, inplace=True)"
   ]
  },
  {
   "cell_type": "code",
   "execution_count": null,
   "metadata": {},
   "outputs": [],
   "source": [
    "maxresults = gasoline_compliance['MaxResult']"
   ]
  },
  {
   "cell_type": "code",
   "execution_count": null,
   "metadata": {},
   "outputs": [],
   "source": [
    "maxresults.reset_index(inplace=True)\n",
    "maxresults.rename(\n",
    "    columns={'Distillation 50%':'maxresults_dist_50', \n",
    "             'Vapor Pressure':'maxresults_vap_pressure', \n",
    "             'Vapor-Liquid Ratio':'maxresults_vap_liq_pressure'}, inplace=True)"
   ]
  },
  {
   "cell_type": "code",
   "execution_count": null,
   "metadata": {},
   "outputs": [],
   "source": [
    "compliance = gasoline_compliance['Compliance']"
   ]
  },
  {
   "cell_type": "code",
   "execution_count": null,
   "metadata": {},
   "outputs": [],
   "source": [
    "compliance.reset_index(inplace=True)\n",
    "compliance.rename(\n",
    "    columns={'Distillation 50%':'compliance_dist_50', \n",
    "             'Vapor Pressure':'compliance_vap_pressure', \n",
    "             'Vapor-Liquid Ratio':'compliance_vap_liq_pressure'}, inplace=True)"
   ]
  },
  {
   "cell_type": "code",
   "execution_count": null,
   "metadata": {},
   "outputs": [],
   "source": [
    "df = [prod, datesampled, grade, supplier, facilityname, \n",
    "               siteaddress, units, method, result, minresults, maxresults, compliance]"
   ]
  },
  {
   "cell_type": "code",
   "execution_count": null,
   "metadata": {},
   "outputs": [],
   "source": [
    "df_merged = reduce(lambda  left,right: pd.merge(left,right,on=['Sample'],\n",
    "                                            how='outer'), df)"
   ]
  },
  {
   "cell_type": "markdown",
   "metadata": {},
   "source": [
    "### Let's try to make a dummy variable for location"
   ]
  },
  {
   "cell_type": "code",
   "execution_count": null,
   "metadata": {},
   "outputs": [],
   "source": [
    "print('Number of unique addresses in the dataset: ', len(df_merged['siteaddress'].unique()))"
   ]
  },
  {
   "cell_type": "code",
   "execution_count": null,
   "metadata": {},
   "outputs": [],
   "source": [
    "print('Percent of samples with missing address: ', df_merged.siteaddress.isna().sum()/len(df_merged)*100)"
   ]
  },
  {
   "cell_type": "markdown",
   "metadata": {},
   "source": [
    "#### let's make a zipcode column and then geocode the siteaddress column"
   ]
  },
  {
   "cell_type": "code",
   "execution_count": null,
   "metadata": {},
   "outputs": [],
   "source": [
    "# df_merged['str_split'] = df_merged.siteaddress.str.split('Tn')"
   ]
  },
  {
   "cell_type": "code",
   "execution_count": null,
   "metadata": {},
   "outputs": [],
   "source": [
    "# df_merged['zipcode'] = df_merged.str_split.str.get(1)"
   ]
  },
  {
   "cell_type": "code",
   "execution_count": null,
   "metadata": {},
   "outputs": [],
   "source": [
    "# print('Percentage of zipcode column that is empty: ', df_merged.zipcode.isna().sum()/len(df_merged)*100)"
   ]
  },
  {
   "cell_type": "code",
   "execution_count": null,
   "metadata": {},
   "outputs": [],
   "source": [
    "# df_merged.drop(columns=['str_split'], inplace=True)\n",
    "# df_merged['city'] = ', Tn'\n",
    "# df_merged['siteaddress_city'] = df_merged['siteaddress'] + df_merged['city']\n",
    "# df_merged.drop(columns=['city'], inplace=True)"
   ]
  },
  {
   "cell_type": "markdown",
   "metadata": {},
   "source": [
    "### Let's check out the target variable"
   ]
  },
  {
   "cell_type": "code",
   "execution_count": null,
   "metadata": {},
   "outputs": [],
   "source": [
    "print('Compliance Outcomes dist 50: ', '\\n', df_merged.compliance_dist_50.value_counts())"
   ]
  },
  {
   "cell_type": "code",
   "execution_count": null,
   "metadata": {},
   "outputs": [],
   "source": [
    "print('dist 50 nan count: ', df_merged.compliance_dist_50.isna().sum())"
   ]
  },
  {
   "cell_type": "code",
   "execution_count": null,
   "metadata": {},
   "outputs": [],
   "source": [
    "print('Compliance outcome vap liq press: ', '\\n', df_merged.compliance_vap_liq_pressure.value_counts())"
   ]
  },
  {
   "cell_type": "code",
   "execution_count": null,
   "metadata": {},
   "outputs": [],
   "source": [
    "print('Vap liq pressure nan count: ', df_merged.compliance_vap_liq_pressure.isna().sum())"
   ]
  },
  {
   "cell_type": "code",
   "execution_count": null,
   "metadata": {
    "scrolled": true
   },
   "outputs": [],
   "source": [
    "print('Compliance outcome vap press: ','\\n', df_merged.compliance_vap_pressure.value_counts())"
   ]
  },
  {
   "cell_type": "code",
   "execution_count": null,
   "metadata": {},
   "outputs": [],
   "source": [
    "print('Vap pressure nan count: ',df_merged.compliance_vap_pressure.isna().sum())"
   ]
  },
  {
   "cell_type": "markdown",
   "metadata": {},
   "source": [
    "From our expert interview, we have determined that the nan results in the compliance rows are test results that were inconclusive. Below I have two blocks of code. \n",
    "\n",
    "Block 1: this converts the nan values to None (later if we want to better understand this catagory then we can use block 1 to encude the variable). \n",
    "\n",
    "Block 2: this drops the nan values for the target variable. This allows for analysis in the model building phase. "
   ]
  },
  {
   "cell_type": "markdown",
   "metadata": {},
   "source": [
    "Block 1: \n",
    "```python\n",
    "df_merged['compliance_dist_50'] = df_merged['compliance_dist_50'].replace(np.nan, 'None')\n",
    "df_merged['compliance_vap_liq_pressure'] = df_merged['compliance_vap_liq_pressure'].replace(np.nan, 'None')\n",
    "df_merged['compliance_vap_pressure'] = df_merged['compliance_vap_pressure'].replace(np.nan, 'None')\n",
    "```"
   ]
  },
  {
   "cell_type": "code",
   "execution_count": null,
   "metadata": {},
   "outputs": [],
   "source": [
    "# Block 2: \n",
    "# df_merged.dropna(subset=['compliance_dist_50'], inplace=True)\n",
    "# df_merged.dropna(subset=['compliance_vap_pressure'], inplace=True)\n",
    "# df_merged.dropna(subset=['compliance_vap_liq_pressure'], inplace=True)"
   ]
  },
  {
   "cell_type": "markdown",
   "metadata": {},
   "source": [
    "How many grades of gasoline does each supplier have"
   ]
  },
  {
   "cell_type": "code",
   "execution_count": null,
   "metadata": {
    "scrolled": true
   },
   "outputs": [],
   "source": [
    "df_merged.groupby(['supplier', 'grade']).count()"
   ]
  },
  {
   "cell_type": "code",
   "execution_count": null,
   "metadata": {},
   "outputs": [],
   "source": [
    "supplier_grade = df_merged.groupby('supplier').grade.nunique().to_frame()\n",
    "supplier_grade.reset_index(inplace=True)\n",
    "print('Half of Suppliers only supply one grade of Gasoline: ', len(supplier_grade.loc[supplier_grade['grade']>1])/len(supplier_grade))"
   ]
  },
  {
   "cell_type": "code",
   "execution_count": null,
   "metadata": {},
   "outputs": [],
   "source": [
    "len(supplier_grade.loc[supplier_grade['grade']>1])/len(supplier_grade)"
   ]
  },
  {
   "cell_type": "code",
   "execution_count": null,
   "metadata": {},
   "outputs": [],
   "source": [
    "df_merged.to_csv('../../data/03_processed/gasoline_processed.csv', index=False)"
   ]
  }
 ],
 "metadata": {
  "kernelspec": {
   "display_name": "Python 3",
   "language": "python",
   "name": "python3"
  },
  "language_info": {
   "codemirror_mode": {
    "name": "ipython",
    "version": 3
   },
   "file_extension": ".py",
   "mimetype": "text/x-python",
   "name": "python",
   "nbconvert_exporter": "python",
   "pygments_lexer": "ipython3",
   "version": "3.7.1"
  },
  "toc": {
   "base_numbering": 1,
   "nav_menu": {},
   "number_sections": true,
   "sideBar": true,
   "skip_h1_title": false,
   "title_cell": "Table of Contents",
   "title_sidebar": "Contents",
   "toc_cell": false,
   "toc_position": {},
   "toc_section_display": true,
   "toc_window_display": false
  }
 },
 "nbformat": 4,
 "nbformat_minor": 2
}
